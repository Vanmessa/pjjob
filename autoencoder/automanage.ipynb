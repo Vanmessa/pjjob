{
 "cells": [
  {
   "cell_type": "code",
   "execution_count": 1,
   "metadata": {},
   "outputs": [],
   "source": [
    "import numpy as np\n",
    "import pandas as pd\n",
    "\n",
    "import tensorflow as tf\n",
    "from tensorflow.keras.layers import Dense, Input, BatchNormalization, LeakyReLU\n",
    "from tensorflow.keras.models import Model\n",
    "\n",
    "from tensorflow.keras.callbacks import ModelCheckpoint\n",
    "from tensorflow.keras.models import load_model\n",
    "from sklearn.model_selection import train_test_split\n",
    "from sklearn.preprocessing import MinMaxScaler\n",
    "\n",
    "import sqlite3\n",
    "\n",
    "import plotly.express as px\n",
    "\n",
    "import plotly\n",
    "import plotly.graph_objs as go"
   ]
  },
  {
   "cell_type": "code",
   "execution_count": 2,
   "metadata": {},
   "outputs": [
    {
     "name": "stdout",
     "output_type": "stream",
     "text": [
      "(1950, 7)\n"
     ]
    },
    {
     "data": {
      "text/html": [
       "<div>\n",
       "<style scoped>\n",
       "    .dataframe tbody tr th:only-of-type {\n",
       "        vertical-align: middle;\n",
       "    }\n",
       "\n",
       "    .dataframe tbody tr th {\n",
       "        vertical-align: top;\n",
       "    }\n",
       "\n",
       "    .dataframe thead th {\n",
       "        text-align: right;\n",
       "    }\n",
       "</style>\n",
       "<table border=\"1\" class=\"dataframe\">\n",
       "  <thead>\n",
       "    <tr style=\"text-align: right;\">\n",
       "      <th></th>\n",
       "      <th>ID user</th>\n",
       "      <th>Gender</th>\n",
       "      <th>Faculty</th>\n",
       "      <th>Major</th>\n",
       "      <th>Dormitory</th>\n",
       "      <th>Activity</th>\n",
       "      <th>Social</th>\n",
       "    </tr>\n",
       "  </thead>\n",
       "  <tbody>\n",
       "    <tr>\n",
       "      <th>0</th>\n",
       "      <td>10001</td>\n",
       "      <td>หญิง</td>\n",
       "      <td>วิทยาศาตร์</td>\n",
       "      <td>เทคโนโลยีสารสนเทศ</td>\n",
       "      <td>At Home</td>\n",
       "      <td>เล่นเกม,อ่านหนังสือ,เล่นดนตรี,ออกกำลังกาย,เล่น...</td>\n",
       "      <td>สามารถอยู่ร่วมกับเมทได้</td>\n",
       "    </tr>\n",
       "    <tr>\n",
       "      <th>1</th>\n",
       "      <td>10002</td>\n",
       "      <td>หญิง</td>\n",
       "      <td>เภสัชศาสตร์</td>\n",
       "      <td>บริบาลเภสัชกรรม</td>\n",
       "      <td>At home</td>\n",
       "      <td>อ่านหนังสือ,เล่นโซเชียล,ทำความสะอาดห้อง,ทำการบ...</td>\n",
       "      <td>ชอบอยู่คนเดียว</td>\n",
       "    </tr>\n",
       "    <tr>\n",
       "      <th>2</th>\n",
       "      <td>10003</td>\n",
       "      <td>หญิง</td>\n",
       "      <td>มัณทณศิลป์</td>\n",
       "      <td>อินทีเรีย</td>\n",
       "      <td>At home</td>\n",
       "      <td>สวดมนต์นั่งสมาธิ,เล่นโซเชียล,สร้างงานศิลปะ,ทำค...</td>\n",
       "      <td>ชอบอยู่คนเดียว</td>\n",
       "    </tr>\n",
       "    <tr>\n",
       "      <th>3</th>\n",
       "      <td>10004</td>\n",
       "      <td>หญิง</td>\n",
       "      <td>วิทยาศาตร์</td>\n",
       "      <td>วิทยาการข้อมูล</td>\n",
       "      <td>BPN</td>\n",
       "      <td>เล่นเกม,เล่นโซเชียล,ทำความสะอาดห้อง,ดูหนัง,ทำก...</td>\n",
       "      <td>ชอบอยู่คนเดียว</td>\n",
       "    </tr>\n",
       "    <tr>\n",
       "      <th>4</th>\n",
       "      <td>10005</td>\n",
       "      <td>หญิง</td>\n",
       "      <td>วิศวะกรรมศาสตร์</td>\n",
       "      <td>ธุรกิจวิศวกรรม</td>\n",
       "      <td>DHAVA PLACE</td>\n",
       "      <td>เล่นเกม,อ่านหนังสือ,สวดมนต์นั่งสมาธิ,เล่นโซเชี...</td>\n",
       "      <td>ชอบอยู่คนเดียว</td>\n",
       "    </tr>\n",
       "  </tbody>\n",
       "</table>\n",
       "</div>"
      ],
      "text/plain": [
       "   ID user Gender          Faculty              Major     Dormitory  \\\n",
       "0    10001   หญิง       วิทยาศาตร์  เทคโนโลยีสารสนเทศ       At Home   \n",
       "1    10002   หญิง      เภสัชศาสตร์    บริบาลเภสัชกรรม       At home   \n",
       "2    10003   หญิง       มัณทณศิลป์          อินทีเรีย       At home   \n",
       "3    10004   หญิง       วิทยาศาตร์     วิทยาการข้อมูล           BPN   \n",
       "4    10005   หญิง  วิศวะกรรมศาสตร์     ธุรกิจวิศวกรรม  DHAVA PLACE    \n",
       "\n",
       "                                            Activity                   Social  \n",
       "0  เล่นเกม,อ่านหนังสือ,เล่นดนตรี,ออกกำลังกาย,เล่น...  สามารถอยู่ร่วมกับเมทได้  \n",
       "1  อ่านหนังสือ,เล่นโซเชียล,ทำความสะอาดห้อง,ทำการบ...           ชอบอยู่คนเดียว  \n",
       "2  สวดมนต์นั่งสมาธิ,เล่นโซเชียล,สร้างงานศิลปะ,ทำค...           ชอบอยู่คนเดียว  \n",
       "3  เล่นเกม,เล่นโซเชียล,ทำความสะอาดห้อง,ดูหนัง,ทำก...           ชอบอยู่คนเดียว  \n",
       "4  เล่นเกม,อ่านหนังสือ,สวดมนต์นั่งสมาธิ,เล่นโซเชี...           ชอบอยู่คนเดียว  "
      ]
     },
     "execution_count": 2,
     "metadata": {},
     "output_type": "execute_result"
    }
   ],
   "source": [
    "user = pd.read_csv('Data.csv')\n",
    "\n",
    "print(user.shape)\n",
    "user.head()"
   ]
  },
  {
   "cell_type": "code",
   "execution_count": 3,
   "metadata": {},
   "outputs": [
    {
     "name": "stdout",
     "output_type": "stream",
     "text": [
      "(20144, 3)\n"
     ]
    },
    {
     "data": {
      "text/html": [
       "<div>\n",
       "<style scoped>\n",
       "    .dataframe tbody tr th:only-of-type {\n",
       "        vertical-align: middle;\n",
       "    }\n",
       "\n",
       "    .dataframe tbody tr th {\n",
       "        vertical-align: top;\n",
       "    }\n",
       "\n",
       "    .dataframe thead th {\n",
       "        text-align: right;\n",
       "    }\n",
       "</style>\n",
       "<table border=\"1\" class=\"dataframe\">\n",
       "  <thead>\n",
       "    <tr style=\"text-align: right;\">\n",
       "      <th></th>\n",
       "      <th>ID user</th>\n",
       "      <th>IDDor</th>\n",
       "      <th>rating</th>\n",
       "    </tr>\n",
       "  </thead>\n",
       "  <tbody>\n",
       "    <tr>\n",
       "      <th>0</th>\n",
       "      <td>10001</td>\n",
       "      <td>1</td>\n",
       "      <td>1</td>\n",
       "    </tr>\n",
       "    <tr>\n",
       "      <th>1</th>\n",
       "      <td>10002</td>\n",
       "      <td>2</td>\n",
       "      <td>2</td>\n",
       "    </tr>\n",
       "    <tr>\n",
       "      <th>2</th>\n",
       "      <td>10003</td>\n",
       "      <td>3</td>\n",
       "      <td>3</td>\n",
       "    </tr>\n",
       "    <tr>\n",
       "      <th>3</th>\n",
       "      <td>10004</td>\n",
       "      <td>4</td>\n",
       "      <td>4</td>\n",
       "    </tr>\n",
       "    <tr>\n",
       "      <th>4</th>\n",
       "      <td>10005</td>\n",
       "      <td>5</td>\n",
       "      <td>5</td>\n",
       "    </tr>\n",
       "  </tbody>\n",
       "</table>\n",
       "</div>"
      ],
      "text/plain": [
       "   ID user  IDDor  rating\n",
       "0    10001      1       1\n",
       "1    10002      2       2\n",
       "2    10003      3       3\n",
       "3    10004      4       4\n",
       "4    10005      5       5"
      ]
     },
     "execution_count": 3,
     "metadata": {},
     "output_type": "execute_result"
    }
   ],
   "source": [
    "rating = pd.read_csv('Rating.csv')\n",
    "\n",
    "print(rating.shape)\n",
    "rating.head()"
   ]
  },
  {
   "cell_type": "code",
   "execution_count": 4,
   "metadata": {},
   "outputs": [
    {
     "name": "stdout",
     "output_type": "stream",
     "text": [
      "(92, 3)\n"
     ]
    },
    {
     "data": {
      "text/html": [
       "<div>\n",
       "<style scoped>\n",
       "    .dataframe tbody tr th:only-of-type {\n",
       "        vertical-align: middle;\n",
       "    }\n",
       "\n",
       "    .dataframe tbody tr th {\n",
       "        vertical-align: top;\n",
       "    }\n",
       "\n",
       "    .dataframe thead th {\n",
       "        text-align: right;\n",
       "    }\n",
       "</style>\n",
       "<table border=\"1\" class=\"dataframe\">\n",
       "  <thead>\n",
       "    <tr style=\"text-align: right;\">\n",
       "      <th></th>\n",
       "      <th>IDDor</th>\n",
       "      <th>Dormitory</th>\n",
       "      <th>GenderDor</th>\n",
       "    </tr>\n",
       "  </thead>\n",
       "  <tbody>\n",
       "    <tr>\n",
       "      <th>0</th>\n",
       "      <td>1</td>\n",
       "      <td>At Home</td>\n",
       "      <td>woman</td>\n",
       "    </tr>\n",
       "    <tr>\n",
       "      <th>1</th>\n",
       "      <td>2</td>\n",
       "      <td>BPN</td>\n",
       "      <td>man/woman</td>\n",
       "    </tr>\n",
       "    <tr>\n",
       "      <th>2</th>\n",
       "      <td>3</td>\n",
       "      <td>DHAVA PLACE</td>\n",
       "      <td>man/woman</td>\n",
       "    </tr>\n",
       "    <tr>\n",
       "      <th>3</th>\n",
       "      <td>4</td>\n",
       "      <td>I place</td>\n",
       "      <td>man/woman</td>\n",
       "    </tr>\n",
       "    <tr>\n",
       "      <th>4</th>\n",
       "      <td>5</td>\n",
       "      <td>Inroom</td>\n",
       "      <td>woman</td>\n",
       "    </tr>\n",
       "  </tbody>\n",
       "</table>\n",
       "</div>"
      ],
      "text/plain": [
       "   IDDor     Dormitory  GenderDor\n",
       "0      1       At Home      woman\n",
       "1      2           BPN  man/woman\n",
       "2      3  DHAVA PLACE   man/woman\n",
       "3      4       I place  man/woman\n",
       "4      5        Inroom      woman"
      ]
     },
     "execution_count": 4,
     "metadata": {},
     "output_type": "execute_result"
    }
   ],
   "source": [
    "dor = pd.read_csv('Dormitory.csv')\n",
    "\n",
    "print(dor.shape)\n",
    "dor.head()"
   ]
  },
  {
   "cell_type": "code",
   "execution_count": 5,
   "metadata": {},
   "outputs": [],
   "source": [
    "connect = sqlite3.connect('dor_rec.sqlite3')"
   ]
  },
  {
   "cell_type": "code",
   "execution_count": 6,
   "metadata": {},
   "outputs": [
    {
     "name": "stderr",
     "output_type": "stream",
     "text": [
      "F:\\anaconda\\lib\\site-packages\\pandas\\core\\generic.py:2653: UserWarning: The spaces in these column names will not be changed. In pandas versions < 0.14, spaces were converted to underscores.\n",
      "  sql.to_sql(\n"
     ]
    }
   ],
   "source": [
    "dor.to_sql(\"dor\", connect, if_exists='fail')\n",
    "user.to_sql(\"user\", connect, if_exists='fail')\n",
    "rating.to_sql(\"rating\", connect, if_exists='fail')"
   ]
  },
  {
   "cell_type": "code",
   "execution_count": 7,
   "metadata": {},
   "outputs": [],
   "source": [
    "%load_ext sql"
   ]
  },
  {
   "cell_type": "code",
   "execution_count": 8,
   "metadata": {},
   "outputs": [],
   "source": [
    "%sql sqlite:///dor_rec.sqlite3"
   ]
  },
  {
   "cell_type": "code",
   "execution_count": 9,
   "metadata": {},
   "outputs": [
    {
     "name": "stdout",
     "output_type": "stream",
     "text": [
      " * sqlite:///dor_rec.sqlite3\n",
      "Done.\n"
     ]
    },
    {
     "data": {
      "text/html": [
       "<table>\n",
       "    <tr>\n",
       "        <th>index</th>\n",
       "        <th>ID user</th>\n",
       "        <th>IDDor</th>\n",
       "        <th>rating</th>\n",
       "    </tr>\n",
       "    <tr>\n",
       "        <td>0</td>\n",
       "        <td>10001</td>\n",
       "        <td>1</td>\n",
       "        <td>1</td>\n",
       "    </tr>\n",
       "    <tr>\n",
       "        <td>1</td>\n",
       "        <td>10002</td>\n",
       "        <td>2</td>\n",
       "        <td>2</td>\n",
       "    </tr>\n",
       "    <tr>\n",
       "        <td>2</td>\n",
       "        <td>10003</td>\n",
       "        <td>3</td>\n",
       "        <td>3</td>\n",
       "    </tr>\n",
       "    <tr>\n",
       "        <td>3</td>\n",
       "        <td>10004</td>\n",
       "        <td>4</td>\n",
       "        <td>4</td>\n",
       "    </tr>\n",
       "    <tr>\n",
       "        <td>4</td>\n",
       "        <td>10005</td>\n",
       "        <td>5</td>\n",
       "        <td>5</td>\n",
       "    </tr>\n",
       "</table>"
      ],
      "text/plain": [
       "[(0, 10001, 1, 1),\n",
       " (1, 10002, 2, 2),\n",
       " (2, 10003, 3, 3),\n",
       " (3, 10004, 4, 4),\n",
       " (4, 10005, 5, 5)]"
      ]
     },
     "execution_count": 9,
     "metadata": {},
     "output_type": "execute_result"
    }
   ],
   "source": [
    "%sql SELECT * FROM rating LIMIT 5"
   ]
  },
  {
   "cell_type": "code",
   "execution_count": 10,
   "metadata": {},
   "outputs": [
    {
     "name": "stdout",
     "output_type": "stream",
     "text": [
      " * sqlite:///dor_rec.sqlite3\n",
      "Done.\n"
     ]
    },
    {
     "data": {
      "text/html": [
       "<table>\n",
       "    <tr>\n",
       "        <th>index</th>\n",
       "        <th>IDDor</th>\n",
       "        <th>Dormitory</th>\n",
       "        <th>GenderDor</th>\n",
       "    </tr>\n",
       "    <tr>\n",
       "        <td>0</td>\n",
       "        <td>1</td>\n",
       "        <td>At Home</td>\n",
       "        <td>woman</td>\n",
       "    </tr>\n",
       "    <tr>\n",
       "        <td>1</td>\n",
       "        <td>2</td>\n",
       "        <td>BPN</td>\n",
       "        <td>man/woman</td>\n",
       "    </tr>\n",
       "    <tr>\n",
       "        <td>2</td>\n",
       "        <td>3</td>\n",
       "        <td>DHAVA PLACE </td>\n",
       "        <td>man/woman</td>\n",
       "    </tr>\n",
       "    <tr>\n",
       "        <td>3</td>\n",
       "        <td>4</td>\n",
       "        <td>I place</td>\n",
       "        <td>man/woman</td>\n",
       "    </tr>\n",
       "    <tr>\n",
       "        <td>4</td>\n",
       "        <td>5</td>\n",
       "        <td>Inroom</td>\n",
       "        <td>woman</td>\n",
       "    </tr>\n",
       "</table>"
      ],
      "text/plain": [
       "[(0, 1, 'At Home', 'woman'),\n",
       " (1, 2, 'BPN', 'man/woman'),\n",
       " (2, 3, 'DHAVA PLACE ', 'man/woman'),\n",
       " (3, 4, 'I place', 'man/woman'),\n",
       " (4, 5, 'Inroom', 'woman')]"
      ]
     },
     "execution_count": 10,
     "metadata": {},
     "output_type": "execute_result"
    }
   ],
   "source": [
    "%sql SELECT * FROM dor LIMIT 5"
   ]
  },
  {
   "cell_type": "code",
   "execution_count": 11,
   "metadata": {},
   "outputs": [
    {
     "name": "stdout",
     "output_type": "stream",
     "text": [
      " * sqlite:///dor_rec.sqlite3\n",
      "Done.\n"
     ]
    },
    {
     "data": {
      "text/html": [
       "<table>\n",
       "    <tr>\n",
       "        <th>index</th>\n",
       "        <th>ID user</th>\n",
       "        <th>Gender</th>\n",
       "        <th>Faculty</th>\n",
       "        <th>Major</th>\n",
       "        <th>Dormitory</th>\n",
       "        <th>Activity</th>\n",
       "        <th>Social</th>\n",
       "    </tr>\n",
       "    <tr>\n",
       "        <td>0</td>\n",
       "        <td>10001</td>\n",
       "        <td>หญิง</td>\n",
       "        <td>วิทยาศาตร์</td>\n",
       "        <td>เทคโนโลยีสารสนเทศ</td>\n",
       "        <td>At Home</td>\n",
       "        <td>เล่นเกม,อ่านหนังสือ,เล่นดนตรี,ออกกำลังกาย,เล่นโซเชียล,ดูหนัง</td>\n",
       "        <td>สามารถอยู่ร่วมกับเมทได้</td>\n",
       "    </tr>\n",
       "    <tr>\n",
       "        <td>1</td>\n",
       "        <td>10002</td>\n",
       "        <td>หญิง</td>\n",
       "        <td>เภสัชศาสตร์</td>\n",
       "        <td>บริบาลเภสัชกรรม</td>\n",
       "        <td>At home</td>\n",
       "        <td>อ่านหนังสือ,เล่นโซเชียล,ทำความสะอาดห้อง,ทำการบ้าน,นอนเล่น</td>\n",
       "        <td>ชอบอยู่คนเดียว</td>\n",
       "    </tr>\n",
       "    <tr>\n",
       "        <td>2</td>\n",
       "        <td>10003</td>\n",
       "        <td>หญิง</td>\n",
       "        <td>มัณทณศิลป์</td>\n",
       "        <td>อินทีเรีย</td>\n",
       "        <td>At home</td>\n",
       "        <td>สวดมนต์นั่งสมาธิ,เล่นโซเชียล,สร้างงานศิลปะ,ทำความสะอาดห้อง,ทำการบ้าน,นอนเล่น</td>\n",
       "        <td>ชอบอยู่คนเดียว</td>\n",
       "    </tr>\n",
       "    <tr>\n",
       "        <td>3</td>\n",
       "        <td>10004</td>\n",
       "        <td>หญิง</td>\n",
       "        <td>วิทยาศาตร์</td>\n",
       "        <td>วิทยาการข้อมูล</td>\n",
       "        <td>BPN</td>\n",
       "        <td>เล่นเกม,เล่นโซเชียล,ทำความสะอาดห้อง,ดูหนัง,ทำการบ้าน,นอนเล่น</td>\n",
       "        <td>ชอบอยู่คนเดียว</td>\n",
       "    </tr>\n",
       "    <tr>\n",
       "        <td>4</td>\n",
       "        <td>10005</td>\n",
       "        <td>หญิง</td>\n",
       "        <td>วิศวะกรรมศาสตร์</td>\n",
       "        <td>ธุรกิจวิศวกรรม</td>\n",
       "        <td>DHAVA PLACE </td>\n",
       "        <td>เล่นเกม,อ่านหนังสือ,สวดมนต์นั่งสมาธิ,เล่นโซเชียล,สร้างงานศิลปะ,ทำอาหาร,ทำความสะอาดห้อง,ดูหนัง,ทำการบ้าน,นอน</td>\n",
       "        <td>ชอบอยู่คนเดียว</td>\n",
       "    </tr>\n",
       "</table>"
      ],
      "text/plain": [
       "[(0, 10001, 'หญิง', 'วิทยาศาตร์', 'เทคโนโลยีสารสนเทศ', 'At Home', 'เล่นเกม,อ่านหนังสือ,เล่นดนตรี,ออกกำลังกาย,เล่นโซเชียล,ดูหนัง', 'สามารถอยู่ร่วมกับเมทได้'),\n",
       " (1, 10002, 'หญิง', 'เภสัชศาสตร์', 'บริบาลเภสัชกรรม', 'At home', 'อ่านหนังสือ,เล่นโซเชียล,ทำความสะอาดห้อง,ทำการบ้าน,นอนเล่น', 'ชอบอยู่คนเดียว'),\n",
       " (2, 10003, 'หญิง', 'มัณทณศิลป์', 'อินทีเรีย', 'At home', 'สวดมนต์นั่งสมาธิ,เล่นโซเชียล,สร้างงานศิลปะ,ทำความสะอาดห้อง,ทำการบ้าน,นอนเล่น', 'ชอบอยู่คนเดียว'),\n",
       " (3, 10004, 'หญิง', 'วิทยาศาตร์', 'วิทยาการข้อมูล', 'BPN', 'เล่นเกม,เล่นโซเชียล,ทำความสะอาดห้อง,ดูหนัง,ทำการบ้าน,นอนเล่น', 'ชอบอยู่คนเดียว'),\n",
       " (4, 10005, 'หญิง', 'วิศวะกรรมศาสตร์', 'ธุรกิจวิศวกรรม', 'DHAVA PLACE ', 'เล่นเกม,อ่านหนังสือ,สวดมนต์นั่งสมาธิ,เล่นโซเชียล,สร้างงานศิลปะ,ทำอาหาร,ทำความสะอาดห้อง,ดูหนัง,ทำการบ้าน,นอน', 'ชอบอยู่คนเดียว')]"
      ]
     },
     "execution_count": 11,
     "metadata": {},
     "output_type": "execute_result"
    }
   ],
   "source": [
    "%sql SELECT * FROM user LIMIT 5"
   ]
  },
  {
   "cell_type": "code",
   "execution_count": 12,
   "metadata": {},
   "outputs": [
    {
     "name": "stdout",
     "output_type": "stream",
     "text": [
      " * sqlite:///dor_rec.sqlite3\n",
      "Done.\n"
     ]
    },
    {
     "data": {
      "text/plain": [
       "[]"
      ]
     },
     "execution_count": 12,
     "metadata": {},
     "output_type": "execute_result"
    }
   ],
   "source": [
    "%%sql\n",
    "CREATE TABLE rating_dor AS SELECT rating.\"ID user\" AS UserID , rating.IDDor, rating.\"rating\" AS DorRating, dor.Dormitory\n",
    "FROM rating \n",
    "INNER JOIN dor\n",
    "ON rating.IDDor = dor.IDDor"
   ]
  },
  {
   "cell_type": "code",
   "execution_count": 13,
   "metadata": {},
   "outputs": [
    {
     "name": "stdout",
     "output_type": "stream",
     "text": [
      " * sqlite:///dor_rec.sqlite3\n",
      "Done.\n"
     ]
    },
    {
     "data": {
      "text/html": [
       "<table>\n",
       "    <tr>\n",
       "        <th>UserID</th>\n",
       "        <th>IDDor</th>\n",
       "        <th>DorRating</th>\n",
       "        <th>Dormitory</th>\n",
       "    </tr>\n",
       "    <tr>\n",
       "        <td>10001</td>\n",
       "        <td>1</td>\n",
       "        <td>1</td>\n",
       "        <td>At Home</td>\n",
       "    </tr>\n",
       "    <tr>\n",
       "        <td>10002</td>\n",
       "        <td>2</td>\n",
       "        <td>2</td>\n",
       "        <td>BPN</td>\n",
       "    </tr>\n",
       "    <tr>\n",
       "        <td>10003</td>\n",
       "        <td>3</td>\n",
       "        <td>3</td>\n",
       "        <td>DHAVA PLACE </td>\n",
       "    </tr>\n",
       "    <tr>\n",
       "        <td>10004</td>\n",
       "        <td>4</td>\n",
       "        <td>4</td>\n",
       "        <td>I place</td>\n",
       "    </tr>\n",
       "    <tr>\n",
       "        <td>10005</td>\n",
       "        <td>5</td>\n",
       "        <td>5</td>\n",
       "        <td>Inroom</td>\n",
       "    </tr>\n",
       "</table>"
      ],
      "text/plain": [
       "[(10001, 1, 1, 'At Home'),\n",
       " (10002, 2, 2, 'BPN'),\n",
       " (10003, 3, 3, 'DHAVA PLACE '),\n",
       " (10004, 4, 4, 'I place'),\n",
       " (10005, 5, 5, 'Inroom')]"
      ]
     },
     "execution_count": 13,
     "metadata": {},
     "output_type": "execute_result"
    }
   ],
   "source": [
    "%%sql\n",
    "SELECT * FROM rating_dor LIMIT 5"
   ]
  },
  {
   "cell_type": "code",
   "execution_count": 14,
   "metadata": {},
   "outputs": [
    {
     "name": "stdout",
     "output_type": "stream",
     "text": [
      " * sqlite:///dor_rec.sqlite3\n",
      "Done.\n"
     ]
    },
    {
     "data": {
      "text/html": [
       "<table>\n",
       "    <tr>\n",
       "        <th>count(*)</th>\n",
       "    </tr>\n",
       "    <tr>\n",
       "        <td>20144</td>\n",
       "    </tr>\n",
       "</table>"
      ],
      "text/plain": [
       "[(20144,)]"
      ]
     },
     "execution_count": 14,
     "metadata": {},
     "output_type": "execute_result"
    }
   ],
   "source": [
    "%%sql\n",
    "SELECT count(*) FROM rating_dor"
   ]
  },
  {
   "cell_type": "code",
   "execution_count": 15,
   "metadata": {},
   "outputs": [
    {
     "name": "stdout",
     "output_type": "stream",
     "text": [
      " * sqlite:///dor_rec.sqlite3\n",
      "Done.\n"
     ]
    },
    {
     "data": {
      "text/plain": [
       "[]"
      ]
     },
     "execution_count": 15,
     "metadata": {},
     "output_type": "execute_result"
    }
   ],
   "source": [
    "%%sql\n",
    "CREATE TABLE rating_count AS SELECT \"Dormitory\", count(*) as RatingCountDor FROM rating_dor GROUP BY \"Dormitory\""
   ]
  },
  {
   "cell_type": "code",
   "execution_count": 16,
   "metadata": {},
   "outputs": [
    {
     "name": "stdout",
     "output_type": "stream",
     "text": [
      " * sqlite:///dor_rec.sqlite3\n",
      "Done.\n"
     ]
    },
    {
     "data": {
      "text/html": [
       "<table>\n",
       "    <tr>\n",
       "        <th>Dormitory</th>\n",
       "        <th>RatingCountDor</th>\n",
       "    </tr>\n",
       "    <tr>\n",
       "        <td>At Home</td>\n",
       "        <td>219</td>\n",
       "    </tr>\n",
       "    <tr>\n",
       "        <td>BPN</td>\n",
       "        <td>229</td>\n",
       "    </tr>\n",
       "    <tr>\n",
       "        <td>DHAVA PLACE </td>\n",
       "        <td>234</td>\n",
       "    </tr>\n",
       "    <tr>\n",
       "        <td>I place</td>\n",
       "        <td>238</td>\n",
       "    </tr>\n",
       "    <tr>\n",
       "        <td>Inroom</td>\n",
       "        <td>213</td>\n",
       "    </tr>\n",
       "</table>"
      ],
      "text/plain": [
       "[('At Home', 219),\n",
       " ('BPN', 229),\n",
       " ('DHAVA PLACE ', 234),\n",
       " ('I place', 238),\n",
       " ('Inroom', 213)]"
      ]
     },
     "execution_count": 16,
     "metadata": {},
     "output_type": "execute_result"
    }
   ],
   "source": [
    "%%sql\n",
    "SELECT * from rating_count limit 5"
   ]
  },
  {
   "cell_type": "code",
   "execution_count": 17,
   "metadata": {},
   "outputs": [
    {
     "name": "stdout",
     "output_type": "stream",
     "text": [
      " * sqlite:///dor_rec.sqlite3\n",
      "Done.\n"
     ]
    },
    {
     "data": {
      "text/html": [
       "<table>\n",
       "    <tr>\n",
       "        <th>count(*)</th>\n",
       "    </tr>\n",
       "    <tr>\n",
       "        <td>92</td>\n",
       "    </tr>\n",
       "</table>"
      ],
      "text/plain": [
       "[(92,)]"
      ]
     },
     "execution_count": 17,
     "metadata": {},
     "output_type": "execute_result"
    }
   ],
   "source": [
    "%%sql\n",
    "SELECT count(*) FROM rating_count"
   ]
  },
  {
   "cell_type": "code",
   "execution_count": 18,
   "metadata": {},
   "outputs": [],
   "source": [
    "rating_coun_threshold = 200"
   ]
  },
  {
   "cell_type": "code",
   "execution_count": 19,
   "metadata": {},
   "outputs": [
    {
     "name": "stdout",
     "output_type": "stream",
     "text": [
      " * sqlite:///dor_rec.sqlite3\n",
      "Done.\n"
     ]
    },
    {
     "data": {
      "text/plain": [
       "[]"
      ]
     },
     "execution_count": 19,
     "metadata": {},
     "output_type": "execute_result"
    }
   ],
   "source": [
    "%%sql\n",
    "CREATE TABLE rating_count_filter2 AS SELECT * FROM rating_count WHERE RatingCountDor >= :rating_coun_threshold"
   ]
  },
  {
   "cell_type": "code",
   "execution_count": 20,
   "metadata": {},
   "outputs": [
    {
     "name": "stdout",
     "output_type": "stream",
     "text": [
      " * sqlite:///dor_rec.sqlite3\n",
      "Done.\n"
     ]
    },
    {
     "data": {
      "text/html": [
       "<table>\n",
       "    <tr>\n",
       "        <th>Dormitory</th>\n",
       "        <th>RatingCountDor</th>\n",
       "    </tr>\n",
       "    <tr>\n",
       "        <td>At Home</td>\n",
       "        <td>219</td>\n",
       "    </tr>\n",
       "    <tr>\n",
       "        <td>BPN</td>\n",
       "        <td>229</td>\n",
       "    </tr>\n",
       "    <tr>\n",
       "        <td>DHAVA PLACE </td>\n",
       "        <td>234</td>\n",
       "    </tr>\n",
       "    <tr>\n",
       "        <td>I place</td>\n",
       "        <td>238</td>\n",
       "    </tr>\n",
       "    <tr>\n",
       "        <td>Inroom</td>\n",
       "        <td>213</td>\n",
       "    </tr>\n",
       "</table>"
      ],
      "text/plain": [
       "[('At Home', 219),\n",
       " ('BPN', 229),\n",
       " ('DHAVA PLACE ', 234),\n",
       " ('I place', 238),\n",
       " ('Inroom', 213)]"
      ]
     },
     "execution_count": 20,
     "metadata": {},
     "output_type": "execute_result"
    }
   ],
   "source": [
    "%%sql\n",
    "SELECT * FROM rating_count_filter2 LIMIT 5"
   ]
  },
  {
   "cell_type": "code",
   "execution_count": 21,
   "metadata": {},
   "outputs": [
    {
     "name": "stdout",
     "output_type": "stream",
     "text": [
      " * sqlite:///dor_rec.sqlite3\n",
      "Done.\n"
     ]
    },
    {
     "data": {
      "text/html": [
       "<table>\n",
       "    <tr>\n",
       "        <th>count(*)</th>\n",
       "    </tr>\n",
       "    <tr>\n",
       "        <td>84</td>\n",
       "    </tr>\n",
       "</table>"
      ],
      "text/plain": [
       "[(84,)]"
      ]
     },
     "execution_count": 21,
     "metadata": {},
     "output_type": "execute_result"
    }
   ],
   "source": [
    "%%sql\n",
    "SELECT count(*) FROM rating_count_filter2"
   ]
  },
  {
   "cell_type": "code",
   "execution_count": 22,
   "metadata": {},
   "outputs": [
    {
     "name": "stdout",
     "output_type": "stream",
     "text": [
      " * sqlite:///dor_rec.sqlite3\n",
      "Done.\n"
     ]
    },
    {
     "data": {
      "text/plain": [
       "[]"
      ]
     },
     "execution_count": 22,
     "metadata": {},
     "output_type": "execute_result"
    }
   ],
   "source": [
    "%%sql\n",
    "CREATE TABLE user_rating AS SELECT rating_dor.UserID, rating_dor.IDDor, rating_dor.DorRating, rating_dor.Dormitory, rating_count_filter2.RatingCountDor\n",
    "FROM rating_count_filter2 \n",
    "LEFT JOIN rating_dor\n",
    "ON rating_count_filter2.Dormitory = rating_dor.Dormitory"
   ]
  },
  {
   "cell_type": "code",
   "execution_count": 23,
   "metadata": {},
   "outputs": [
    {
     "name": "stdout",
     "output_type": "stream",
     "text": [
      " * sqlite:///dor_rec.sqlite3\n",
      "Done.\n"
     ]
    },
    {
     "data": {
      "text/html": [
       "<table>\n",
       "    <tr>\n",
       "        <th>UserID</th>\n",
       "        <th>IDDor</th>\n",
       "        <th>DorRating</th>\n",
       "        <th>Dormitory</th>\n",
       "        <th>RatingCountDor</th>\n",
       "    </tr>\n",
       "    <tr>\n",
       "        <td>10001</td>\n",
       "        <td>1</td>\n",
       "        <td>1</td>\n",
       "        <td>At Home</td>\n",
       "        <td>219</td>\n",
       "    </tr>\n",
       "    <tr>\n",
       "        <td>10005</td>\n",
       "        <td>1</td>\n",
       "        <td>2</td>\n",
       "        <td>At Home</td>\n",
       "        <td>219</td>\n",
       "    </tr>\n",
       "    <tr>\n",
       "        <td>10006</td>\n",
       "        <td>1</td>\n",
       "        <td>5</td>\n",
       "        <td>At Home</td>\n",
       "        <td>219</td>\n",
       "    </tr>\n",
       "    <tr>\n",
       "        <td>10016</td>\n",
       "        <td>1</td>\n",
       "        <td>5</td>\n",
       "        <td>At Home</td>\n",
       "        <td>219</td>\n",
       "    </tr>\n",
       "    <tr>\n",
       "        <td>10035</td>\n",
       "        <td>1</td>\n",
       "        <td>1</td>\n",
       "        <td>At Home</td>\n",
       "        <td>219</td>\n",
       "    </tr>\n",
       "</table>"
      ],
      "text/plain": [
       "[(10001, 1, 1, 'At Home', 219),\n",
       " (10005, 1, 2, 'At Home', 219),\n",
       " (10006, 1, 5, 'At Home', 219),\n",
       " (10016, 1, 5, 'At Home', 219),\n",
       " (10035, 1, 1, 'At Home', 219)]"
      ]
     },
     "execution_count": 23,
     "metadata": {},
     "output_type": "execute_result"
    }
   ],
   "source": [
    "%%sql\n",
    "SELECT * FROM user_rating LIMIT 5"
   ]
  },
  {
   "cell_type": "code",
   "execution_count": 24,
   "metadata": {},
   "outputs": [
    {
     "name": "stdout",
     "output_type": "stream",
     "text": [
      " * sqlite:///dor_rec.sqlite3\n",
      "Done.\n"
     ]
    },
    {
     "data": {
      "text/html": [
       "<table>\n",
       "    <tr>\n",
       "        <th>count(*)</th>\n",
       "    </tr>\n",
       "    <tr>\n",
       "        <td>18607</td>\n",
       "    </tr>\n",
       "</table>"
      ],
      "text/plain": [
       "[(18607,)]"
      ]
     },
     "execution_count": 24,
     "metadata": {},
     "output_type": "execute_result"
    }
   ],
   "source": [
    "%%sql\n",
    "SELECT count(*) FROM user_rating"
   ]
  },
  {
   "cell_type": "code",
   "execution_count": 25,
   "metadata": {},
   "outputs": [
    {
     "name": "stdout",
     "output_type": "stream",
     "text": [
      " * sqlite:///dor_rec.sqlite3\n",
      "Done.\n"
     ]
    },
    {
     "data": {
      "text/plain": [
       "[]"
      ]
     },
     "execution_count": 25,
     "metadata": {},
     "output_type": "execute_result"
    }
   ],
   "source": [
    "%%sql\n",
    "CREATE TABLE user_count AS SELECT UserID, count(*) as RatingCountDor FROM user_rating GROUP BY UserID\n"
   ]
  },
  {
   "cell_type": "code",
   "execution_count": 26,
   "metadata": {},
   "outputs": [
    {
     "name": "stdout",
     "output_type": "stream",
     "text": [
      " * sqlite:///dor_rec.sqlite3\n",
      "Done.\n"
     ]
    },
    {
     "data": {
      "text/html": [
       "<table>\n",
       "    <tr>\n",
       "        <th>UserID</th>\n",
       "        <th>RatingCountDor</th>\n",
       "    </tr>\n",
       "    <tr>\n",
       "        <td>10001</td>\n",
       "        <td>8</td>\n",
       "    </tr>\n",
       "    <tr>\n",
       "        <td>10002</td>\n",
       "        <td>10</td>\n",
       "    </tr>\n",
       "    <tr>\n",
       "        <td>10003</td>\n",
       "        <td>10</td>\n",
       "    </tr>\n",
       "    <tr>\n",
       "        <td>10004</td>\n",
       "        <td>8</td>\n",
       "    </tr>\n",
       "    <tr>\n",
       "        <td>10005</td>\n",
       "        <td>13</td>\n",
       "    </tr>\n",
       "</table>"
      ],
      "text/plain": [
       "[(10001, 8), (10002, 10), (10003, 10), (10004, 8), (10005, 13)]"
      ]
     },
     "execution_count": 26,
     "metadata": {},
     "output_type": "execute_result"
    }
   ],
   "source": [
    "%%sql\n",
    "SELECT * FROM user_count LIMIT 5"
   ]
  },
  {
   "cell_type": "code",
   "execution_count": 27,
   "metadata": {},
   "outputs": [
    {
     "name": "stdout",
     "output_type": "stream",
     "text": [
      " * sqlite:///dor_rec.sqlite3\n",
      "Done.\n"
     ]
    },
    {
     "data": {
      "text/html": [
       "<table>\n",
       "    <tr>\n",
       "        <th>count(*)</th>\n",
       "    </tr>\n",
       "    <tr>\n",
       "        <td>1950</td>\n",
       "    </tr>\n",
       "</table>"
      ],
      "text/plain": [
       "[(1950,)]"
      ]
     },
     "execution_count": 27,
     "metadata": {},
     "output_type": "execute_result"
    }
   ],
   "source": [
    "%%sql\n",
    "SELECT count(*) FROM user_count"
   ]
  },
  {
   "cell_type": "code",
   "execution_count": 28,
   "metadata": {},
   "outputs": [],
   "source": [
    "user_count_filter_threshold = 10"
   ]
  },
  {
   "cell_type": "code",
   "execution_count": 29,
   "metadata": {},
   "outputs": [
    {
     "name": "stdout",
     "output_type": "stream",
     "text": [
      " * sqlite:///dor_rec.sqlite3\n",
      "Done.\n"
     ]
    },
    {
     "data": {
      "text/plain": [
       "[]"
      ]
     },
     "execution_count": 29,
     "metadata": {},
     "output_type": "execute_result"
    }
   ],
   "source": [
    "%%sql\n",
    "CREATE TABLE user_count_filter2 AS SELECT * FROM user_count WHERE RatingCountDor >= :user_count_filter_threshold"
   ]
  },
  {
   "cell_type": "code",
   "execution_count": 30,
   "metadata": {},
   "outputs": [
    {
     "name": "stdout",
     "output_type": "stream",
     "text": [
      " * sqlite:///dor_rec.sqlite3\n",
      "Done.\n"
     ]
    },
    {
     "data": {
      "text/html": [
       "<table>\n",
       "    <tr>\n",
       "        <th>UserID</th>\n",
       "        <th>RatingCountDor</th>\n",
       "    </tr>\n",
       "    <tr>\n",
       "        <td>10002</td>\n",
       "        <td>10</td>\n",
       "    </tr>\n",
       "    <tr>\n",
       "        <td>10003</td>\n",
       "        <td>10</td>\n",
       "    </tr>\n",
       "    <tr>\n",
       "        <td>10005</td>\n",
       "        <td>13</td>\n",
       "    </tr>\n",
       "    <tr>\n",
       "        <td>10009</td>\n",
       "        <td>10</td>\n",
       "    </tr>\n",
       "    <tr>\n",
       "        <td>10010</td>\n",
       "        <td>10</td>\n",
       "    </tr>\n",
       "</table>"
      ],
      "text/plain": [
       "[(10002, 10), (10003, 10), (10005, 13), (10009, 10), (10010, 10)]"
      ]
     },
     "execution_count": 30,
     "metadata": {},
     "output_type": "execute_result"
    }
   ],
   "source": [
    "%%sql\n",
    "SELECT * FROM user_count_filter2 LIMIT 5"
   ]
  },
  {
   "cell_type": "code",
   "execution_count": 31,
   "metadata": {},
   "outputs": [
    {
     "name": "stdout",
     "output_type": "stream",
     "text": [
      " * sqlite:///dor_rec.sqlite3\n",
      "Done.\n"
     ]
    },
    {
     "data": {
      "text/html": [
       "<table>\n",
       "    <tr>\n",
       "        <th>count(*)</th>\n",
       "    </tr>\n",
       "    <tr>\n",
       "        <td>942</td>\n",
       "    </tr>\n",
       "</table>"
      ],
      "text/plain": [
       "[(942,)]"
      ]
     },
     "execution_count": 31,
     "metadata": {},
     "output_type": "execute_result"
    }
   ],
   "source": [
    "%%sql\n",
    "SELECT count(*) FROM user_count_filter2"
   ]
  },
  {
   "cell_type": "code",
   "execution_count": 32,
   "metadata": {},
   "outputs": [
    {
     "name": "stdout",
     "output_type": "stream",
     "text": [
      " * sqlite:///dor_rec.sqlite3\n",
      "Done.\n"
     ]
    },
    {
     "data": {
      "text/plain": [
       "[]"
      ]
     },
     "execution_count": 32,
     "metadata": {},
     "output_type": "execute_result"
    }
   ],
   "source": [
    "%%sql\n",
    "CREATE TABLE combined AS SELECT user_rating.Dormitory, user_rating.RatingCountDor, user_rating.UserID, user_rating.IDDor, user_rating.DorRating, user_count_filter2.RatingCountDor\n",
    "FROM user_rating\n",
    "INNER JOIN user_count_filter2\n",
    "ON user_rating.UserID = user_count_filter2.UserID"
   ]
  },
  {
   "cell_type": "code",
   "execution_count": 33,
   "metadata": {},
   "outputs": [
    {
     "name": "stdout",
     "output_type": "stream",
     "text": [
      " * sqlite:///dor_rec.sqlite3\n",
      "Done.\n"
     ]
    },
    {
     "data": {
      "text/html": [
       "<table>\n",
       "    <tr>\n",
       "        <th>Dormitory</th>\n",
       "        <th>RatingCountDor</th>\n",
       "        <th>UserID</th>\n",
       "        <th>IDDor</th>\n",
       "        <th>DorRating</th>\n",
       "        <th>RatingCountDor:1</th>\n",
       "    </tr>\n",
       "    <tr>\n",
       "        <td>At Home</td>\n",
       "        <td>219</td>\n",
       "        <td>10005</td>\n",
       "        <td>1</td>\n",
       "        <td>2</td>\n",
       "        <td>13</td>\n",
       "    </tr>\n",
       "    <tr>\n",
       "        <td>At Home</td>\n",
       "        <td>219</td>\n",
       "        <td>10016</td>\n",
       "        <td>1</td>\n",
       "        <td>5</td>\n",
       "        <td>13</td>\n",
       "    </tr>\n",
       "    <tr>\n",
       "        <td>At Home</td>\n",
       "        <td>219</td>\n",
       "        <td>10035</td>\n",
       "        <td>1</td>\n",
       "        <td>1</td>\n",
       "        <td>12</td>\n",
       "    </tr>\n",
       "    <tr>\n",
       "        <td>At Home</td>\n",
       "        <td>219</td>\n",
       "        <td>10035</td>\n",
       "        <td>1</td>\n",
       "        <td>5</td>\n",
       "        <td>12</td>\n",
       "    </tr>\n",
       "    <tr>\n",
       "        <td>At Home</td>\n",
       "        <td>219</td>\n",
       "        <td>10037</td>\n",
       "        <td>1</td>\n",
       "        <td>1</td>\n",
       "        <td>11</td>\n",
       "    </tr>\n",
       "</table>"
      ],
      "text/plain": [
       "[('At Home', 219, 10005, 1, 2, 13),\n",
       " ('At Home', 219, 10016, 1, 5, 13),\n",
       " ('At Home', 219, 10035, 1, 1, 12),\n",
       " ('At Home', 219, 10035, 1, 5, 12),\n",
       " ('At Home', 219, 10037, 1, 1, 11)]"
      ]
     },
     "execution_count": 33,
     "metadata": {},
     "output_type": "execute_result"
    }
   ],
   "source": [
    "%%sql\n",
    "SELECT * FROM combined LIMIT 5"
   ]
  },
  {
   "cell_type": "code",
   "execution_count": 34,
   "metadata": {},
   "outputs": [
    {
     "name": "stdout",
     "output_type": "stream",
     "text": [
      " * sqlite:///dor_rec.sqlite3\n",
      "Done.\n"
     ]
    },
    {
     "data": {
      "text/html": [
       "<table>\n",
       "    <tr>\n",
       "        <th>NumberOfUniqueDormitory</th>\n",
       "    </tr>\n",
       "    <tr>\n",
       "        <td>84</td>\n",
       "    </tr>\n",
       "</table>"
      ],
      "text/plain": [
       "[(84,)]"
      ]
     },
     "execution_count": 34,
     "metadata": {},
     "output_type": "execute_result"
    }
   ],
   "source": [
    "%%sql\n",
    "select count(distinct Dormitory) AS NumberOfUniqueDormitory\n",
    "FROM combined"
   ]
  },
  {
   "cell_type": "code",
   "execution_count": 35,
   "metadata": {},
   "outputs": [
    {
     "name": "stdout",
     "output_type": "stream",
     "text": [
      " * sqlite:///dor_rec.sqlite3\n",
      "Done.\n"
     ]
    },
    {
     "data": {
      "text/html": [
       "<table>\n",
       "    <tr>\n",
       "        <th>NumberOfUniqueUser</th>\n",
       "    </tr>\n",
       "    <tr>\n",
       "        <td>942</td>\n",
       "    </tr>\n",
       "</table>"
      ],
      "text/plain": [
       "[(942,)]"
      ]
     },
     "execution_count": 35,
     "metadata": {},
     "output_type": "execute_result"
    }
   ],
   "source": [
    "%%sql\n",
    "select count(distinct UserID) AS NumberOfUniqueUser\n",
    "FROM combined"
   ]
  },
  {
   "cell_type": "code",
   "execution_count": 36,
   "metadata": {},
   "outputs": [
    {
     "name": "stdout",
     "output_type": "stream",
     "text": [
      " * sqlite:///dor_rec.sqlite3\n",
      "Done.\n"
     ]
    }
   ],
   "source": [
    "combined = %sql SELECT * FROM combined"
   ]
  },
  {
   "cell_type": "code",
   "execution_count": 37,
   "metadata": {},
   "outputs": [
    {
     "data": {
      "text/html": [
       "<div>\n",
       "<style scoped>\n",
       "    .dataframe tbody tr th:only-of-type {\n",
       "        vertical-align: middle;\n",
       "    }\n",
       "\n",
       "    .dataframe tbody tr th {\n",
       "        vertical-align: top;\n",
       "    }\n",
       "\n",
       "    .dataframe thead th {\n",
       "        text-align: right;\n",
       "    }\n",
       "</style>\n",
       "<table border=\"1\" class=\"dataframe\">\n",
       "  <thead>\n",
       "    <tr style=\"text-align: right;\">\n",
       "      <th></th>\n",
       "      <th>Dormitory</th>\n",
       "      <th>RatingCountDor</th>\n",
       "      <th>UserID</th>\n",
       "      <th>IDDor</th>\n",
       "      <th>DorRating</th>\n",
       "      <th>RatingCountDor:1</th>\n",
       "    </tr>\n",
       "  </thead>\n",
       "  <tbody>\n",
       "    <tr>\n",
       "      <th>0</th>\n",
       "      <td>At Home</td>\n",
       "      <td>219</td>\n",
       "      <td>10005</td>\n",
       "      <td>1</td>\n",
       "      <td>2</td>\n",
       "      <td>13</td>\n",
       "    </tr>\n",
       "    <tr>\n",
       "      <th>1</th>\n",
       "      <td>At Home</td>\n",
       "      <td>219</td>\n",
       "      <td>10016</td>\n",
       "      <td>1</td>\n",
       "      <td>5</td>\n",
       "      <td>13</td>\n",
       "    </tr>\n",
       "    <tr>\n",
       "      <th>2</th>\n",
       "      <td>At Home</td>\n",
       "      <td>219</td>\n",
       "      <td>10035</td>\n",
       "      <td>1</td>\n",
       "      <td>1</td>\n",
       "      <td>12</td>\n",
       "    </tr>\n",
       "    <tr>\n",
       "      <th>3</th>\n",
       "      <td>At Home</td>\n",
       "      <td>219</td>\n",
       "      <td>10035</td>\n",
       "      <td>1</td>\n",
       "      <td>5</td>\n",
       "      <td>12</td>\n",
       "    </tr>\n",
       "    <tr>\n",
       "      <th>4</th>\n",
       "      <td>At Home</td>\n",
       "      <td>219</td>\n",
       "      <td>10037</td>\n",
       "      <td>1</td>\n",
       "      <td>1</td>\n",
       "      <td>11</td>\n",
       "    </tr>\n",
       "  </tbody>\n",
       "</table>\n",
       "</div>"
      ],
      "text/plain": [
       "  Dormitory  RatingCountDor  UserID  IDDor  DorRating  RatingCountDor:1\n",
       "0   At Home             219   10005      1          2                13\n",
       "1   At Home             219   10016      1          5                13\n",
       "2   At Home             219   10035      1          1                12\n",
       "3   At Home             219   10035      1          5                12\n",
       "4   At Home             219   10037      1          1                11"
      ]
     },
     "execution_count": 37,
     "metadata": {},
     "output_type": "execute_result"
    }
   ],
   "source": [
    "combined_df = pd.DataFrame(data = combined, columns = combined.field_names)\n",
    "\n",
    "combined_df.head()"
   ]
  },
  {
   "cell_type": "code",
   "execution_count": 38,
   "metadata": {},
   "outputs": [
    {
     "name": "stdout",
     "output_type": "stream",
     "text": [
      "(11370, 6)\n"
     ]
    },
    {
     "data": {
      "text/html": [
       "<div>\n",
       "<style scoped>\n",
       "    .dataframe tbody tr th:only-of-type {\n",
       "        vertical-align: middle;\n",
       "    }\n",
       "\n",
       "    .dataframe tbody tr th {\n",
       "        vertical-align: top;\n",
       "    }\n",
       "\n",
       "    .dataframe thead th {\n",
       "        text-align: right;\n",
       "    }\n",
       "</style>\n",
       "<table border=\"1\" class=\"dataframe\">\n",
       "  <thead>\n",
       "    <tr style=\"text-align: right;\">\n",
       "      <th></th>\n",
       "      <th>Dormitory</th>\n",
       "      <th>RatingCountDor</th>\n",
       "      <th>UserID</th>\n",
       "      <th>IDDor</th>\n",
       "      <th>DorRating</th>\n",
       "      <th>RatingCountDor:1</th>\n",
       "    </tr>\n",
       "  </thead>\n",
       "  <tbody>\n",
       "    <tr>\n",
       "      <th>0</th>\n",
       "      <td>At Home</td>\n",
       "      <td>219</td>\n",
       "      <td>10005</td>\n",
       "      <td>1</td>\n",
       "      <td>2.0</td>\n",
       "      <td>13</td>\n",
       "    </tr>\n",
       "    <tr>\n",
       "      <th>1</th>\n",
       "      <td>At Home</td>\n",
       "      <td>219</td>\n",
       "      <td>10016</td>\n",
       "      <td>1</td>\n",
       "      <td>5.0</td>\n",
       "      <td>13</td>\n",
       "    </tr>\n",
       "    <tr>\n",
       "      <th>2</th>\n",
       "      <td>At Home</td>\n",
       "      <td>219</td>\n",
       "      <td>10035</td>\n",
       "      <td>1</td>\n",
       "      <td>1.0</td>\n",
       "      <td>12</td>\n",
       "    </tr>\n",
       "    <tr>\n",
       "      <th>3</th>\n",
       "      <td>At Home</td>\n",
       "      <td>219</td>\n",
       "      <td>10035</td>\n",
       "      <td>1</td>\n",
       "      <td>5.0</td>\n",
       "      <td>12</td>\n",
       "    </tr>\n",
       "    <tr>\n",
       "      <th>4</th>\n",
       "      <td>At Home</td>\n",
       "      <td>219</td>\n",
       "      <td>10037</td>\n",
       "      <td>1</td>\n",
       "      <td>1.0</td>\n",
       "      <td>11</td>\n",
       "    </tr>\n",
       "  </tbody>\n",
       "</table>\n",
       "</div>"
      ],
      "text/plain": [
       "  Dormitory  RatingCountDor  UserID  IDDor  DorRating  RatingCountDor:1\n",
       "0   At Home             219   10005      1        2.0                13\n",
       "1   At Home             219   10016      1        5.0                13\n",
       "2   At Home             219   10035      1        1.0                12\n",
       "3   At Home             219   10035      1        5.0                12\n",
       "4   At Home             219   10037      1        1.0                11"
      ]
     },
     "execution_count": 38,
     "metadata": {},
     "output_type": "execute_result"
    }
   ],
   "source": [
    "combined_df['DorRating'] = combined_df['DorRating'].values.astype(float)\n",
    "\n",
    "print(combined_df.shape)\n",
    "combined_df.head()"
   ]
  },
  {
   "cell_type": "code",
   "execution_count": 39,
   "metadata": {},
   "outputs": [
    {
     "name": "stdout",
     "output_type": "stream",
     "text": [
      "(10659, 6)\n"
     ]
    },
    {
     "data": {
      "text/html": [
       "<div>\n",
       "<style scoped>\n",
       "    .dataframe tbody tr th:only-of-type {\n",
       "        vertical-align: middle;\n",
       "    }\n",
       "\n",
       "    .dataframe tbody tr th {\n",
       "        vertical-align: top;\n",
       "    }\n",
       "\n",
       "    .dataframe thead th {\n",
       "        text-align: right;\n",
       "    }\n",
       "</style>\n",
       "<table border=\"1\" class=\"dataframe\">\n",
       "  <thead>\n",
       "    <tr style=\"text-align: right;\">\n",
       "      <th></th>\n",
       "      <th>Dormitory</th>\n",
       "      <th>RatingCountDor</th>\n",
       "      <th>UserID</th>\n",
       "      <th>IDDor</th>\n",
       "      <th>DorRating</th>\n",
       "      <th>RatingCountDor:1</th>\n",
       "    </tr>\n",
       "  </thead>\n",
       "  <tbody>\n",
       "    <tr>\n",
       "      <th>0</th>\n",
       "      <td>At Home</td>\n",
       "      <td>219</td>\n",
       "      <td>10005</td>\n",
       "      <td>1</td>\n",
       "      <td>2.0</td>\n",
       "      <td>13</td>\n",
       "    </tr>\n",
       "    <tr>\n",
       "      <th>1</th>\n",
       "      <td>At Home</td>\n",
       "      <td>219</td>\n",
       "      <td>10016</td>\n",
       "      <td>1</td>\n",
       "      <td>5.0</td>\n",
       "      <td>13</td>\n",
       "    </tr>\n",
       "    <tr>\n",
       "      <th>2</th>\n",
       "      <td>At Home</td>\n",
       "      <td>219</td>\n",
       "      <td>10035</td>\n",
       "      <td>1</td>\n",
       "      <td>1.0</td>\n",
       "      <td>12</td>\n",
       "    </tr>\n",
       "    <tr>\n",
       "      <th>4</th>\n",
       "      <td>At Home</td>\n",
       "      <td>219</td>\n",
       "      <td>10037</td>\n",
       "      <td>1</td>\n",
       "      <td>1.0</td>\n",
       "      <td>11</td>\n",
       "    </tr>\n",
       "    <tr>\n",
       "      <th>5</th>\n",
       "      <td>At Home</td>\n",
       "      <td>219</td>\n",
       "      <td>10056</td>\n",
       "      <td>1</td>\n",
       "      <td>5.0</td>\n",
       "      <td>11</td>\n",
       "    </tr>\n",
       "  </tbody>\n",
       "</table>\n",
       "</div>"
      ],
      "text/plain": [
       "  Dormitory  RatingCountDor  UserID  IDDor  DorRating  RatingCountDor:1\n",
       "0   At Home             219   10005      1        2.0                13\n",
       "1   At Home             219   10016      1        5.0                13\n",
       "2   At Home             219   10035      1        1.0                12\n",
       "4   At Home             219   10037      1        1.0                11\n",
       "5   At Home             219   10056      1        5.0                11"
      ]
     },
     "execution_count": 39,
     "metadata": {},
     "output_type": "execute_result"
    }
   ],
   "source": [
    "combined_df = combined_df.drop_duplicates(['UserID', 'Dormitory'])\n",
    "\n",
    "print(combined_df.shape)\n",
    "combined_df.head()"
   ]
  },
  {
   "cell_type": "code",
   "execution_count": 40,
   "metadata": {},
   "outputs": [
    {
     "name": "stdout",
     "output_type": "stream",
     "text": [
      "(942, 84)\n"
     ]
    },
    {
     "data": {
      "text/html": [
       "<div>\n",
       "<style scoped>\n",
       "    .dataframe tbody tr th:only-of-type {\n",
       "        vertical-align: middle;\n",
       "    }\n",
       "\n",
       "    .dataframe tbody tr th {\n",
       "        vertical-align: top;\n",
       "    }\n",
       "\n",
       "    .dataframe thead th {\n",
       "        text-align: right;\n",
       "    }\n",
       "</style>\n",
       "<table border=\"1\" class=\"dataframe\">\n",
       "  <thead>\n",
       "    <tr style=\"text-align: right;\">\n",
       "      <th>Dormitory</th>\n",
       "      <th>At Home</th>\n",
       "      <th>BPN</th>\n",
       "      <th>DHAVA PLACE</th>\n",
       "      <th>I place</th>\n",
       "      <th>Inroom</th>\n",
       "      <th>JK place</th>\n",
       "      <th>KP Home</th>\n",
       "      <th>L20 Residents</th>\n",
       "      <th>PBN แมนชั่น</th>\n",
       "      <th>PJ Smile Place</th>\n",
       "      <th>...</th>\n",
       "      <th>ห้องเช่า</th>\n",
       "      <th>อนงค์</th>\n",
       "      <th>เจอาร์</th>\n",
       "      <th>เดอะพฤกษ์</th>\n",
       "      <th>เบญจรงค์</th>\n",
       "      <th>เรือนขวัญ</th>\n",
       "      <th>เรือนปฐมบุรี</th>\n",
       "      <th>เวศย์วรุตม์เพลส</th>\n",
       "      <th>โครงการหมู่บ้านพฤกษาพรรณ กระดีเดียว1</th>\n",
       "      <th>ไดพักทิวาลัย</th>\n",
       "    </tr>\n",
       "    <tr>\n",
       "      <th>UserID</th>\n",
       "      <th></th>\n",
       "      <th></th>\n",
       "      <th></th>\n",
       "      <th></th>\n",
       "      <th></th>\n",
       "      <th></th>\n",
       "      <th></th>\n",
       "      <th></th>\n",
       "      <th></th>\n",
       "      <th></th>\n",
       "      <th></th>\n",
       "      <th></th>\n",
       "      <th></th>\n",
       "      <th></th>\n",
       "      <th></th>\n",
       "      <th></th>\n",
       "      <th></th>\n",
       "      <th></th>\n",
       "      <th></th>\n",
       "      <th></th>\n",
       "      <th></th>\n",
       "    </tr>\n",
       "  </thead>\n",
       "  <tbody>\n",
       "    <tr>\n",
       "      <th>10002</th>\n",
       "      <td>NaN</td>\n",
       "      <td>1.0</td>\n",
       "      <td>NaN</td>\n",
       "      <td>NaN</td>\n",
       "      <td>NaN</td>\n",
       "      <td>NaN</td>\n",
       "      <td>NaN</td>\n",
       "      <td>NaN</td>\n",
       "      <td>NaN</td>\n",
       "      <td>NaN</td>\n",
       "      <td>...</td>\n",
       "      <td>NaN</td>\n",
       "      <td>NaN</td>\n",
       "      <td>2.0</td>\n",
       "      <td>NaN</td>\n",
       "      <td>NaN</td>\n",
       "      <td>2.0</td>\n",
       "      <td>NaN</td>\n",
       "      <td>5.0</td>\n",
       "      <td>NaN</td>\n",
       "      <td>NaN</td>\n",
       "    </tr>\n",
       "    <tr>\n",
       "      <th>10003</th>\n",
       "      <td>NaN</td>\n",
       "      <td>NaN</td>\n",
       "      <td>3.0</td>\n",
       "      <td>NaN</td>\n",
       "      <td>NaN</td>\n",
       "      <td>NaN</td>\n",
       "      <td>NaN</td>\n",
       "      <td>NaN</td>\n",
       "      <td>NaN</td>\n",
       "      <td>NaN</td>\n",
       "      <td>...</td>\n",
       "      <td>NaN</td>\n",
       "      <td>NaN</td>\n",
       "      <td>NaN</td>\n",
       "      <td>NaN</td>\n",
       "      <td>NaN</td>\n",
       "      <td>5.0</td>\n",
       "      <td>NaN</td>\n",
       "      <td>NaN</td>\n",
       "      <td>NaN</td>\n",
       "      <td>NaN</td>\n",
       "    </tr>\n",
       "    <tr>\n",
       "      <th>10005</th>\n",
       "      <td>2.0</td>\n",
       "      <td>NaN</td>\n",
       "      <td>NaN</td>\n",
       "      <td>NaN</td>\n",
       "      <td>5.0</td>\n",
       "      <td>NaN</td>\n",
       "      <td>NaN</td>\n",
       "      <td>NaN</td>\n",
       "      <td>NaN</td>\n",
       "      <td>2.0</td>\n",
       "      <td>...</td>\n",
       "      <td>NaN</td>\n",
       "      <td>NaN</td>\n",
       "      <td>NaN</td>\n",
       "      <td>NaN</td>\n",
       "      <td>2.0</td>\n",
       "      <td>NaN</td>\n",
       "      <td>NaN</td>\n",
       "      <td>NaN</td>\n",
       "      <td>NaN</td>\n",
       "      <td>NaN</td>\n",
       "    </tr>\n",
       "    <tr>\n",
       "      <th>10009</th>\n",
       "      <td>NaN</td>\n",
       "      <td>NaN</td>\n",
       "      <td>NaN</td>\n",
       "      <td>NaN</td>\n",
       "      <td>NaN</td>\n",
       "      <td>5.0</td>\n",
       "      <td>NaN</td>\n",
       "      <td>NaN</td>\n",
       "      <td>4.0</td>\n",
       "      <td>NaN</td>\n",
       "      <td>...</td>\n",
       "      <td>NaN</td>\n",
       "      <td>NaN</td>\n",
       "      <td>NaN</td>\n",
       "      <td>NaN</td>\n",
       "      <td>NaN</td>\n",
       "      <td>NaN</td>\n",
       "      <td>1.0</td>\n",
       "      <td>NaN</td>\n",
       "      <td>NaN</td>\n",
       "      <td>4.0</td>\n",
       "    </tr>\n",
       "    <tr>\n",
       "      <th>10010</th>\n",
       "      <td>NaN</td>\n",
       "      <td>1.0</td>\n",
       "      <td>NaN</td>\n",
       "      <td>3.0</td>\n",
       "      <td>NaN</td>\n",
       "      <td>NaN</td>\n",
       "      <td>NaN</td>\n",
       "      <td>NaN</td>\n",
       "      <td>1.0</td>\n",
       "      <td>5.0</td>\n",
       "      <td>...</td>\n",
       "      <td>NaN</td>\n",
       "      <td>NaN</td>\n",
       "      <td>NaN</td>\n",
       "      <td>NaN</td>\n",
       "      <td>NaN</td>\n",
       "      <td>NaN</td>\n",
       "      <td>NaN</td>\n",
       "      <td>NaN</td>\n",
       "      <td>NaN</td>\n",
       "      <td>NaN</td>\n",
       "    </tr>\n",
       "  </tbody>\n",
       "</table>\n",
       "<p>5 rows × 84 columns</p>\n",
       "</div>"
      ],
      "text/plain": [
       "Dormitory  At Home  BPN  DHAVA PLACE   I place  Inroom  JK place  KP Home  \\\n",
       "UserID                                                                      \n",
       "10002          NaN  1.0           NaN      NaN     NaN       NaN      NaN   \n",
       "10003          NaN  NaN           3.0      NaN     NaN       NaN      NaN   \n",
       "10005          2.0  NaN           NaN      NaN     5.0       NaN      NaN   \n",
       "10009          NaN  NaN           NaN      NaN     NaN       5.0      NaN   \n",
       "10010          NaN  1.0           NaN      3.0     NaN       NaN      NaN   \n",
       "\n",
       "Dormitory  L20 Residents   PBN แมนชั่น  PJ Smile Place  ...  ห้องเช่า  อนงค์  \\\n",
       "UserID                                                  ...                    \n",
       "10002                 NaN          NaN             NaN  ...       NaN    NaN   \n",
       "10003                 NaN          NaN             NaN  ...       NaN    NaN   \n",
       "10005                 NaN          NaN             2.0  ...       NaN    NaN   \n",
       "10009                 NaN          4.0             NaN  ...       NaN    NaN   \n",
       "10010                 NaN          1.0             5.0  ...       NaN    NaN   \n",
       "\n",
       "Dormitory  เจอาร์  เดอะพฤกษ์  เบญจรงค์  เรือนขวัญ  เรือนปฐมบุรี  \\\n",
       "UserID                                                            \n",
       "10002         2.0        NaN       NaN        2.0           NaN   \n",
       "10003         NaN        NaN       NaN        5.0           NaN   \n",
       "10005         NaN        NaN       2.0        NaN           NaN   \n",
       "10009         NaN        NaN       NaN        NaN           1.0   \n",
       "10010         NaN        NaN       NaN        NaN           NaN   \n",
       "\n",
       "Dormitory  เวศย์วรุตม์เพลส  โครงการหมู่บ้านพฤกษาพรรณ กระดีเดียว1  ไดพักทิวาลัย  \n",
       "UserID                                                                          \n",
       "10002                  5.0                                   NaN           NaN  \n",
       "10003                  NaN                                   NaN           NaN  \n",
       "10005                  NaN                                   NaN           NaN  \n",
       "10009                  NaN                                   NaN           4.0  \n",
       "10010                  NaN                                   NaN           NaN  \n",
       "\n",
       "[5 rows x 84 columns]"
      ]
     },
     "execution_count": 40,
     "metadata": {},
     "output_type": "execute_result"
    }
   ],
   "source": [
    "user_dor_matrix = combined_df.pivot(index='UserID', columns='Dormitory', values='DorRating')\n",
    "\n",
    "print(user_dor_matrix.shape)\n",
    "user_dor_matrix.head()"
   ]
  },
  {
   "cell_type": "code",
   "execution_count": 41,
   "metadata": {},
   "outputs": [
    {
     "data": {
      "text/html": [
       "<div>\n",
       "<style scoped>\n",
       "    .dataframe tbody tr th:only-of-type {\n",
       "        vertical-align: middle;\n",
       "    }\n",
       "\n",
       "    .dataframe tbody tr th {\n",
       "        vertical-align: top;\n",
       "    }\n",
       "\n",
       "    .dataframe thead th {\n",
       "        text-align: right;\n",
       "    }\n",
       "</style>\n",
       "<table border=\"1\" class=\"dataframe\">\n",
       "  <thead>\n",
       "    <tr style=\"text-align: right;\">\n",
       "      <th>Dormitory</th>\n",
       "      <th>At Home</th>\n",
       "      <th>BPN</th>\n",
       "      <th>DHAVA PLACE</th>\n",
       "      <th>I place</th>\n",
       "      <th>Inroom</th>\n",
       "      <th>JK place</th>\n",
       "      <th>KP Home</th>\n",
       "      <th>L20 Residents</th>\n",
       "      <th>PBN แมนชั่น</th>\n",
       "      <th>PJ Smile Place</th>\n",
       "      <th>...</th>\n",
       "      <th>ห้องเช่า</th>\n",
       "      <th>อนงค์</th>\n",
       "      <th>เจอาร์</th>\n",
       "      <th>เดอะพฤกษ์</th>\n",
       "      <th>เบญจรงค์</th>\n",
       "      <th>เรือนขวัญ</th>\n",
       "      <th>เรือนปฐมบุรี</th>\n",
       "      <th>เวศย์วรุตม์เพลส</th>\n",
       "      <th>โครงการหมู่บ้านพฤกษาพรรณ กระดีเดียว1</th>\n",
       "      <th>ไดพักทิวาลัย</th>\n",
       "    </tr>\n",
       "    <tr>\n",
       "      <th>UserID</th>\n",
       "      <th></th>\n",
       "      <th></th>\n",
       "      <th></th>\n",
       "      <th></th>\n",
       "      <th></th>\n",
       "      <th></th>\n",
       "      <th></th>\n",
       "      <th></th>\n",
       "      <th></th>\n",
       "      <th></th>\n",
       "      <th></th>\n",
       "      <th></th>\n",
       "      <th></th>\n",
       "      <th></th>\n",
       "      <th></th>\n",
       "      <th></th>\n",
       "      <th></th>\n",
       "      <th></th>\n",
       "      <th></th>\n",
       "      <th></th>\n",
       "      <th></th>\n",
       "    </tr>\n",
       "  </thead>\n",
       "  <tbody>\n",
       "    <tr>\n",
       "      <th>10002</th>\n",
       "      <td>0.0</td>\n",
       "      <td>1.0</td>\n",
       "      <td>0.0</td>\n",
       "      <td>0.0</td>\n",
       "      <td>0.0</td>\n",
       "      <td>0.0</td>\n",
       "      <td>0.0</td>\n",
       "      <td>0.0</td>\n",
       "      <td>0.0</td>\n",
       "      <td>0.0</td>\n",
       "      <td>...</td>\n",
       "      <td>0.0</td>\n",
       "      <td>0.0</td>\n",
       "      <td>2.0</td>\n",
       "      <td>0.0</td>\n",
       "      <td>0.0</td>\n",
       "      <td>2.0</td>\n",
       "      <td>0.0</td>\n",
       "      <td>5.0</td>\n",
       "      <td>0.0</td>\n",
       "      <td>0.0</td>\n",
       "    </tr>\n",
       "    <tr>\n",
       "      <th>10003</th>\n",
       "      <td>0.0</td>\n",
       "      <td>0.0</td>\n",
       "      <td>3.0</td>\n",
       "      <td>0.0</td>\n",
       "      <td>0.0</td>\n",
       "      <td>0.0</td>\n",
       "      <td>0.0</td>\n",
       "      <td>0.0</td>\n",
       "      <td>0.0</td>\n",
       "      <td>0.0</td>\n",
       "      <td>...</td>\n",
       "      <td>0.0</td>\n",
       "      <td>0.0</td>\n",
       "      <td>0.0</td>\n",
       "      <td>0.0</td>\n",
       "      <td>0.0</td>\n",
       "      <td>5.0</td>\n",
       "      <td>0.0</td>\n",
       "      <td>0.0</td>\n",
       "      <td>0.0</td>\n",
       "      <td>0.0</td>\n",
       "    </tr>\n",
       "    <tr>\n",
       "      <th>10005</th>\n",
       "      <td>2.0</td>\n",
       "      <td>0.0</td>\n",
       "      <td>0.0</td>\n",
       "      <td>0.0</td>\n",
       "      <td>5.0</td>\n",
       "      <td>0.0</td>\n",
       "      <td>0.0</td>\n",
       "      <td>0.0</td>\n",
       "      <td>0.0</td>\n",
       "      <td>2.0</td>\n",
       "      <td>...</td>\n",
       "      <td>0.0</td>\n",
       "      <td>0.0</td>\n",
       "      <td>0.0</td>\n",
       "      <td>0.0</td>\n",
       "      <td>2.0</td>\n",
       "      <td>0.0</td>\n",
       "      <td>0.0</td>\n",
       "      <td>0.0</td>\n",
       "      <td>0.0</td>\n",
       "      <td>0.0</td>\n",
       "    </tr>\n",
       "    <tr>\n",
       "      <th>10009</th>\n",
       "      <td>0.0</td>\n",
       "      <td>0.0</td>\n",
       "      <td>0.0</td>\n",
       "      <td>0.0</td>\n",
       "      <td>0.0</td>\n",
       "      <td>5.0</td>\n",
       "      <td>0.0</td>\n",
       "      <td>0.0</td>\n",
       "      <td>4.0</td>\n",
       "      <td>0.0</td>\n",
       "      <td>...</td>\n",
       "      <td>0.0</td>\n",
       "      <td>0.0</td>\n",
       "      <td>0.0</td>\n",
       "      <td>0.0</td>\n",
       "      <td>0.0</td>\n",
       "      <td>0.0</td>\n",
       "      <td>1.0</td>\n",
       "      <td>0.0</td>\n",
       "      <td>0.0</td>\n",
       "      <td>4.0</td>\n",
       "    </tr>\n",
       "    <tr>\n",
       "      <th>10010</th>\n",
       "      <td>0.0</td>\n",
       "      <td>1.0</td>\n",
       "      <td>0.0</td>\n",
       "      <td>3.0</td>\n",
       "      <td>0.0</td>\n",
       "      <td>0.0</td>\n",
       "      <td>0.0</td>\n",
       "      <td>0.0</td>\n",
       "      <td>1.0</td>\n",
       "      <td>5.0</td>\n",
       "      <td>...</td>\n",
       "      <td>0.0</td>\n",
       "      <td>0.0</td>\n",
       "      <td>0.0</td>\n",
       "      <td>0.0</td>\n",
       "      <td>0.0</td>\n",
       "      <td>0.0</td>\n",
       "      <td>0.0</td>\n",
       "      <td>0.0</td>\n",
       "      <td>0.0</td>\n",
       "      <td>0.0</td>\n",
       "    </tr>\n",
       "  </tbody>\n",
       "</table>\n",
       "<p>5 rows × 84 columns</p>\n",
       "</div>"
      ],
      "text/plain": [
       "Dormitory  At Home  BPN  DHAVA PLACE   I place  Inroom  JK place  KP Home  \\\n",
       "UserID                                                                      \n",
       "10002          0.0  1.0           0.0      0.0     0.0       0.0      0.0   \n",
       "10003          0.0  0.0           3.0      0.0     0.0       0.0      0.0   \n",
       "10005          2.0  0.0           0.0      0.0     5.0       0.0      0.0   \n",
       "10009          0.0  0.0           0.0      0.0     0.0       5.0      0.0   \n",
       "10010          0.0  1.0           0.0      3.0     0.0       0.0      0.0   \n",
       "\n",
       "Dormitory  L20 Residents   PBN แมนชั่น  PJ Smile Place  ...  ห้องเช่า  อนงค์  \\\n",
       "UserID                                                  ...                    \n",
       "10002                 0.0          0.0             0.0  ...       0.0    0.0   \n",
       "10003                 0.0          0.0             0.0  ...       0.0    0.0   \n",
       "10005                 0.0          0.0             2.0  ...       0.0    0.0   \n",
       "10009                 0.0          4.0             0.0  ...       0.0    0.0   \n",
       "10010                 0.0          1.0             5.0  ...       0.0    0.0   \n",
       "\n",
       "Dormitory  เจอาร์  เดอะพฤกษ์  เบญจรงค์  เรือนขวัญ  เรือนปฐมบุรี  \\\n",
       "UserID                                                            \n",
       "10002         2.0        0.0       0.0        2.0           0.0   \n",
       "10003         0.0        0.0       0.0        5.0           0.0   \n",
       "10005         0.0        0.0       2.0        0.0           0.0   \n",
       "10009         0.0        0.0       0.0        0.0           1.0   \n",
       "10010         0.0        0.0       0.0        0.0           0.0   \n",
       "\n",
       "Dormitory  เวศย์วรุตม์เพลส  โครงการหมู่บ้านพฤกษาพรรณ กระดีเดียว1  ไดพักทิวาลัย  \n",
       "UserID                                                                          \n",
       "10002                  5.0                                   0.0           0.0  \n",
       "10003                  0.0                                   0.0           0.0  \n",
       "10005                  0.0                                   0.0           0.0  \n",
       "10009                  0.0                                   0.0           4.0  \n",
       "10010                  0.0                                   0.0           0.0  \n",
       "\n",
       "[5 rows x 84 columns]"
      ]
     },
     "execution_count": 41,
     "metadata": {},
     "output_type": "execute_result"
    }
   ],
   "source": [
    "user_dor_matrix.fillna(0, inplace=True)\n",
    "\n",
    "user_dor_matrix.head()"
   ]
  },
  {
   "cell_type": "code",
   "execution_count": 42,
   "metadata": {},
   "outputs": [
    {
     "data": {
      "text/plain": [
       "[10002, 10003, 10005, 10009, 10010, 10012, 10014, 10016, 10020, 10022]"
      ]
     },
     "execution_count": 42,
     "metadata": {},
     "output_type": "execute_result"
    }
   ],
   "source": [
    "users = user_dor_matrix.index.tolist()\n",
    "\n",
    "users[0:10]"
   ]
  },
  {
   "cell_type": "code",
   "execution_count": 43,
   "metadata": {},
   "outputs": [
    {
     "data": {
      "text/plain": [
       "['At Home',\n",
       " 'BPN',\n",
       " 'DHAVA PLACE ',\n",
       " 'I place',\n",
       " 'Inroom',\n",
       " 'JK place',\n",
       " 'KP Home',\n",
       " 'L20 Residents ',\n",
       " 'PBN แมนชั่น',\n",
       " 'PJ Smile Place']"
      ]
     },
     "execution_count": 43,
     "metadata": {},
     "output_type": "execute_result"
    }
   ],
   "source": [
    "dors = user_dor_matrix.columns.tolist()\n",
    "\n",
    "dors[0:10]"
   ]
  },
  {
   "cell_type": "code",
   "execution_count": 44,
   "metadata": {},
   "outputs": [
    {
     "data": {
      "text/plain": [
       "(942, 84)"
      ]
     },
     "execution_count": 44,
     "metadata": {},
     "output_type": "execute_result"
    }
   ],
   "source": [
    "user_dor_matrix = user_dor_matrix.to_numpy()\n",
    "\n",
    "user_dor_matrix.shape"
   ]
  },
  {
   "cell_type": "code",
   "execution_count": 45,
   "metadata": {},
   "outputs": [],
   "source": [
    "X_train, X_test, y_train, y_test = train_test_split(user_dor_matrix, user_dor_matrix, test_size=0.2, random_state=1)"
   ]
  },
  {
   "cell_type": "code",
   "execution_count": 46,
   "metadata": {},
   "outputs": [],
   "source": [
    "t = MinMaxScaler()\n",
    "\n",
    "t.fit(user_dor_matrix)\n",
    "X_train = t.transform(X_train)\n",
    "X_test = t.transform(X_test)"
   ]
  },
  {
   "cell_type": "code",
   "execution_count": 47,
   "metadata": {},
   "outputs": [
    {
     "name": "stdout",
     "output_type": "stream",
     "text": [
      "0.0 1.0\n",
      "0.0 1.0\n"
     ]
    }
   ],
   "source": [
    "print(X_train.min(), X_train.max())\n",
    "print(X_test.min(), X_test.max())"
   ]
  },
  {
   "cell_type": "code",
   "execution_count": 48,
   "metadata": {},
   "outputs": [],
   "source": [
    "num_input = len(dors)\n",
    "\n",
    "inp = Input((num_input))\n",
    "e = Dense(10)(inp)\n",
    "e = BatchNormalization()(e)\n",
    "e = LeakyReLU()(e)\n",
    "\n",
    "n_bottleneck = 5\n",
    "bottleneck = Dense(n_bottleneck)(e)"
   ]
  },
  {
   "cell_type": "code",
   "execution_count": 49,
   "metadata": {},
   "outputs": [
    {
     "name": "stdout",
     "output_type": "stream",
     "text": [
      "Model: \"functional_1\"\n",
      "_________________________________________________________________\n",
      "Layer (type)                 Output Shape              Param #   \n",
      "=================================================================\n",
      "input_1 (InputLayer)         [(None, 84)]              0         \n",
      "_________________________________________________________________\n",
      "dense (Dense)                (None, 10)                850       \n",
      "_________________________________________________________________\n",
      "batch_normalization (BatchNo (None, 10)                40        \n",
      "_________________________________________________________________\n",
      "leaky_re_lu (LeakyReLU)      (None, 10)                0         \n",
      "_________________________________________________________________\n",
      "dense_1 (Dense)              (None, 5)                 55        \n",
      "_________________________________________________________________\n",
      "dense_2 (Dense)              (None, 10)                60        \n",
      "_________________________________________________________________\n",
      "batch_normalization_1 (Batch (None, 10)                40        \n",
      "_________________________________________________________________\n",
      "leaky_re_lu_1 (LeakyReLU)    (None, 10)                0         \n",
      "_________________________________________________________________\n",
      "dense_3 (Dense)              (None, 84)                924       \n",
      "=================================================================\n",
      "Total params: 1,969\n",
      "Trainable params: 1,929\n",
      "Non-trainable params: 40\n",
      "_________________________________________________________________\n"
     ]
    }
   ],
   "source": [
    "d = Dense(10)(bottleneck)\n",
    "d = BatchNormalization()(d)\n",
    "d = LeakyReLU()(d)\n",
    "\n",
    "decoded = Dense(num_input, activation='sigmoid')(d)\n",
    "                \n",
    "ae = Model(inp, decoded)\n",
    "ae.summary()"
   ]
  },
  {
   "cell_type": "code",
   "execution_count": 50,
   "metadata": {},
   "outputs": [],
   "source": [
    "ae.compile(loss='mse', optimizer='adam')"
   ]
  },
  {
   "cell_type": "code",
   "execution_count": 51,
   "metadata": {},
   "outputs": [],
   "source": [
    "filename = 'model.h5'\n",
    "checkpoint = ModelCheckpoint(filename, monitor='val_loss', verbose=1, save_best_only=True, mode='min')"
   ]
  },
  {
   "cell_type": "code",
   "execution_count": 52,
   "metadata": {},
   "outputs": [
    {
     "name": "stdout",
     "output_type": "stream",
     "text": [
      "Epoch 1/300\n",
      "19/24 [======================>.......] - ETA: 0s - loss: 0.2330\n",
      "Epoch 00001: val_loss improved from inf to 0.22244, saving model to model.h5\n",
      "24/24 [==============================] - 0s 16ms/step - loss: 0.2311 - val_loss: 0.2224\n",
      "Epoch 2/300\n",
      " 1/24 [>.............................] - ETA: 0s - loss: 0.2207\n",
      "Epoch 00002: val_loss improved from 0.22244 to 0.21564, saving model to model.h5\n",
      "24/24 [==============================] - 0s 4ms/step - loss: 0.2138 - val_loss: 0.2156\n",
      "Epoch 3/300\n",
      " 1/24 [>.............................] - ETA: 0s - loss: 0.2044\n",
      "Epoch 00003: val_loss improved from 0.21564 to 0.20790, saving model to model.h5\n",
      "24/24 [==============================] - 0s 4ms/step - loss: 0.1971 - val_loss: 0.2079\n",
      "Epoch 4/300\n",
      " 1/24 [>.............................] - ETA: 0s - loss: 0.1867\n",
      "Epoch 00004: val_loss improved from 0.20790 to 0.19788, saving model to model.h5\n",
      "24/24 [==============================] - 0s 4ms/step - loss: 0.1798 - val_loss: 0.1979\n",
      "Epoch 5/300\n",
      " 1/24 [>.............................] - ETA: 0s - loss: 0.1703\n",
      "Epoch 00005: val_loss improved from 0.19788 to 0.18471, saving model to model.h5\n",
      "24/24 [==============================] - 0s 3ms/step - loss: 0.1613 - val_loss: 0.1847\n",
      "Epoch 6/300\n",
      " 1/24 [>.............................] - ETA: 0s - loss: 0.1522\n",
      "Epoch 00006: val_loss improved from 0.18471 to 0.16835, saving model to model.h5\n",
      "24/24 [==============================] - 0s 4ms/step - loss: 0.1421 - val_loss: 0.1683\n",
      "Epoch 7/300\n",
      " 1/24 [>.............................] - ETA: 0s - loss: 0.1349\n",
      "Epoch 00007: val_loss improved from 0.16835 to 0.14956, saving model to model.h5\n",
      "24/24 [==============================] - 0s 4ms/step - loss: 0.1237 - val_loss: 0.1496\n",
      "Epoch 8/300\n",
      " 1/24 [>.............................] - ETA: 0s - loss: 0.1186\n",
      "Epoch 00008: val_loss improved from 0.14956 to 0.13026, saving model to model.h5\n",
      "24/24 [==============================] - 0s 4ms/step - loss: 0.1071 - val_loss: 0.1303\n",
      "Epoch 9/300\n",
      " 1/24 [>.............................] - ETA: 0s - loss: 0.0996\n",
      "Epoch 00009: val_loss improved from 0.13026 to 0.11305, saving model to model.h5\n",
      "24/24 [==============================] - 0s 3ms/step - loss: 0.0934 - val_loss: 0.1131\n",
      "Epoch 10/300\n",
      " 1/24 [>.............................] - ETA: 0s - loss: 0.0842\n",
      "Epoch 00010: val_loss improved from 0.11305 to 0.09899, saving model to model.h5\n",
      "24/24 [==============================] - 0s 5ms/step - loss: 0.0825 - val_loss: 0.0990\n",
      "Epoch 11/300\n",
      " 1/24 [>.............................] - ETA: 0s - loss: 0.0782\n",
      "Epoch 00011: val_loss improved from 0.09899 to 0.08743, saving model to model.h5\n",
      "24/24 [==============================] - 0s 5ms/step - loss: 0.0745 - val_loss: 0.0874\n",
      "Epoch 12/300\n",
      " 1/24 [>.............................] - ETA: 0s - loss: 0.0724\n",
      "Epoch 00012: val_loss improved from 0.08743 to 0.07824, saving model to model.h5\n",
      "24/24 [==============================] - 0s 5ms/step - loss: 0.0684 - val_loss: 0.0782\n",
      "Epoch 13/300\n",
      " 1/24 [>.............................] - ETA: 0s - loss: 0.0662\n",
      "Epoch 00013: val_loss improved from 0.07824 to 0.07175, saving model to model.h5\n",
      "24/24 [==============================] - 0s 4ms/step - loss: 0.0641 - val_loss: 0.0718\n",
      "Epoch 14/300\n",
      " 1/24 [>.............................] - ETA: 0s - loss: 0.0659\n",
      "Epoch 00014: val_loss improved from 0.07175 to 0.06681, saving model to model.h5\n",
      "24/24 [==============================] - 0s 5ms/step - loss: 0.0607 - val_loss: 0.0668\n",
      "Epoch 15/300\n",
      " 1/24 [>.............................] - ETA: 0s - loss: 0.0614\n",
      "Epoch 00015: val_loss improved from 0.06681 to 0.06321, saving model to model.h5\n",
      "24/24 [==============================] - 0s 5ms/step - loss: 0.0584 - val_loss: 0.0632\n",
      "Epoch 16/300\n",
      " 1/24 [>.............................] - ETA: 0s - loss: 0.0583\n",
      "Epoch 00016: val_loss improved from 0.06321 to 0.06096, saving model to model.h5\n",
      "24/24 [==============================] - 0s 6ms/step - loss: 0.0567 - val_loss: 0.0610\n",
      "Epoch 17/300\n",
      " 1/24 [>.............................] - ETA: 0s - loss: 0.0574\n",
      "Epoch 00017: val_loss improved from 0.06096 to 0.05876, saving model to model.h5\n",
      "24/24 [==============================] - 0s 5ms/step - loss: 0.0552 - val_loss: 0.0588\n",
      "Epoch 18/300\n",
      " 1/24 [>.............................] - ETA: 0s - loss: 0.0578\n",
      "Epoch 00018: val_loss improved from 0.05876 to 0.05744, saving model to model.h5\n",
      "24/24 [==============================] - 0s 5ms/step - loss: 0.0542 - val_loss: 0.0574\n",
      "Epoch 19/300\n",
      " 1/24 [>.............................] - ETA: 0s - loss: 0.0536\n",
      "Epoch 00019: val_loss improved from 0.05744 to 0.05607, saving model to model.h5\n",
      "24/24 [==============================] - 0s 4ms/step - loss: 0.0535 - val_loss: 0.0561\n",
      "Epoch 20/300\n",
      " 1/24 [>.............................] - ETA: 0s - loss: 0.0542\n",
      "Epoch 00020: val_loss improved from 0.05607 to 0.05520, saving model to model.h5\n",
      "24/24 [==============================] - 0s 4ms/step - loss: 0.0529 - val_loss: 0.0552\n",
      "Epoch 21/300\n",
      " 1/24 [>.............................] - ETA: 0s - loss: 0.0522\n",
      "Epoch 00021: val_loss improved from 0.05520 to 0.05444, saving model to model.h5\n",
      "24/24 [==============================] - 0s 4ms/step - loss: 0.0524 - val_loss: 0.0544\n",
      "Epoch 22/300\n",
      " 1/24 [>.............................] - ETA: 0s - loss: 0.0505\n",
      "Epoch 00022: val_loss improved from 0.05444 to 0.05401, saving model to model.h5\n",
      "24/24 [==============================] - 0s 5ms/step - loss: 0.0519 - val_loss: 0.0540\n",
      "Epoch 23/300\n",
      " 1/24 [>.............................] - ETA: 0s - loss: 0.0510\n",
      "Epoch 00023: val_loss improved from 0.05401 to 0.05350, saving model to model.h5\n",
      "24/24 [==============================] - 0s 5ms/step - loss: 0.0515 - val_loss: 0.0535\n",
      "Epoch 24/300\n",
      " 1/24 [>.............................] - ETA: 0s - loss: 0.0525\n",
      "Epoch 00024: val_loss improved from 0.05350 to 0.05300, saving model to model.h5\n",
      "24/24 [==============================] - 0s 4ms/step - loss: 0.0513 - val_loss: 0.0530\n",
      "Epoch 25/300\n",
      " 1/24 [>.............................] - ETA: 0s - loss: 0.0523\n",
      "Epoch 00025: val_loss improved from 0.05300 to 0.05252, saving model to model.h5\n",
      "24/24 [==============================] - 0s 5ms/step - loss: 0.0510 - val_loss: 0.0525\n",
      "Epoch 26/300\n",
      " 1/24 [>.............................] - ETA: 0s - loss: 0.0504\n",
      "Epoch 00026: val_loss improved from 0.05252 to 0.05228, saving model to model.h5\n",
      "24/24 [==============================] - 0s 4ms/step - loss: 0.0509 - val_loss: 0.0523\n",
      "Epoch 27/300\n",
      " 1/24 [>.............................] - ETA: 0s - loss: 0.0500\n",
      "Epoch 00027: val_loss improved from 0.05228 to 0.05209, saving model to model.h5\n",
      "24/24 [==============================] - 0s 4ms/step - loss: 0.0507 - val_loss: 0.0521\n",
      "Epoch 28/300\n",
      " 1/24 [>.............................] - ETA: 0s - loss: 0.0497\n",
      "Epoch 00028: val_loss improved from 0.05209 to 0.05183, saving model to model.h5\n",
      "24/24 [==============================] - 0s 4ms/step - loss: 0.0505 - val_loss: 0.0518\n",
      "Epoch 29/300\n",
      " 1/24 [>.............................] - ETA: 0s - loss: 0.0519\n",
      "Epoch 00029: val_loss improved from 0.05183 to 0.05155, saving model to model.h5\n",
      "24/24 [==============================] - 0s 4ms/step - loss: 0.0504 - val_loss: 0.0516\n",
      "Epoch 30/300\n",
      " 1/24 [>.............................] - ETA: 0s - loss: 0.0501\n",
      "Epoch 00030: val_loss improved from 0.05155 to 0.05135, saving model to model.h5\n",
      "24/24 [==============================] - 0s 4ms/step - loss: 0.0503 - val_loss: 0.0514\n",
      "Epoch 31/300\n",
      " 1/24 [>.............................] - ETA: 0s - loss: 0.0511\n",
      "Epoch 00031: val_loss improved from 0.05135 to 0.05121, saving model to model.h5\n",
      "24/24 [==============================] - 0s 4ms/step - loss: 0.0501 - val_loss: 0.0512\n",
      "Epoch 32/300\n",
      " 1/24 [>.............................] - ETA: 0s - loss: 0.0528\n",
      "Epoch 00032: val_loss improved from 0.05121 to 0.05110, saving model to model.h5\n",
      "24/24 [==============================] - 0s 5ms/step - loss: 0.0500 - val_loss: 0.0511\n",
      "Epoch 33/300\n",
      " 1/24 [>.............................] - ETA: 0s - loss: 0.0518\n",
      "Epoch 00033: val_loss improved from 0.05110 to 0.05096, saving model to model.h5\n",
      "24/24 [==============================] - 0s 4ms/step - loss: 0.0500 - val_loss: 0.0510\n",
      "Epoch 34/300\n",
      " 1/24 [>.............................] - ETA: 0s - loss: 0.0456\n",
      "Epoch 00034: val_loss improved from 0.05096 to 0.05071, saving model to model.h5\n"
     ]
    },
    {
     "name": "stdout",
     "output_type": "stream",
     "text": [
      "24/24 [==============================] - 0s 4ms/step - loss: 0.0498 - val_loss: 0.0507\n",
      "Epoch 35/300\n",
      " 1/24 [>.............................] - ETA: 0s - loss: 0.0500\n",
      "Epoch 00035: val_loss improved from 0.05071 to 0.05066, saving model to model.h5\n",
      "24/24 [==============================] - 0s 4ms/step - loss: 0.0497 - val_loss: 0.0507\n",
      "Epoch 36/300\n",
      " 1/24 [>.............................] - ETA: 0s - loss: 0.0480\n",
      "Epoch 00036: val_loss improved from 0.05066 to 0.05056, saving model to model.h5\n",
      "24/24 [==============================] - 0s 4ms/step - loss: 0.0496 - val_loss: 0.0506\n",
      "Epoch 37/300\n",
      " 1/24 [>.............................] - ETA: 0s - loss: 0.0504\n",
      "Epoch 00037: val_loss improved from 0.05056 to 0.05042, saving model to model.h5\n",
      "24/24 [==============================] - 0s 4ms/step - loss: 0.0495 - val_loss: 0.0504\n",
      "Epoch 38/300\n",
      " 1/24 [>.............................] - ETA: 0s - loss: 0.0468\n",
      "Epoch 00038: val_loss improved from 0.05042 to 0.05034, saving model to model.h5\n",
      "24/24 [==============================] - 0s 4ms/step - loss: 0.0494 - val_loss: 0.0503\n",
      "Epoch 39/300\n",
      " 1/24 [>.............................] - ETA: 0s - loss: 0.0514\n",
      "Epoch 00039: val_loss improved from 0.05034 to 0.05020, saving model to model.h5\n",
      "24/24 [==============================] - 0s 4ms/step - loss: 0.0493 - val_loss: 0.0502\n",
      "Epoch 40/300\n",
      " 1/24 [>.............................] - ETA: 0s - loss: 0.0482\n",
      "Epoch 00040: val_loss improved from 0.05020 to 0.05010, saving model to model.h5\n",
      "24/24 [==============================] - 0s 3ms/step - loss: 0.0492 - val_loss: 0.0501\n",
      "Epoch 41/300\n",
      " 1/24 [>.............................] - ETA: 0s - loss: 0.0467\n",
      "Epoch 00041: val_loss improved from 0.05010 to 0.05000, saving model to model.h5\n",
      "24/24 [==============================] - 0s 4ms/step - loss: 0.0492 - val_loss: 0.0500\n",
      "Epoch 42/300\n",
      " 1/24 [>.............................] - ETA: 0s - loss: 0.0488\n",
      "Epoch 00042: val_loss improved from 0.05000 to 0.04999, saving model to model.h5\n",
      "24/24 [==============================] - 0s 4ms/step - loss: 0.0491 - val_loss: 0.0500\n",
      "Epoch 43/300\n",
      " 1/24 [>.............................] - ETA: 0s - loss: 0.0467\n",
      "Epoch 00043: val_loss improved from 0.04999 to 0.04983, saving model to model.h5\n",
      "24/24 [==============================] - 0s 4ms/step - loss: 0.0490 - val_loss: 0.0498\n",
      "Epoch 44/300\n",
      " 1/24 [>.............................] - ETA: 0s - loss: 0.0486\n",
      "Epoch 00044: val_loss improved from 0.04983 to 0.04978, saving model to model.h5\n",
      "24/24 [==============================] - 0s 4ms/step - loss: 0.0489 - val_loss: 0.0498\n",
      "Epoch 45/300\n",
      " 1/24 [>.............................] - ETA: 0s - loss: 0.0453\n",
      "Epoch 00045: val_loss did not improve from 0.04978\n",
      "24/24 [==============================] - 0s 2ms/step - loss: 0.0488 - val_loss: 0.0498\n",
      "Epoch 46/300\n",
      " 1/24 [>.............................] - ETA: 0s - loss: 0.0500\n",
      "Epoch 00046: val_loss improved from 0.04978 to 0.04970, saving model to model.h5\n",
      "24/24 [==============================] - 0s 4ms/step - loss: 0.0488 - val_loss: 0.0497\n",
      "Epoch 47/300\n",
      " 1/24 [>.............................] - ETA: 0s - loss: 0.0485\n",
      "Epoch 00047: val_loss improved from 0.04970 to 0.04967, saving model to model.h5\n",
      "24/24 [==============================] - 0s 4ms/step - loss: 0.0486 - val_loss: 0.0497\n",
      "Epoch 48/300\n",
      " 1/24 [>.............................] - ETA: 0s - loss: 0.0482\n",
      "Epoch 00048: val_loss improved from 0.04967 to 0.04964, saving model to model.h5\n",
      "24/24 [==============================] - 0s 4ms/step - loss: 0.0486 - val_loss: 0.0496\n",
      "Epoch 49/300\n",
      " 1/24 [>.............................] - ETA: 0s - loss: 0.0480\n",
      "Epoch 00049: val_loss improved from 0.04964 to 0.04955, saving model to model.h5\n",
      "24/24 [==============================] - 0s 4ms/step - loss: 0.0486 - val_loss: 0.0496\n",
      "Epoch 50/300\n",
      " 1/24 [>.............................] - ETA: 0s - loss: 0.0466\n",
      "Epoch 00050: val_loss improved from 0.04955 to 0.04949, saving model to model.h5\n",
      "24/24 [==============================] - 0s 4ms/step - loss: 0.0485 - val_loss: 0.0495\n",
      "Epoch 51/300\n",
      " 1/24 [>.............................] - ETA: 0s - loss: 0.0478\n",
      "Epoch 00051: val_loss improved from 0.04949 to 0.04942, saving model to model.h5\n",
      "24/24 [==============================] - 0s 4ms/step - loss: 0.0485 - val_loss: 0.0494\n",
      "Epoch 52/300\n",
      " 1/24 [>.............................] - ETA: 0s - loss: 0.0525\n",
      "Epoch 00052: val_loss improved from 0.04942 to 0.04939, saving model to model.h5\n",
      "24/24 [==============================] - 0s 4ms/step - loss: 0.0484 - val_loss: 0.0494\n",
      "Epoch 53/300\n",
      " 1/24 [>.............................] - ETA: 0s - loss: 0.0537\n",
      "Epoch 00053: val_loss improved from 0.04939 to 0.04935, saving model to model.h5\n",
      "24/24 [==============================] - 0s 4ms/step - loss: 0.0483 - val_loss: 0.0493\n",
      "Epoch 54/300\n",
      " 1/24 [>.............................] - ETA: 0s - loss: 0.0477\n",
      "Epoch 00054: val_loss improved from 0.04935 to 0.04930, saving model to model.h5\n",
      "24/24 [==============================] - 0s 4ms/step - loss: 0.0483 - val_loss: 0.0493\n",
      "Epoch 55/300\n",
      " 1/24 [>.............................] - ETA: 0s - loss: 0.0480\n",
      "Epoch 00055: val_loss did not improve from 0.04930\n",
      "24/24 [==============================] - 0s 2ms/step - loss: 0.0482 - val_loss: 0.0493\n",
      "Epoch 56/300\n",
      " 1/24 [>.............................] - ETA: 0s - loss: 0.0504\n",
      "Epoch 00056: val_loss improved from 0.04930 to 0.04924, saving model to model.h5\n",
      "24/24 [==============================] - 0s 4ms/step - loss: 0.0482 - val_loss: 0.0492\n",
      "Epoch 57/300\n",
      " 1/24 [>.............................] - ETA: 0s - loss: 0.0492\n",
      "Epoch 00057: val_loss improved from 0.04924 to 0.04915, saving model to model.h5\n",
      "24/24 [==============================] - 0s 4ms/step - loss: 0.0482 - val_loss: 0.0492\n",
      "Epoch 58/300\n",
      " 1/24 [>.............................] - ETA: 0s - loss: 0.0451\n",
      "Epoch 00058: val_loss improved from 0.04915 to 0.04911, saving model to model.h5\n",
      "24/24 [==============================] - 0s 4ms/step - loss: 0.0480 - val_loss: 0.0491\n",
      "Epoch 59/300\n",
      " 1/24 [>.............................] - ETA: 0s - loss: 0.0473\n",
      "Epoch 00059: val_loss did not improve from 0.04911\n",
      "24/24 [==============================] - 0s 2ms/step - loss: 0.0480 - val_loss: 0.0492\n",
      "Epoch 60/300\n",
      " 1/24 [>.............................] - ETA: 0s - loss: 0.0459\n",
      "Epoch 00060: val_loss improved from 0.04911 to 0.04905, saving model to model.h5\n",
      "24/24 [==============================] - 0s 4ms/step - loss: 0.0480 - val_loss: 0.0490\n",
      "Epoch 61/300\n",
      " 1/24 [>.............................] - ETA: 0s - loss: 0.0444\n",
      "Epoch 00061: val_loss improved from 0.04905 to 0.04902, saving model to model.h5\n",
      "24/24 [==============================] - 0s 4ms/step - loss: 0.0479 - val_loss: 0.0490\n",
      "Epoch 62/300\n",
      " 1/24 [>.............................] - ETA: 0s - loss: 0.0488\n",
      "Epoch 00062: val_loss improved from 0.04902 to 0.04900, saving model to model.h5\n",
      "24/24 [==============================] - 0s 5ms/step - loss: 0.0478 - val_loss: 0.0490\n",
      "Epoch 63/300\n",
      " 1/24 [>.............................] - ETA: 0s - loss: 0.0483\n",
      "Epoch 00063: val_loss did not improve from 0.04900\n",
      "24/24 [==============================] - 0s 2ms/step - loss: 0.0477 - val_loss: 0.0490\n",
      "Epoch 64/300\n",
      " 1/24 [>.............................] - ETA: 0s - loss: 0.0471\n",
      "Epoch 00064: val_loss improved from 0.04900 to 0.04894, saving model to model.h5\n",
      "24/24 [==============================] - 0s 3ms/step - loss: 0.0477 - val_loss: 0.0489\n",
      "Epoch 65/300\n",
      " 1/24 [>.............................] - ETA: 0s - loss: 0.0508\n",
      "Epoch 00065: val_loss improved from 0.04894 to 0.04891, saving model to model.h5\n",
      "24/24 [==============================] - 0s 4ms/step - loss: 0.0477 - val_loss: 0.0489\n",
      "Epoch 66/300\n",
      " 1/24 [>.............................] - ETA: 0s - loss: 0.0491\n",
      "Epoch 00066: val_loss improved from 0.04891 to 0.04890, saving model to model.h5\n",
      "24/24 [==============================] - 0s 4ms/step - loss: 0.0476 - val_loss: 0.0489\n",
      "Epoch 67/300\n",
      " 1/24 [>.............................] - ETA: 0s - loss: 0.0489\n",
      "Epoch 00067: val_loss improved from 0.04890 to 0.04884, saving model to model.h5\n",
      "24/24 [==============================] - 0s 4ms/step - loss: 0.0476 - val_loss: 0.0488\n",
      "Epoch 68/300\n",
      " 1/24 [>.............................] - ETA: 0s - loss: 0.0453\n",
      "Epoch 00068: val_loss improved from 0.04884 to 0.04876, saving model to model.h5\n"
     ]
    },
    {
     "name": "stdout",
     "output_type": "stream",
     "text": [
      "24/24 [==============================] - 0s 4ms/step - loss: 0.0475 - val_loss: 0.0488\n",
      "Epoch 69/300\n",
      " 1/24 [>.............................] - ETA: 0s - loss: 0.0475\n",
      "Epoch 00069: val_loss improved from 0.04876 to 0.04873, saving model to model.h5\n",
      "24/24 [==============================] - 0s 4ms/step - loss: 0.0475 - val_loss: 0.0487\n",
      "Epoch 70/300\n",
      " 1/24 [>.............................] - ETA: 0s - loss: 0.0465\n",
      "Epoch 00070: val_loss improved from 0.04873 to 0.04871, saving model to model.h5\n",
      "24/24 [==============================] - 0s 3ms/step - loss: 0.0474 - val_loss: 0.0487\n",
      "Epoch 71/300\n",
      " 1/24 [>.............................] - ETA: 0s - loss: 0.0463\n",
      "Epoch 00071: val_loss improved from 0.04871 to 0.04863, saving model to model.h5\n",
      "24/24 [==============================] - 0s 3ms/step - loss: 0.0474 - val_loss: 0.0486\n",
      "Epoch 72/300\n",
      " 1/24 [>.............................] - ETA: 0s - loss: 0.0484\n",
      "Epoch 00072: val_loss improved from 0.04863 to 0.04860, saving model to model.h5\n",
      "24/24 [==============================] - 0s 3ms/step - loss: 0.0473 - val_loss: 0.0486\n",
      "Epoch 73/300\n",
      " 1/24 [>.............................] - ETA: 0s - loss: 0.0460\n",
      "Epoch 00073: val_loss improved from 0.04860 to 0.04858, saving model to model.h5\n",
      "24/24 [==============================] - 0s 4ms/step - loss: 0.0473 - val_loss: 0.0486\n",
      "Epoch 74/300\n",
      " 1/24 [>.............................] - ETA: 0s - loss: 0.0484\n",
      "Epoch 00074: val_loss improved from 0.04858 to 0.04853, saving model to model.h5\n",
      "24/24 [==============================] - 0s 5ms/step - loss: 0.0473 - val_loss: 0.0485\n",
      "Epoch 75/300\n",
      " 1/24 [>.............................] - ETA: 0s - loss: 0.0482\n",
      "Epoch 00075: val_loss did not improve from 0.04853\n",
      "24/24 [==============================] - 0s 3ms/step - loss: 0.0472 - val_loss: 0.0486\n",
      "Epoch 76/300\n",
      " 1/24 [>.............................] - ETA: 0s - loss: 0.0477\n",
      "Epoch 00076: val_loss did not improve from 0.04853\n",
      "24/24 [==============================] - 0s 3ms/step - loss: 0.0472 - val_loss: 0.0485\n",
      "Epoch 77/300\n",
      " 1/24 [>.............................] - ETA: 0s - loss: 0.0490\n",
      "Epoch 00077: val_loss improved from 0.04853 to 0.04851, saving model to model.h5\n",
      "24/24 [==============================] - 0s 4ms/step - loss: 0.0471 - val_loss: 0.0485\n",
      "Epoch 78/300\n",
      " 1/24 [>.............................] - ETA: 0s - loss: 0.0473\n",
      "Epoch 00078: val_loss improved from 0.04851 to 0.04843, saving model to model.h5\n",
      "24/24 [==============================] - 0s 3ms/step - loss: 0.0471 - val_loss: 0.0484\n",
      "Epoch 79/300\n",
      " 1/24 [>.............................] - ETA: 0s - loss: 0.0446\n",
      "Epoch 00079: val_loss improved from 0.04843 to 0.04840, saving model to model.h5\n",
      "24/24 [==============================] - 0s 4ms/step - loss: 0.0470 - val_loss: 0.0484\n",
      "Epoch 80/300\n",
      " 1/24 [>.............................] - ETA: 0s - loss: 0.0444\n",
      "Epoch 00080: val_loss improved from 0.04840 to 0.04835, saving model to model.h5\n",
      "24/24 [==============================] - 0s 4ms/step - loss: 0.0470 - val_loss: 0.0483\n",
      "Epoch 81/300\n",
      " 1/24 [>.............................] - ETA: 0s - loss: 0.0469\n",
      "Epoch 00081: val_loss improved from 0.04835 to 0.04831, saving model to model.h5\n",
      "24/24 [==============================] - 0s 4ms/step - loss: 0.0469 - val_loss: 0.0483\n",
      "Epoch 82/300\n",
      " 1/24 [>.............................] - ETA: 0s - loss: 0.0444\n",
      "Epoch 00082: val_loss improved from 0.04831 to 0.04828, saving model to model.h5\n",
      "24/24 [==============================] - 0s 4ms/step - loss: 0.0469 - val_loss: 0.0483\n",
      "Epoch 83/300\n",
      " 1/24 [>.............................] - ETA: 0s - loss: 0.0457\n",
      "Epoch 00083: val_loss did not improve from 0.04828\n",
      "24/24 [==============================] - 0s 2ms/step - loss: 0.0469 - val_loss: 0.0483\n",
      "Epoch 84/300\n",
      " 1/24 [>.............................] - ETA: 0s - loss: 0.0500\n",
      "Epoch 00084: val_loss did not improve from 0.04828\n",
      "24/24 [==============================] - 0s 2ms/step - loss: 0.0468 - val_loss: 0.0483\n",
      "Epoch 85/300\n",
      " 1/24 [>.............................] - ETA: 0s - loss: 0.0449\n",
      "Epoch 00085: val_loss improved from 0.04828 to 0.04821, saving model to model.h5\n",
      "24/24 [==============================] - 0s 3ms/step - loss: 0.0468 - val_loss: 0.0482\n",
      "Epoch 86/300\n",
      " 1/24 [>.............................] - ETA: 0s - loss: 0.0483\n",
      "Epoch 00086: val_loss improved from 0.04821 to 0.04817, saving model to model.h5\n",
      "24/24 [==============================] - 0s 4ms/step - loss: 0.0467 - val_loss: 0.0482\n",
      "Epoch 87/300\n",
      " 1/24 [>.............................] - ETA: 0s - loss: 0.0466\n",
      "Epoch 00087: val_loss did not improve from 0.04817\n",
      "24/24 [==============================] - 0s 2ms/step - loss: 0.0467 - val_loss: 0.0482\n",
      "Epoch 88/300\n",
      " 1/24 [>.............................] - ETA: 0s - loss: 0.0477\n",
      "Epoch 00088: val_loss improved from 0.04817 to 0.04813, saving model to model.h5\n",
      "24/24 [==============================] - 0s 3ms/step - loss: 0.0467 - val_loss: 0.0481\n",
      "Epoch 89/300\n",
      " 1/24 [>.............................] - ETA: 0s - loss: 0.0444\n",
      "Epoch 00089: val_loss improved from 0.04813 to 0.04809, saving model to model.h5\n",
      "24/24 [==============================] - 0s 4ms/step - loss: 0.0466 - val_loss: 0.0481\n",
      "Epoch 90/300\n",
      " 1/24 [>.............................] - ETA: 0s - loss: 0.0464\n",
      "Epoch 00090: val_loss improved from 0.04809 to 0.04808, saving model to model.h5\n",
      "24/24 [==============================] - 0s 4ms/step - loss: 0.0465 - val_loss: 0.0481\n",
      "Epoch 91/300\n",
      " 1/24 [>.............................] - ETA: 0s - loss: 0.0457\n",
      "Epoch 00091: val_loss improved from 0.04808 to 0.04805, saving model to model.h5\n",
      "24/24 [==============================] - 0s 5ms/step - loss: 0.0465 - val_loss: 0.0481\n",
      "Epoch 92/300\n",
      " 1/24 [>.............................] - ETA: 0s - loss: 0.0445\n",
      "Epoch 00092: val_loss improved from 0.04805 to 0.04803, saving model to model.h5\n",
      "24/24 [==============================] - 0s 4ms/step - loss: 0.0465 - val_loss: 0.0480\n",
      "Epoch 93/300\n",
      " 1/24 [>.............................] - ETA: 0s - loss: 0.0482\n",
      "Epoch 00093: val_loss did not improve from 0.04803\n",
      "24/24 [==============================] - 0s 2ms/step - loss: 0.0464 - val_loss: 0.0480\n",
      "Epoch 94/300\n",
      " 1/24 [>.............................] - ETA: 0s - loss: 0.0421\n",
      "Epoch 00094: val_loss improved from 0.04803 to 0.04800, saving model to model.h5\n",
      "24/24 [==============================] - 0s 3ms/step - loss: 0.0464 - val_loss: 0.0480\n",
      "Epoch 95/300\n",
      " 1/24 [>.............................] - ETA: 0s - loss: 0.0459\n",
      "Epoch 00095: val_loss improved from 0.04800 to 0.04794, saving model to model.h5\n",
      "24/24 [==============================] - 0s 3ms/step - loss: 0.0464 - val_loss: 0.0479\n",
      "Epoch 96/300\n",
      " 1/24 [>.............................] - ETA: 0s - loss: 0.0461\n",
      "Epoch 00096: val_loss improved from 0.04794 to 0.04787, saving model to model.h5\n",
      "24/24 [==============================] - 0s 3ms/step - loss: 0.0463 - val_loss: 0.0479\n",
      "Epoch 97/300\n",
      " 1/24 [>.............................] - ETA: 0s - loss: 0.0446\n",
      "Epoch 00097: val_loss did not improve from 0.04787\n",
      "24/24 [==============================] - 0s 3ms/step - loss: 0.0464 - val_loss: 0.0479\n",
      "Epoch 98/300\n",
      " 1/24 [>.............................] - ETA: 0s - loss: 0.0416\n",
      "Epoch 00098: val_loss did not improve from 0.04787\n",
      "24/24 [==============================] - 0s 3ms/step - loss: 0.0463 - val_loss: 0.0479\n",
      "Epoch 99/300\n",
      " 1/24 [>.............................] - ETA: 0s - loss: 0.0488\n",
      "Epoch 00099: val_loss improved from 0.04787 to 0.04785, saving model to model.h5\n",
      "24/24 [==============================] - 0s 4ms/step - loss: 0.0463 - val_loss: 0.0479\n",
      "Epoch 100/300\n",
      " 1/24 [>.............................] - ETA: 0s - loss: 0.0472\n",
      "Epoch 00100: val_loss improved from 0.04785 to 0.04782, saving model to model.h5\n",
      "24/24 [==============================] - 0s 3ms/step - loss: 0.0462 - val_loss: 0.0478\n",
      "Epoch 101/300\n",
      " 1/24 [>.............................] - ETA: 0s - loss: 0.0440\n",
      "Epoch 00101: val_loss did not improve from 0.04782\n",
      "24/24 [==============================] - 0s 2ms/step - loss: 0.0461 - val_loss: 0.0478\n",
      "Epoch 102/300\n",
      " 1/24 [>.............................] - ETA: 0s - loss: 0.0467\n",
      "Epoch 00102: val_loss improved from 0.04782 to 0.04777, saving model to model.h5\n",
      "24/24 [==============================] - 0s 4ms/step - loss: 0.0462 - val_loss: 0.0478\n",
      "Epoch 103/300\n"
     ]
    },
    {
     "name": "stdout",
     "output_type": "stream",
     "text": [
      " 1/24 [>.............................] - ETA: 0s - loss: 0.0484\n",
      "Epoch 00103: val_loss improved from 0.04777 to 0.04773, saving model to model.h5\n",
      "24/24 [==============================] - 0s 4ms/step - loss: 0.0461 - val_loss: 0.0477\n",
      "Epoch 104/300\n",
      " 1/24 [>.............................] - ETA: 0s - loss: 0.0499\n",
      "Epoch 00104: val_loss improved from 0.04773 to 0.04770, saving model to model.h5\n",
      "24/24 [==============================] - 0s 3ms/step - loss: 0.0461 - val_loss: 0.0477\n",
      "Epoch 105/300\n",
      " 1/24 [>.............................] - ETA: 0s - loss: 0.0423\n",
      "Epoch 00105: val_loss improved from 0.04770 to 0.04768, saving model to model.h5\n",
      "24/24 [==============================] - 0s 4ms/step - loss: 0.0461 - val_loss: 0.0477\n",
      "Epoch 106/300\n",
      " 1/24 [>.............................] - ETA: 0s - loss: 0.0426\n",
      "Epoch 00106: val_loss improved from 0.04768 to 0.04768, saving model to model.h5\n",
      "24/24 [==============================] - 0s 4ms/step - loss: 0.0460 - val_loss: 0.0477\n",
      "Epoch 107/300\n",
      " 1/24 [>.............................] - ETA: 0s - loss: 0.0457\n",
      "Epoch 00107: val_loss improved from 0.04768 to 0.04766, saving model to model.h5\n",
      "24/24 [==============================] - 0s 4ms/step - loss: 0.0460 - val_loss: 0.0477\n",
      "Epoch 108/300\n",
      " 1/24 [>.............................] - ETA: 0s - loss: 0.0488\n",
      "Epoch 00108: val_loss improved from 0.04766 to 0.04765, saving model to model.h5\n",
      "24/24 [==============================] - 0s 3ms/step - loss: 0.0460 - val_loss: 0.0476\n",
      "Epoch 109/300\n",
      " 1/24 [>.............................] - ETA: 0s - loss: 0.0488\n",
      "Epoch 00109: val_loss improved from 0.04765 to 0.04763, saving model to model.h5\n",
      "24/24 [==============================] - 0s 3ms/step - loss: 0.0459 - val_loss: 0.0476\n",
      "Epoch 110/300\n",
      " 1/24 [>.............................] - ETA: 0s - loss: 0.0465\n",
      "Epoch 00110: val_loss improved from 0.04763 to 0.04760, saving model to model.h5\n",
      "24/24 [==============================] - 0s 4ms/step - loss: 0.0458 - val_loss: 0.0476\n",
      "Epoch 111/300\n",
      " 1/24 [>.............................] - ETA: 0s - loss: 0.0444\n",
      "Epoch 00111: val_loss improved from 0.04760 to 0.04757, saving model to model.h5\n",
      "24/24 [==============================] - 0s 4ms/step - loss: 0.0458 - val_loss: 0.0476\n",
      "Epoch 112/300\n",
      " 1/24 [>.............................] - ETA: 0s - loss: 0.0465\n",
      "Epoch 00112: val_loss improved from 0.04757 to 0.04755, saving model to model.h5\n",
      "24/24 [==============================] - 0s 4ms/step - loss: 0.0457 - val_loss: 0.0476\n",
      "Epoch 113/300\n",
      " 1/24 [>.............................] - ETA: 0s - loss: 0.0436\n",
      "Epoch 00113: val_loss improved from 0.04755 to 0.04748, saving model to model.h5\n",
      "24/24 [==============================] - 0s 4ms/step - loss: 0.0457 - val_loss: 0.0475\n",
      "Epoch 114/300\n",
      " 1/24 [>.............................] - ETA: 0s - loss: 0.0428\n",
      "Epoch 00114: val_loss did not improve from 0.04748\n",
      "24/24 [==============================] - 0s 2ms/step - loss: 0.0457 - val_loss: 0.0475\n",
      "Epoch 115/300\n",
      " 1/24 [>.............................] - ETA: 0s - loss: 0.0446\n",
      "Epoch 00115: val_loss did not improve from 0.04748\n",
      "24/24 [==============================] - 0s 2ms/step - loss: 0.0457 - val_loss: 0.0475\n",
      "Epoch 116/300\n",
      " 1/24 [>.............................] - ETA: 0s - loss: 0.0437\n",
      "Epoch 00116: val_loss improved from 0.04748 to 0.04746, saving model to model.h5\n",
      "24/24 [==============================] - 0s 4ms/step - loss: 0.0456 - val_loss: 0.0475\n",
      "Epoch 117/300\n",
      " 1/24 [>.............................] - ETA: 0s - loss: 0.0424\n",
      "Epoch 00117: val_loss improved from 0.04746 to 0.04742, saving model to model.h5\n",
      "24/24 [==============================] - 0s 4ms/step - loss: 0.0456 - val_loss: 0.0474\n",
      "Epoch 118/300\n",
      " 1/24 [>.............................] - ETA: 0s - loss: 0.0447\n",
      "Epoch 00118: val_loss improved from 0.04742 to 0.04740, saving model to model.h5\n",
      "24/24 [==============================] - 0s 4ms/step - loss: 0.0455 - val_loss: 0.0474\n",
      "Epoch 119/300\n",
      " 1/24 [>.............................] - ETA: 0s - loss: 0.0417\n",
      "Epoch 00119: val_loss improved from 0.04740 to 0.04736, saving model to model.h5\n",
      "24/24 [==============================] - 0s 4ms/step - loss: 0.0454 - val_loss: 0.0474\n",
      "Epoch 120/300\n",
      " 1/24 [>.............................] - ETA: 0s - loss: 0.0461\n",
      "Epoch 00120: val_loss did not improve from 0.04736\n",
      "24/24 [==============================] - 0s 3ms/step - loss: 0.0455 - val_loss: 0.0474\n",
      "Epoch 121/300\n",
      " 1/24 [>.............................] - ETA: 0s - loss: 0.0499\n",
      "Epoch 00121: val_loss did not improve from 0.04736\n",
      "24/24 [==============================] - 0s 2ms/step - loss: 0.0454 - val_loss: 0.0474\n",
      "Epoch 122/300\n",
      " 1/24 [>.............................] - ETA: 0s - loss: 0.0435\n",
      "Epoch 00122: val_loss did not improve from 0.04736\n",
      "24/24 [==============================] - 0s 2ms/step - loss: 0.0454 - val_loss: 0.0474\n",
      "Epoch 123/300\n",
      " 1/24 [>.............................] - ETA: 0s - loss: 0.0467\n",
      "Epoch 00123: val_loss did not improve from 0.04736\n",
      "24/24 [==============================] - 0s 2ms/step - loss: 0.0453 - val_loss: 0.0474\n",
      "Epoch 124/300\n",
      " 1/24 [>.............................] - ETA: 0s - loss: 0.0471\n",
      "Epoch 00124: val_loss improved from 0.04736 to 0.04732, saving model to model.h5\n",
      "24/24 [==============================] - 0s 4ms/step - loss: 0.0454 - val_loss: 0.0473\n",
      "Epoch 125/300\n",
      " 1/24 [>.............................] - ETA: 0s - loss: 0.0419\n",
      "Epoch 00125: val_loss improved from 0.04732 to 0.04730, saving model to model.h5\n",
      "24/24 [==============================] - 0s 4ms/step - loss: 0.0453 - val_loss: 0.0473\n",
      "Epoch 126/300\n",
      " 1/24 [>.............................] - ETA: 0s - loss: 0.0488\n",
      "Epoch 00126: val_loss improved from 0.04730 to 0.04727, saving model to model.h5\n",
      "24/24 [==============================] - 0s 4ms/step - loss: 0.0453 - val_loss: 0.0473\n",
      "Epoch 127/300\n",
      " 1/24 [>.............................] - ETA: 0s - loss: 0.0436\n",
      "Epoch 00127: val_loss did not improve from 0.04727\n",
      "24/24 [==============================] - 0s 3ms/step - loss: 0.0452 - val_loss: 0.0473\n",
      "Epoch 128/300\n",
      " 1/24 [>.............................] - ETA: 0s - loss: 0.0444\n",
      "Epoch 00128: val_loss improved from 0.04727 to 0.04723, saving model to model.h5\n",
      "24/24 [==============================] - 0s 4ms/step - loss: 0.0452 - val_loss: 0.0472\n",
      "Epoch 129/300\n",
      " 1/24 [>.............................] - ETA: 0s - loss: 0.0472\n",
      "Epoch 00129: val_loss improved from 0.04723 to 0.04721, saving model to model.h5\n",
      "24/24 [==============================] - 0s 4ms/step - loss: 0.0451 - val_loss: 0.0472\n",
      "Epoch 130/300\n",
      " 1/24 [>.............................] - ETA: 0s - loss: 0.0464\n",
      "Epoch 00130: val_loss improved from 0.04721 to 0.04720, saving model to model.h5\n",
      "24/24 [==============================] - 0s 4ms/step - loss: 0.0451 - val_loss: 0.0472\n",
      "Epoch 131/300\n",
      " 1/24 [>.............................] - ETA: 0s - loss: 0.0489\n",
      "Epoch 00131: val_loss improved from 0.04720 to 0.04718, saving model to model.h5\n",
      "24/24 [==============================] - 0s 4ms/step - loss: 0.0451 - val_loss: 0.0472\n",
      "Epoch 132/300\n",
      " 1/24 [>.............................] - ETA: 0s - loss: 0.0411\n",
      "Epoch 00132: val_loss improved from 0.04718 to 0.04716, saving model to model.h5\n",
      "24/24 [==============================] - 0s 4ms/step - loss: 0.0451 - val_loss: 0.0472\n",
      "Epoch 133/300\n",
      " 1/24 [>.............................] - ETA: 0s - loss: 0.0474\n",
      "Epoch 00133: val_loss improved from 0.04716 to 0.04714, saving model to model.h5\n",
      "24/24 [==============================] - 0s 4ms/step - loss: 0.0449 - val_loss: 0.0471\n",
      "Epoch 134/300\n",
      " 1/24 [>.............................] - ETA: 0s - loss: 0.0468\n",
      "Epoch 00134: val_loss improved from 0.04714 to 0.04711, saving model to model.h5\n",
      "24/24 [==============================] - 0s 5ms/step - loss: 0.0450 - val_loss: 0.0471\n",
      "Epoch 135/300\n",
      " 1/24 [>.............................] - ETA: 0s - loss: 0.0426\n",
      "Epoch 00135: val_loss did not improve from 0.04711\n",
      "24/24 [==============================] - 0s 3ms/step - loss: 0.0450 - val_loss: 0.0471\n",
      "Epoch 136/300\n",
      " 1/24 [>.............................] - ETA: 0s - loss: 0.0469\n",
      "Epoch 00136: val_loss improved from 0.04711 to 0.04707, saving model to model.h5\n",
      "24/24 [==============================] - 0s 4ms/step - loss: 0.0449 - val_loss: 0.0471\n",
      "Epoch 137/300\n",
      " 1/24 [>.............................] - ETA: 0s - loss: 0.0442\n",
      "Epoch 00137: val_loss improved from 0.04707 to 0.04706, saving model to model.h5\n",
      "24/24 [==============================] - 0s 3ms/step - loss: 0.0449 - val_loss: 0.0471\n"
     ]
    },
    {
     "name": "stdout",
     "output_type": "stream",
     "text": [
      "Epoch 138/300\n",
      " 1/24 [>.............................] - ETA: 0s - loss: 0.0497\n",
      "Epoch 00138: val_loss improved from 0.04706 to 0.04704, saving model to model.h5\n",
      "24/24 [==============================] - 0s 3ms/step - loss: 0.0449 - val_loss: 0.0470\n",
      "Epoch 139/300\n",
      " 1/24 [>.............................] - ETA: 0s - loss: 0.0451\n",
      "Epoch 00139: val_loss improved from 0.04704 to 0.04704, saving model to model.h5\n",
      "24/24 [==============================] - 0s 4ms/step - loss: 0.0448 - val_loss: 0.0470\n",
      "Epoch 140/300\n",
      " 1/24 [>.............................] - ETA: 0s - loss: 0.0485\n",
      "Epoch 00140: val_loss improved from 0.04704 to 0.04702, saving model to model.h5\n",
      "24/24 [==============================] - 0s 4ms/step - loss: 0.0447 - val_loss: 0.0470\n",
      "Epoch 141/300\n",
      " 1/24 [>.............................] - ETA: 0s - loss: 0.0423\n",
      "Epoch 00141: val_loss did not improve from 0.04702\n",
      "24/24 [==============================] - 0s 2ms/step - loss: 0.0448 - val_loss: 0.0470\n",
      "Epoch 142/300\n",
      " 1/24 [>.............................] - ETA: 0s - loss: 0.0469\n",
      "Epoch 00142: val_loss improved from 0.04702 to 0.04698, saving model to model.h5\n",
      "24/24 [==============================] - 0s 3ms/step - loss: 0.0447 - val_loss: 0.0470\n",
      "Epoch 143/300\n",
      " 1/24 [>.............................] - ETA: 0s - loss: 0.0430\n",
      "Epoch 00143: val_loss improved from 0.04698 to 0.04698, saving model to model.h5\n",
      "24/24 [==============================] - 0s 3ms/step - loss: 0.0447 - val_loss: 0.0470\n",
      "Epoch 144/300\n",
      " 1/24 [>.............................] - ETA: 0s - loss: 0.0471\n",
      "Epoch 00144: val_loss improved from 0.04698 to 0.04697, saving model to model.h5\n",
      "24/24 [==============================] - 0s 4ms/step - loss: 0.0446 - val_loss: 0.0470\n",
      "Epoch 145/300\n",
      " 1/24 [>.............................] - ETA: 0s - loss: 0.0446\n",
      "Epoch 00145: val_loss improved from 0.04697 to 0.04695, saving model to model.h5\n",
      "24/24 [==============================] - 0s 4ms/step - loss: 0.0447 - val_loss: 0.0469\n",
      "Epoch 146/300\n",
      " 1/24 [>.............................] - ETA: 0s - loss: 0.0455\n",
      "Epoch 00146: val_loss improved from 0.04695 to 0.04694, saving model to model.h5\n",
      "24/24 [==============================] - 0s 4ms/step - loss: 0.0445 - val_loss: 0.0469\n",
      "Epoch 147/300\n",
      " 1/24 [>.............................] - ETA: 0s - loss: 0.0443\n",
      "Epoch 00147: val_loss improved from 0.04694 to 0.04694, saving model to model.h5\n",
      "24/24 [==============================] - 0s 4ms/step - loss: 0.0447 - val_loss: 0.0469\n",
      "Epoch 148/300\n",
      " 1/24 [>.............................] - ETA: 0s - loss: 0.0456\n",
      "Epoch 00148: val_loss improved from 0.04694 to 0.04689, saving model to model.h5\n",
      "24/24 [==============================] - 0s 4ms/step - loss: 0.0446 - val_loss: 0.0469\n",
      "Epoch 149/300\n",
      " 1/24 [>.............................] - ETA: 0s - loss: 0.0430\n",
      "Epoch 00149: val_loss did not improve from 0.04689\n",
      "24/24 [==============================] - 0s 2ms/step - loss: 0.0445 - val_loss: 0.0469\n",
      "Epoch 150/300\n",
      " 1/24 [>.............................] - ETA: 0s - loss: 0.0403\n",
      "Epoch 00150: val_loss improved from 0.04689 to 0.04688, saving model to model.h5\n",
      "24/24 [==============================] - 0s 4ms/step - loss: 0.0446 - val_loss: 0.0469\n",
      "Epoch 151/300\n",
      " 1/24 [>.............................] - ETA: 0s - loss: 0.0484\n",
      "Epoch 00151: val_loss did not improve from 0.04688\n",
      "24/24 [==============================] - 0s 3ms/step - loss: 0.0445 - val_loss: 0.0469\n",
      "Epoch 152/300\n",
      " 1/24 [>.............................] - ETA: 0s - loss: 0.0452\n",
      "Epoch 00152: val_loss improved from 0.04688 to 0.04685, saving model to model.h5\n",
      "24/24 [==============================] - 0s 4ms/step - loss: 0.0445 - val_loss: 0.0469\n",
      "Epoch 153/300\n",
      " 1/24 [>.............................] - ETA: 0s - loss: 0.0442\n",
      "Epoch 00153: val_loss did not improve from 0.04685\n",
      "24/24 [==============================] - 0s 2ms/step - loss: 0.0445 - val_loss: 0.0469\n",
      "Epoch 154/300\n",
      " 1/24 [>.............................] - ETA: 0s - loss: 0.0432\n",
      "Epoch 00154: val_loss did not improve from 0.04685\n",
      "24/24 [==============================] - 0s 3ms/step - loss: 0.0445 - val_loss: 0.0469\n",
      "Epoch 155/300\n",
      " 1/24 [>.............................] - ETA: 0s - loss: 0.0409\n",
      "Epoch 00155: val_loss improved from 0.04685 to 0.04685, saving model to model.h5\n",
      "24/24 [==============================] - 0s 3ms/step - loss: 0.0444 - val_loss: 0.0469\n",
      "Epoch 156/300\n",
      " 1/24 [>.............................] - ETA: 0s - loss: 0.0461\n",
      "Epoch 00156: val_loss improved from 0.04685 to 0.04683, saving model to model.h5\n",
      "24/24 [==============================] - 0s 4ms/step - loss: 0.0445 - val_loss: 0.0468\n",
      "Epoch 157/300\n",
      " 1/24 [>.............................] - ETA: 0s - loss: 0.0430\n",
      "Epoch 00157: val_loss improved from 0.04683 to 0.04679, saving model to model.h5\n",
      "24/24 [==============================] - 0s 4ms/step - loss: 0.0444 - val_loss: 0.0468\n",
      "Epoch 158/300\n",
      " 1/24 [>.............................] - ETA: 0s - loss: 0.0429\n",
      "Epoch 00158: val_loss improved from 0.04679 to 0.04678, saving model to model.h5\n",
      "24/24 [==============================] - 0s 4ms/step - loss: 0.0443 - val_loss: 0.0468\n",
      "Epoch 159/300\n",
      " 1/24 [>.............................] - ETA: 0s - loss: 0.0450\n",
      "Epoch 00159: val_loss did not improve from 0.04678\n",
      "24/24 [==============================] - 0s 2ms/step - loss: 0.0444 - val_loss: 0.0468\n",
      "Epoch 160/300\n",
      " 1/24 [>.............................] - ETA: 0s - loss: 0.0450\n",
      "Epoch 00160: val_loss did not improve from 0.04678\n",
      "24/24 [==============================] - 0s 2ms/step - loss: 0.0443 - val_loss: 0.0468\n",
      "Epoch 161/300\n",
      " 1/24 [>.............................] - ETA: 0s - loss: 0.0450\n",
      "Epoch 00161: val_loss did not improve from 0.04678\n",
      "24/24 [==============================] - 0s 2ms/step - loss: 0.0443 - val_loss: 0.0468\n",
      "Epoch 162/300\n",
      " 1/24 [>.............................] - ETA: 0s - loss: 0.0432\n",
      "Epoch 00162: val_loss improved from 0.04678 to 0.04675, saving model to model.h5\n",
      "24/24 [==============================] - 0s 4ms/step - loss: 0.0442 - val_loss: 0.0468\n",
      "Epoch 163/300\n",
      " 1/24 [>.............................] - ETA: 0s - loss: 0.0432\n",
      "Epoch 00163: val_loss improved from 0.04675 to 0.04673, saving model to model.h5\n",
      "24/24 [==============================] - 0s 4ms/step - loss: 0.0441 - val_loss: 0.0467\n",
      "Epoch 164/300\n",
      " 1/24 [>.............................] - ETA: 0s - loss: 0.0464\n",
      "Epoch 00164: val_loss improved from 0.04673 to 0.04669, saving model to model.h5\n",
      "24/24 [==============================] - 0s 3ms/step - loss: 0.0443 - val_loss: 0.0467\n",
      "Epoch 165/300\n",
      " 1/24 [>.............................] - ETA: 0s - loss: 0.0434\n",
      "Epoch 00165: val_loss did not improve from 0.04669\n",
      "24/24 [==============================] - 0s 2ms/step - loss: 0.0442 - val_loss: 0.0467\n",
      "Epoch 166/300\n",
      " 1/24 [>.............................] - ETA: 0s - loss: 0.0429\n",
      "Epoch 00166: val_loss improved from 0.04669 to 0.04668, saving model to model.h5\n",
      "24/24 [==============================] - 0s 3ms/step - loss: 0.0441 - val_loss: 0.0467\n",
      "Epoch 167/300\n",
      " 1/24 [>.............................] - ETA: 0s - loss: 0.0435\n",
      "Epoch 00167: val_loss improved from 0.04668 to 0.04667, saving model to model.h5\n",
      "24/24 [==============================] - 0s 3ms/step - loss: 0.0440 - val_loss: 0.0467\n",
      "Epoch 168/300\n",
      " 1/24 [>.............................] - ETA: 0s - loss: 0.0427\n",
      "Epoch 00168: val_loss did not improve from 0.04667\n",
      "24/24 [==============================] - 0s 2ms/step - loss: 0.0441 - val_loss: 0.0467\n",
      "Epoch 169/300\n",
      " 1/24 [>.............................] - ETA: 0s - loss: 0.0449\n",
      "Epoch 00169: val_loss did not improve from 0.04667\n",
      "24/24 [==============================] - 0s 2ms/step - loss: 0.0442 - val_loss: 0.0467\n",
      "Epoch 170/300\n",
      " 1/24 [>.............................] - ETA: 0s - loss: 0.0423\n",
      "Epoch 00170: val_loss did not improve from 0.04667\n",
      "24/24 [==============================] - 0s 2ms/step - loss: 0.0440 - val_loss: 0.0467\n",
      "Epoch 171/300\n",
      " 1/24 [>.............................] - ETA: 0s - loss: 0.0459\n",
      "Epoch 00171: val_loss improved from 0.04667 to 0.04667, saving model to model.h5\n",
      "24/24 [==============================] - 0s 4ms/step - loss: 0.0441 - val_loss: 0.0467\n",
      "Epoch 172/300\n",
      " 1/24 [>.............................] - ETA: 0s - loss: 0.0454\n",
      "Epoch 00172: val_loss did not improve from 0.04667\n",
      "24/24 [==============================] - 0s 2ms/step - loss: 0.0440 - val_loss: 0.0467\n"
     ]
    },
    {
     "name": "stdout",
     "output_type": "stream",
     "text": [
      "Epoch 173/300\n",
      " 1/24 [>.............................] - ETA: 0s - loss: 0.0446\n",
      "Epoch 00173: val_loss improved from 0.04667 to 0.04662, saving model to model.h5\n",
      "24/24 [==============================] - 0s 4ms/step - loss: 0.0440 - val_loss: 0.0466\n",
      "Epoch 174/300\n",
      " 1/24 [>.............................] - ETA: 0s - loss: 0.0431\n",
      "Epoch 00174: val_loss improved from 0.04662 to 0.04659, saving model to model.h5\n",
      "24/24 [==============================] - 0s 4ms/step - loss: 0.0440 - val_loss: 0.0466\n",
      "Epoch 175/300\n",
      " 1/24 [>.............................] - ETA: 0s - loss: 0.0378\n",
      "Epoch 00175: val_loss did not improve from 0.04659\n",
      "24/24 [==============================] - 0s 2ms/step - loss: 0.0439 - val_loss: 0.0466\n",
      "Epoch 176/300\n",
      " 1/24 [>.............................] - ETA: 0s - loss: 0.0461\n",
      "Epoch 00176: val_loss did not improve from 0.04659\n",
      "24/24 [==============================] - 0s 2ms/step - loss: 0.0440 - val_loss: 0.0466\n",
      "Epoch 177/300\n",
      " 1/24 [>.............................] - ETA: 0s - loss: 0.0459\n",
      "Epoch 00177: val_loss did not improve from 0.04659\n",
      "24/24 [==============================] - 0s 2ms/step - loss: 0.0440 - val_loss: 0.0466\n",
      "Epoch 178/300\n",
      " 1/24 [>.............................] - ETA: 0s - loss: 0.0442\n",
      "Epoch 00178: val_loss improved from 0.04659 to 0.04656, saving model to model.h5\n",
      "24/24 [==============================] - 0s 4ms/step - loss: 0.0439 - val_loss: 0.0466\n",
      "Epoch 179/300\n",
      " 1/24 [>.............................] - ETA: 0s - loss: 0.0471\n",
      "Epoch 00179: val_loss did not improve from 0.04656\n",
      "24/24 [==============================] - 0s 2ms/step - loss: 0.0440 - val_loss: 0.0466\n",
      "Epoch 180/300\n",
      " 1/24 [>.............................] - ETA: 0s - loss: 0.0418\n",
      "Epoch 00180: val_loss improved from 0.04656 to 0.04654, saving model to model.h5\n",
      "24/24 [==============================] - 0s 3ms/step - loss: 0.0439 - val_loss: 0.0465\n",
      "Epoch 181/300\n",
      " 1/24 [>.............................] - ETA: 0s - loss: 0.0433\n",
      "Epoch 00181: val_loss improved from 0.04654 to 0.04653, saving model to model.h5\n",
      "24/24 [==============================] - 0s 4ms/step - loss: 0.0437 - val_loss: 0.0465\n",
      "Epoch 182/300\n",
      " 1/24 [>.............................] - ETA: 0s - loss: 0.0437\n",
      "Epoch 00182: val_loss improved from 0.04653 to 0.04651, saving model to model.h5\n",
      "24/24 [==============================] - 0s 3ms/step - loss: 0.0437 - val_loss: 0.0465\n",
      "Epoch 183/300\n",
      " 1/24 [>.............................] - ETA: 0s - loss: 0.0446\n",
      "Epoch 00183: val_loss improved from 0.04651 to 0.04648, saving model to model.h5\n",
      "24/24 [==============================] - 0s 4ms/step - loss: 0.0438 - val_loss: 0.0465\n",
      "Epoch 184/300\n",
      " 1/24 [>.............................] - ETA: 0s - loss: 0.0434\n",
      "Epoch 00184: val_loss did not improve from 0.04648\n",
      "24/24 [==============================] - 0s 3ms/step - loss: 0.0437 - val_loss: 0.0465\n",
      "Epoch 185/300\n",
      " 1/24 [>.............................] - ETA: 0s - loss: 0.0408\n",
      "Epoch 00185: val_loss improved from 0.04648 to 0.04647, saving model to model.h5\n",
      "24/24 [==============================] - 0s 4ms/step - loss: 0.0437 - val_loss: 0.0465\n",
      "Epoch 186/300\n",
      " 1/24 [>.............................] - ETA: 0s - loss: 0.0437\n",
      "Epoch 00186: val_loss did not improve from 0.04647\n",
      "24/24 [==============================] - 0s 3ms/step - loss: 0.0438 - val_loss: 0.0465\n",
      "Epoch 187/300\n",
      " 1/24 [>.............................] - ETA: 0s - loss: 0.0437\n",
      "Epoch 00187: val_loss did not improve from 0.04647\n",
      "24/24 [==============================] - 0s 2ms/step - loss: 0.0437 - val_loss: 0.0465\n",
      "Epoch 188/300\n",
      " 1/24 [>.............................] - ETA: 0s - loss: 0.0457\n",
      "Epoch 00188: val_loss did not improve from 0.04647\n",
      "24/24 [==============================] - 0s 2ms/step - loss: 0.0437 - val_loss: 0.0465\n",
      "Epoch 189/300\n",
      " 1/24 [>.............................] - ETA: 0s - loss: 0.0491\n",
      "Epoch 00189: val_loss did not improve from 0.04647\n",
      "24/24 [==============================] - 0s 2ms/step - loss: 0.0438 - val_loss: 0.0465\n",
      "Epoch 190/300\n",
      " 1/24 [>.............................] - ETA: 0s - loss: 0.0450\n",
      "Epoch 00190: val_loss did not improve from 0.04647\n",
      "24/24 [==============================] - 0s 2ms/step - loss: 0.0438 - val_loss: 0.0465\n",
      "Epoch 191/300\n",
      " 1/24 [>.............................] - ETA: 0s - loss: 0.0423\n",
      "Epoch 00191: val_loss did not improve from 0.04647\n",
      "24/24 [==============================] - 0s 2ms/step - loss: 0.0437 - val_loss: 0.0465\n",
      "Epoch 192/300\n",
      " 1/24 [>.............................] - ETA: 0s - loss: 0.0423\n",
      "Epoch 00192: val_loss did not improve from 0.04647\n",
      "24/24 [==============================] - 0s 2ms/step - loss: 0.0437 - val_loss: 0.0465\n",
      "Epoch 193/300\n",
      " 1/24 [>.............................] - ETA: 0s - loss: 0.0441\n",
      "Epoch 00193: val_loss did not improve from 0.04647\n",
      "24/24 [==============================] - 0s 3ms/step - loss: 0.0436 - val_loss: 0.0465\n",
      "Epoch 194/300\n",
      " 1/24 [>.............................] - ETA: 0s - loss: 0.0438\n",
      "Epoch 00194: val_loss did not improve from 0.04647\n",
      "24/24 [==============================] - 0s 3ms/step - loss: 0.0437 - val_loss: 0.0465\n",
      "Epoch 195/300\n",
      " 1/24 [>.............................] - ETA: 0s - loss: 0.0425\n",
      "Epoch 00195: val_loss did not improve from 0.04647\n",
      "24/24 [==============================] - 0s 2ms/step - loss: 0.0437 - val_loss: 0.0465\n",
      "Epoch 196/300\n",
      " 1/24 [>.............................] - ETA: 0s - loss: 0.0438\n",
      "Epoch 00196: val_loss improved from 0.04647 to 0.04644, saving model to model.h5\n",
      "24/24 [==============================] - 0s 4ms/step - loss: 0.0438 - val_loss: 0.0464\n",
      "Epoch 197/300\n",
      " 1/24 [>.............................] - ETA: 0s - loss: 0.0411\n",
      "Epoch 00197: val_loss did not improve from 0.04644\n",
      "24/24 [==============================] - 0s 3ms/step - loss: 0.0435 - val_loss: 0.0465\n",
      "Epoch 198/300\n",
      " 1/24 [>.............................] - ETA: 0s - loss: 0.0431\n",
      "Epoch 00198: val_loss did not improve from 0.04644\n",
      "24/24 [==============================] - 0s 2ms/step - loss: 0.0435 - val_loss: 0.0464\n",
      "Epoch 199/300\n",
      " 1/24 [>.............................] - ETA: 0s - loss: 0.0397\n",
      "Epoch 00199: val_loss improved from 0.04644 to 0.04644, saving model to model.h5\n",
      "24/24 [==============================] - 0s 4ms/step - loss: 0.0435 - val_loss: 0.0464\n",
      "Epoch 200/300\n",
      " 1/24 [>.............................] - ETA: 0s - loss: 0.0418\n",
      "Epoch 00200: val_loss improved from 0.04644 to 0.04642, saving model to model.h5\n",
      "24/24 [==============================] - 0s 3ms/step - loss: 0.0435 - val_loss: 0.0464\n",
      "Epoch 201/300\n",
      " 1/24 [>.............................] - ETA: 0s - loss: 0.0391\n",
      "Epoch 00201: val_loss did not improve from 0.04642\n",
      "24/24 [==============================] - 0s 2ms/step - loss: 0.0435 - val_loss: 0.0464\n",
      "Epoch 202/300\n",
      " 1/24 [>.............................] - ETA: 0s - loss: 0.0416\n",
      "Epoch 00202: val_loss improved from 0.04642 to 0.04640, saving model to model.h5\n",
      "24/24 [==============================] - 0s 3ms/step - loss: 0.0436 - val_loss: 0.0464\n",
      "Epoch 203/300\n",
      " 1/24 [>.............................] - ETA: 0s - loss: 0.0447\n",
      "Epoch 00203: val_loss improved from 0.04640 to 0.04638, saving model to model.h5\n",
      "24/24 [==============================] - 0s 3ms/step - loss: 0.0435 - val_loss: 0.0464\n",
      "Epoch 204/300\n",
      " 1/24 [>.............................] - ETA: 0s - loss: 0.0457\n",
      "Epoch 00204: val_loss did not improve from 0.04638\n",
      "24/24 [==============================] - 0s 2ms/step - loss: 0.0434 - val_loss: 0.0464\n",
      "Epoch 205/300\n",
      " 1/24 [>.............................] - ETA: 0s - loss: 0.0420\n",
      "Epoch 00205: val_loss improved from 0.04638 to 0.04634, saving model to model.h5\n",
      "24/24 [==============================] - 0s 4ms/step - loss: 0.0435 - val_loss: 0.0463\n",
      "Epoch 206/300\n",
      " 1/24 [>.............................] - ETA: 0s - loss: 0.0475\n",
      "Epoch 00206: val_loss did not improve from 0.04634\n",
      "24/24 [==============================] - 0s 2ms/step - loss: 0.0435 - val_loss: 0.0464\n",
      "Epoch 207/300\n",
      " 1/24 [>.............................] - ETA: 0s - loss: 0.0431\n",
      "Epoch 00207: val_loss did not improve from 0.04634\n",
      "24/24 [==============================] - 0s 2ms/step - loss: 0.0435 - val_loss: 0.0464\n",
      "Epoch 208/300\n",
      " 1/24 [>.............................] - ETA: 0s - loss: 0.0385\n",
      "Epoch 00208: val_loss did not improve from 0.04634\n",
      "24/24 [==============================] - 0s 2ms/step - loss: 0.0434 - val_loss: 0.0464\n"
     ]
    },
    {
     "name": "stdout",
     "output_type": "stream",
     "text": [
      "Epoch 209/300\n",
      " 1/24 [>.............................] - ETA: 0s - loss: 0.0465\n",
      "Epoch 00209: val_loss did not improve from 0.04634\n",
      "24/24 [==============================] - 0s 2ms/step - loss: 0.0435 - val_loss: 0.0464\n",
      "Epoch 210/300\n",
      " 1/24 [>.............................] - ETA: 0s - loss: 0.0461\n",
      "Epoch 00210: val_loss did not improve from 0.04634\n",
      "24/24 [==============================] - 0s 2ms/step - loss: 0.0435 - val_loss: 0.0464\n",
      "Epoch 211/300\n",
      " 1/24 [>.............................] - ETA: 0s - loss: 0.0425\n",
      "Epoch 00211: val_loss did not improve from 0.04634\n",
      "24/24 [==============================] - 0s 2ms/step - loss: 0.0433 - val_loss: 0.0464\n",
      "Epoch 212/300\n",
      " 1/24 [>.............................] - ETA: 0s - loss: 0.0422\n",
      "Epoch 00212: val_loss did not improve from 0.04634\n",
      "24/24 [==============================] - 0s 2ms/step - loss: 0.0435 - val_loss: 0.0464\n",
      "Epoch 213/300\n",
      " 1/24 [>.............................] - ETA: 0s - loss: 0.0447\n",
      "Epoch 00213: val_loss did not improve from 0.04634\n",
      "24/24 [==============================] - 0s 2ms/step - loss: 0.0433 - val_loss: 0.0464\n",
      "Epoch 214/300\n",
      " 1/24 [>.............................] - ETA: 0s - loss: 0.0464\n",
      "Epoch 00214: val_loss did not improve from 0.04634\n",
      "24/24 [==============================] - 0s 2ms/step - loss: 0.0433 - val_loss: 0.0464\n",
      "Epoch 215/300\n",
      " 1/24 [>.............................] - ETA: 0s - loss: 0.0476\n",
      "Epoch 00215: val_loss did not improve from 0.04634\n",
      "24/24 [==============================] - 0s 2ms/step - loss: 0.0434 - val_loss: 0.0464\n",
      "Epoch 216/300\n",
      " 1/24 [>.............................] - ETA: 0s - loss: 0.0465\n",
      "Epoch 00216: val_loss did not improve from 0.04634\n",
      "24/24 [==============================] - 0s 2ms/step - loss: 0.0433 - val_loss: 0.0464\n",
      "Epoch 217/300\n",
      " 1/24 [>.............................] - ETA: 0s - loss: 0.0368\n",
      "Epoch 00217: val_loss did not improve from 0.04634\n",
      "24/24 [==============================] - 0s 2ms/step - loss: 0.0435 - val_loss: 0.0464\n",
      "Epoch 218/300\n",
      " 1/24 [>.............................] - ETA: 0s - loss: 0.0415\n",
      "Epoch 00218: val_loss did not improve from 0.04634\n",
      "24/24 [==============================] - 0s 2ms/step - loss: 0.0433 - val_loss: 0.0464\n",
      "Epoch 219/300\n",
      " 1/24 [>.............................] - ETA: 0s - loss: 0.0430\n",
      "Epoch 00219: val_loss did not improve from 0.04634\n",
      "24/24 [==============================] - 0s 2ms/step - loss: 0.0433 - val_loss: 0.0463\n",
      "Epoch 220/300\n",
      " 1/24 [>.............................] - ETA: 0s - loss: 0.0433\n",
      "Epoch 00220: val_loss did not improve from 0.04634\n",
      "24/24 [==============================] - 0s 2ms/step - loss: 0.0435 - val_loss: 0.0463\n",
      "Epoch 221/300\n",
      " 1/24 [>.............................] - ETA: 0s - loss: 0.0448\n",
      "Epoch 00221: val_loss did not improve from 0.04634\n",
      "24/24 [==============================] - 0s 3ms/step - loss: 0.0432 - val_loss: 0.0464\n",
      "Epoch 222/300\n",
      " 1/24 [>.............................] - ETA: 0s - loss: 0.0430\n",
      "Epoch 00222: val_loss did not improve from 0.04634\n",
      "24/24 [==============================] - 0s 3ms/step - loss: 0.0432 - val_loss: 0.0464\n",
      "Epoch 223/300\n",
      " 1/24 [>.............................] - ETA: 0s - loss: 0.0430\n",
      "Epoch 00223: val_loss did not improve from 0.04634\n",
      "24/24 [==============================] - 0s 2ms/step - loss: 0.0433 - val_loss: 0.0464\n",
      "Epoch 224/300\n",
      " 1/24 [>.............................] - ETA: 0s - loss: 0.0411\n",
      "Epoch 00224: val_loss did not improve from 0.04634\n",
      "24/24 [==============================] - 0s 2ms/step - loss: 0.0432 - val_loss: 0.0464\n",
      "Epoch 225/300\n",
      " 1/24 [>.............................] - ETA: 0s - loss: 0.0438\n",
      "Epoch 00225: val_loss did not improve from 0.04634\n",
      "24/24 [==============================] - 0s 2ms/step - loss: 0.0434 - val_loss: 0.0463\n",
      "Epoch 226/300\n",
      " 1/24 [>.............................] - ETA: 0s - loss: 0.0402\n",
      "Epoch 00226: val_loss did not improve from 0.04634\n",
      "24/24 [==============================] - 0s 2ms/step - loss: 0.0432 - val_loss: 0.0463\n",
      "Epoch 227/300\n",
      " 1/24 [>.............................] - ETA: 0s - loss: 0.0402\n",
      "Epoch 00227: val_loss improved from 0.04634 to 0.04633, saving model to model.h5\n",
      "24/24 [==============================] - 0s 4ms/step - loss: 0.0434 - val_loss: 0.0463\n",
      "Epoch 228/300\n",
      " 1/24 [>.............................] - ETA: 0s - loss: 0.0429\n",
      "Epoch 00228: val_loss did not improve from 0.04633\n",
      "24/24 [==============================] - 0s 2ms/step - loss: 0.0433 - val_loss: 0.0464\n",
      "Epoch 229/300\n",
      " 1/24 [>.............................] - ETA: 0s - loss: 0.0431\n",
      "Epoch 00229: val_loss did not improve from 0.04633\n",
      "24/24 [==============================] - 0s 2ms/step - loss: 0.0432 - val_loss: 0.0464\n",
      "Epoch 230/300\n",
      " 1/24 [>.............................] - ETA: 0s - loss: 0.0443\n",
      "Epoch 00230: val_loss did not improve from 0.04633\n",
      "24/24 [==============================] - 0s 2ms/step - loss: 0.0432 - val_loss: 0.0464\n",
      "Epoch 231/300\n",
      " 1/24 [>.............................] - ETA: 0s - loss: 0.0430\n",
      "Epoch 00231: val_loss did not improve from 0.04633\n",
      "24/24 [==============================] - 0s 2ms/step - loss: 0.0432 - val_loss: 0.0464\n",
      "Epoch 232/300\n",
      " 1/24 [>.............................] - ETA: 0s - loss: 0.0417\n",
      "Epoch 00232: val_loss did not improve from 0.04633\n",
      "24/24 [==============================] - 0s 2ms/step - loss: 0.0431 - val_loss: 0.0464\n",
      "Epoch 233/300\n",
      " 1/24 [>.............................] - ETA: 0s - loss: 0.0455\n",
      "Epoch 00233: val_loss did not improve from 0.04633\n",
      "24/24 [==============================] - 0s 2ms/step - loss: 0.0432 - val_loss: 0.0464\n",
      "Epoch 234/300\n",
      " 1/24 [>.............................] - ETA: 0s - loss: 0.0416\n",
      "Epoch 00234: val_loss did not improve from 0.04633\n",
      "24/24 [==============================] - 0s 2ms/step - loss: 0.0429 - val_loss: 0.0463\n",
      "Epoch 235/300\n",
      " 1/24 [>.............................] - ETA: 0s - loss: 0.0473\n",
      "Epoch 00235: val_loss did not improve from 0.04633\n",
      "24/24 [==============================] - 0s 2ms/step - loss: 0.0431 - val_loss: 0.0464\n",
      "Epoch 236/300\n",
      " 1/24 [>.............................] - ETA: 0s - loss: 0.0436\n",
      "Epoch 00236: val_loss did not improve from 0.04633\n",
      "24/24 [==============================] - 0s 2ms/step - loss: 0.0430 - val_loss: 0.0464\n",
      "Epoch 237/300\n",
      " 1/24 [>.............................] - ETA: 0s - loss: 0.0452\n",
      "Epoch 00237: val_loss did not improve from 0.04633\n",
      "24/24 [==============================] - 0s 2ms/step - loss: 0.0430 - val_loss: 0.0464\n",
      "Epoch 238/300\n",
      " 1/24 [>.............................] - ETA: 0s - loss: 0.0459\n",
      "Epoch 00238: val_loss did not improve from 0.04633\n",
      "24/24 [==============================] - 0s 2ms/step - loss: 0.0430 - val_loss: 0.0463\n",
      "Epoch 239/300\n",
      " 1/24 [>.............................] - ETA: 0s - loss: 0.0461\n",
      "Epoch 00239: val_loss did not improve from 0.04633\n",
      "24/24 [==============================] - 0s 2ms/step - loss: 0.0431 - val_loss: 0.0463\n",
      "Epoch 240/300\n",
      " 1/24 [>.............................] - ETA: 0s - loss: 0.0408\n",
      "Epoch 00240: val_loss did not improve from 0.04633\n",
      "24/24 [==============================] - 0s 2ms/step - loss: 0.0431 - val_loss: 0.0463\n",
      "Epoch 241/300\n",
      " 1/24 [>.............................] - ETA: 0s - loss: 0.0417\n",
      "Epoch 00241: val_loss improved from 0.04633 to 0.04631, saving model to model.h5\n",
      "24/24 [==============================] - 0s 4ms/step - loss: 0.0431 - val_loss: 0.0463\n",
      "Epoch 242/300\n",
      " 1/24 [>.............................] - ETA: 0s - loss: 0.0438\n",
      "Epoch 00242: val_loss did not improve from 0.04631\n",
      "24/24 [==============================] - 0s 2ms/step - loss: 0.0432 - val_loss: 0.0464\n",
      "Epoch 243/300\n",
      " 1/24 [>.............................] - ETA: 0s - loss: 0.0441\n",
      "Epoch 00243: val_loss did not improve from 0.04631\n",
      "24/24 [==============================] - 0s 3ms/step - loss: 0.0432 - val_loss: 0.0463\n",
      "Epoch 244/300\n",
      " 1/24 [>.............................] - ETA: 0s - loss: 0.0463\n",
      "Epoch 00244: val_loss improved from 0.04631 to 0.04631, saving model to model.h5\n",
      "24/24 [==============================] - 0s 5ms/step - loss: 0.0429 - val_loss: 0.0463\n",
      "Epoch 245/300\n",
      " 1/24 [>.............................] - ETA: 0s - loss: 0.0432\n",
      "Epoch 00245: val_loss did not improve from 0.04631\n",
      "24/24 [==============================] - 0s 3ms/step - loss: 0.0431 - val_loss: 0.0463\n",
      "Epoch 246/300\n",
      " 1/24 [>.............................] - ETA: 0s - loss: 0.0423\n",
      "Epoch 00246: val_loss did not improve from 0.04631\n",
      "24/24 [==============================] - 0s 2ms/step - loss: 0.0431 - val_loss: 0.0463\n"
     ]
    },
    {
     "name": "stdout",
     "output_type": "stream",
     "text": [
      "Epoch 247/300\n",
      " 1/24 [>.............................] - ETA: 0s - loss: 0.0456\n",
      "Epoch 00247: val_loss did not improve from 0.04631\n",
      "24/24 [==============================] - 0s 2ms/step - loss: 0.0430 - val_loss: 0.0463\n",
      "Epoch 248/300\n",
      " 1/24 [>.............................] - ETA: 0s - loss: 0.0433\n",
      "Epoch 00248: val_loss did not improve from 0.04631\n",
      "24/24 [==============================] - 0s 2ms/step - loss: 0.0430 - val_loss: 0.0463\n",
      "Epoch 249/300\n",
      " 1/24 [>.............................] - ETA: 0s - loss: 0.0390\n",
      "Epoch 00249: val_loss did not improve from 0.04631\n",
      "24/24 [==============================] - 0s 2ms/step - loss: 0.0430 - val_loss: 0.0463\n",
      "Epoch 250/300\n",
      " 1/24 [>.............................] - ETA: 0s - loss: 0.0473\n",
      "Epoch 00250: val_loss did not improve from 0.04631\n",
      "24/24 [==============================] - 0s 2ms/step - loss: 0.0430 - val_loss: 0.0464\n",
      "Epoch 251/300\n",
      " 1/24 [>.............................] - ETA: 0s - loss: 0.0437\n",
      "Epoch 00251: val_loss did not improve from 0.04631\n",
      "24/24 [==============================] - 0s 2ms/step - loss: 0.0430 - val_loss: 0.0464\n",
      "Epoch 252/300\n",
      " 1/24 [>.............................] - ETA: 0s - loss: 0.0425\n",
      "Epoch 00252: val_loss did not improve from 0.04631\n",
      "24/24 [==============================] - 0s 2ms/step - loss: 0.0430 - val_loss: 0.0464\n",
      "Epoch 253/300\n",
      " 1/24 [>.............................] - ETA: 0s - loss: 0.0420\n",
      "Epoch 00253: val_loss did not improve from 0.04631\n",
      "24/24 [==============================] - 0s 2ms/step - loss: 0.0430 - val_loss: 0.0464\n",
      "Epoch 254/300\n",
      " 1/24 [>.............................] - ETA: 0s - loss: 0.0451\n",
      "Epoch 00254: val_loss did not improve from 0.04631\n",
      "24/24 [==============================] - 0s 2ms/step - loss: 0.0431 - val_loss: 0.0464\n",
      "Epoch 255/300\n",
      " 1/24 [>.............................] - ETA: 0s - loss: 0.0425\n",
      "Epoch 00255: val_loss did not improve from 0.04631\n",
      "24/24 [==============================] - 0s 2ms/step - loss: 0.0429 - val_loss: 0.0463\n",
      "Epoch 256/300\n",
      " 1/24 [>.............................] - ETA: 0s - loss: 0.0452\n",
      "Epoch 00256: val_loss did not improve from 0.04631\n",
      "24/24 [==============================] - 0s 2ms/step - loss: 0.0430 - val_loss: 0.0464\n",
      "Epoch 257/300\n",
      " 1/24 [>.............................] - ETA: 0s - loss: 0.0452\n",
      "Epoch 00257: val_loss did not improve from 0.04631\n",
      "24/24 [==============================] - 0s 2ms/step - loss: 0.0430 - val_loss: 0.0463\n",
      "Epoch 258/300\n",
      " 1/24 [>.............................] - ETA: 0s - loss: 0.0429\n",
      "Epoch 00258: val_loss did not improve from 0.04631\n",
      "24/24 [==============================] - 0s 2ms/step - loss: 0.0430 - val_loss: 0.0463\n",
      "Epoch 259/300\n",
      " 1/24 [>.............................] - ETA: 0s - loss: 0.0417\n",
      "Epoch 00259: val_loss did not improve from 0.04631\n",
      "24/24 [==============================] - 0s 2ms/step - loss: 0.0430 - val_loss: 0.0463\n",
      "Epoch 260/300\n",
      " 1/24 [>.............................] - ETA: 0s - loss: 0.0389\n",
      "Epoch 00260: val_loss did not improve from 0.04631\n",
      "24/24 [==============================] - 0s 2ms/step - loss: 0.0429 - val_loss: 0.0463\n",
      "Epoch 261/300\n",
      " 1/24 [>.............................] - ETA: 0s - loss: 0.0414\n",
      "Epoch 00261: val_loss improved from 0.04631 to 0.04631, saving model to model.h5\n",
      "24/24 [==============================] - 0s 4ms/step - loss: 0.0430 - val_loss: 0.0463\n",
      "Epoch 262/300\n",
      " 1/24 [>.............................] - ETA: 0s - loss: 0.0445\n",
      "Epoch 00262: val_loss did not improve from 0.04631\n",
      "24/24 [==============================] - 0s 2ms/step - loss: 0.0430 - val_loss: 0.0464\n",
      "Epoch 263/300\n",
      " 1/24 [>.............................] - ETA: 0s - loss: 0.0422\n",
      "Epoch 00263: val_loss did not improve from 0.04631\n",
      "24/24 [==============================] - 0s 2ms/step - loss: 0.0429 - val_loss: 0.0463\n",
      "Epoch 264/300\n",
      " 1/24 [>.............................] - ETA: 0s - loss: 0.0429\n",
      "Epoch 00264: val_loss did not improve from 0.04631\n",
      "24/24 [==============================] - 0s 2ms/step - loss: 0.0428 - val_loss: 0.0464\n",
      "Epoch 265/300\n",
      " 1/24 [>.............................] - ETA: 0s - loss: 0.0432\n",
      "Epoch 00265: val_loss did not improve from 0.04631\n",
      "24/24 [==============================] - 0s 2ms/step - loss: 0.0428 - val_loss: 0.0464\n",
      "Epoch 266/300\n",
      " 1/24 [>.............................] - ETA: 0s - loss: 0.0467\n",
      "Epoch 00266: val_loss did not improve from 0.04631\n",
      "24/24 [==============================] - 0s 2ms/step - loss: 0.0428 - val_loss: 0.0464\n",
      "Epoch 267/300\n",
      " 1/24 [>.............................] - ETA: 0s - loss: 0.0430\n",
      "Epoch 00267: val_loss did not improve from 0.04631\n",
      "24/24 [==============================] - 0s 2ms/step - loss: 0.0428 - val_loss: 0.0464\n",
      "Epoch 268/300\n",
      " 1/24 [>.............................] - ETA: 0s - loss: 0.0429\n",
      "Epoch 00268: val_loss did not improve from 0.04631\n",
      "24/24 [==============================] - 0s 2ms/step - loss: 0.0429 - val_loss: 0.0464\n",
      "Epoch 269/300\n",
      " 1/24 [>.............................] - ETA: 0s - loss: 0.0441\n",
      "Epoch 00269: val_loss improved from 0.04631 to 0.04630, saving model to model.h5\n",
      "24/24 [==============================] - 0s 3ms/step - loss: 0.0430 - val_loss: 0.0463\n",
      "Epoch 270/300\n",
      " 1/24 [>.............................] - ETA: 0s - loss: 0.0441\n",
      "Epoch 00270: val_loss did not improve from 0.04630\n",
      "24/24 [==============================] - 0s 2ms/step - loss: 0.0428 - val_loss: 0.0463\n",
      "Epoch 271/300\n",
      " 1/24 [>.............................] - ETA: 0s - loss: 0.0406\n",
      "Epoch 00271: val_loss improved from 0.04630 to 0.04628, saving model to model.h5\n",
      "24/24 [==============================] - 0s 3ms/step - loss: 0.0428 - val_loss: 0.0463\n",
      "Epoch 272/300\n",
      " 1/24 [>.............................] - ETA: 0s - loss: 0.0391\n",
      "Epoch 00272: val_loss improved from 0.04628 to 0.04627, saving model to model.h5\n",
      "24/24 [==============================] - 0s 4ms/step - loss: 0.0427 - val_loss: 0.0463\n",
      "Epoch 273/300\n",
      " 1/24 [>.............................] - ETA: 0s - loss: 0.0440\n",
      "Epoch 00273: val_loss improved from 0.04627 to 0.04622, saving model to model.h5\n",
      "24/24 [==============================] - 0s 3ms/step - loss: 0.0430 - val_loss: 0.0462\n",
      "Epoch 274/300\n",
      " 1/24 [>.............................] - ETA: 0s - loss: 0.0443\n",
      "Epoch 00274: val_loss did not improve from 0.04622\n",
      "24/24 [==============================] - 0s 2ms/step - loss: 0.0428 - val_loss: 0.0463\n",
      "Epoch 275/300\n",
      " 1/24 [>.............................] - ETA: 0s - loss: 0.0418\n",
      "Epoch 00275: val_loss did not improve from 0.04622\n",
      "24/24 [==============================] - 0s 2ms/step - loss: 0.0428 - val_loss: 0.0463\n",
      "Epoch 276/300\n",
      " 1/24 [>.............................] - ETA: 0s - loss: 0.0397\n",
      "Epoch 00276: val_loss did not improve from 0.04622\n",
      "24/24 [==============================] - 0s 2ms/step - loss: 0.0429 - val_loss: 0.0463\n",
      "Epoch 277/300\n",
      " 1/24 [>.............................] - ETA: 0s - loss: 0.0439\n",
      "Epoch 00277: val_loss did not improve from 0.04622\n",
      "24/24 [==============================] - 0s 2ms/step - loss: 0.0430 - val_loss: 0.0463\n",
      "Epoch 278/300\n",
      " 1/24 [>.............................] - ETA: 0s - loss: 0.0470\n",
      "Epoch 00278: val_loss did not improve from 0.04622\n",
      "24/24 [==============================] - 0s 3ms/step - loss: 0.0428 - val_loss: 0.0463\n",
      "Epoch 279/300\n",
      " 1/24 [>.............................] - ETA: 0s - loss: 0.0452\n",
      "Epoch 00279: val_loss did not improve from 0.04622\n",
      "24/24 [==============================] - 0s 2ms/step - loss: 0.0428 - val_loss: 0.0463\n",
      "Epoch 280/300\n",
      " 1/24 [>.............................] - ETA: 0s - loss: 0.0415\n",
      "Epoch 00280: val_loss did not improve from 0.04622\n",
      "24/24 [==============================] - 0s 2ms/step - loss: 0.0428 - val_loss: 0.0463\n",
      "Epoch 281/300\n",
      " 1/24 [>.............................] - ETA: 0s - loss: 0.0398\n",
      "Epoch 00281: val_loss did not improve from 0.04622\n",
      "24/24 [==============================] - 0s 2ms/step - loss: 0.0429 - val_loss: 0.0463\n",
      "Epoch 282/300\n",
      " 1/24 [>.............................] - ETA: 0s - loss: 0.0456\n",
      "Epoch 00282: val_loss did not improve from 0.04622\n",
      "24/24 [==============================] - 0s 2ms/step - loss: 0.0428 - val_loss: 0.0463\n",
      "Epoch 283/300\n",
      " 1/24 [>.............................] - ETA: 0s - loss: 0.0391\n",
      "Epoch 00283: val_loss did not improve from 0.04622\n",
      "24/24 [==============================] - 0s 2ms/step - loss: 0.0429 - val_loss: 0.0463\n",
      "Epoch 284/300\n"
     ]
    },
    {
     "name": "stdout",
     "output_type": "stream",
     "text": [
      " 1/24 [>.............................] - ETA: 0s - loss: 0.0424\n",
      "Epoch 00284: val_loss did not improve from 0.04622\n",
      "24/24 [==============================] - 0s 2ms/step - loss: 0.0428 - val_loss: 0.0463\n",
      "Epoch 285/300\n",
      " 1/24 [>.............................] - ETA: 0s - loss: 0.0432\n",
      "Epoch 00285: val_loss did not improve from 0.04622\n",
      "24/24 [==============================] - 0s 2ms/step - loss: 0.0429 - val_loss: 0.0463\n",
      "Epoch 286/300\n",
      " 1/24 [>.............................] - ETA: 0s - loss: 0.0423\n",
      "Epoch 00286: val_loss did not improve from 0.04622\n",
      "24/24 [==============================] - 0s 2ms/step - loss: 0.0428 - val_loss: 0.0463\n",
      "Epoch 287/300\n",
      " 1/24 [>.............................] - ETA: 0s - loss: 0.0412\n",
      "Epoch 00287: val_loss did not improve from 0.04622\n",
      "24/24 [==============================] - 0s 2ms/step - loss: 0.0427 - val_loss: 0.0463\n",
      "Epoch 288/300\n",
      " 1/24 [>.............................] - ETA: 0s - loss: 0.0438\n",
      "Epoch 00288: val_loss did not improve from 0.04622\n",
      "24/24 [==============================] - 0s 2ms/step - loss: 0.0430 - val_loss: 0.0463\n",
      "Epoch 289/300\n",
      " 1/24 [>.............................] - ETA: 0s - loss: 0.0387\n",
      "Epoch 00289: val_loss did not improve from 0.04622\n",
      "24/24 [==============================] - 0s 2ms/step - loss: 0.0427 - val_loss: 0.0463\n",
      "Epoch 290/300\n",
      " 1/24 [>.............................] - ETA: 0s - loss: 0.0426\n",
      "Epoch 00290: val_loss did not improve from 0.04622\n",
      "24/24 [==============================] - 0s 2ms/step - loss: 0.0428 - val_loss: 0.0463\n",
      "Epoch 291/300\n",
      " 1/24 [>.............................] - ETA: 0s - loss: 0.0454\n",
      "Epoch 00291: val_loss did not improve from 0.04622\n",
      "24/24 [==============================] - 0s 2ms/step - loss: 0.0426 - val_loss: 0.0463\n",
      "Epoch 292/300\n",
      " 1/24 [>.............................] - ETA: 0s - loss: 0.0405\n",
      "Epoch 00292: val_loss did not improve from 0.04622\n",
      "24/24 [==============================] - 0s 2ms/step - loss: 0.0428 - val_loss: 0.0463\n",
      "Epoch 293/300\n",
      " 1/24 [>.............................] - ETA: 0s - loss: 0.0436\n",
      "Epoch 00293: val_loss did not improve from 0.04622\n",
      "24/24 [==============================] - 0s 2ms/step - loss: 0.0427 - val_loss: 0.0463\n",
      "Epoch 294/300\n",
      " 1/24 [>.............................] - ETA: 0s - loss: 0.0401\n",
      "Epoch 00294: val_loss did not improve from 0.04622\n",
      "24/24 [==============================] - 0s 2ms/step - loss: 0.0426 - val_loss: 0.0463\n",
      "Epoch 295/300\n",
      " 1/24 [>.............................] - ETA: 0s - loss: 0.0431\n",
      "Epoch 00295: val_loss did not improve from 0.04622\n",
      "24/24 [==============================] - 0s 2ms/step - loss: 0.0428 - val_loss: 0.0463\n",
      "Epoch 296/300\n",
      " 1/24 [>.............................] - ETA: 0s - loss: 0.0449\n",
      "Epoch 00296: val_loss did not improve from 0.04622\n",
      "24/24 [==============================] - 0s 3ms/step - loss: 0.0426 - val_loss: 0.0464\n",
      "Epoch 297/300\n",
      " 1/24 [>.............................] - ETA: 0s - loss: 0.0425\n",
      "Epoch 00297: val_loss did not improve from 0.04622\n",
      "24/24 [==============================] - 0s 3ms/step - loss: 0.0429 - val_loss: 0.0463\n",
      "Epoch 298/300\n",
      " 1/24 [>.............................] - ETA: 0s - loss: 0.0445\n",
      "Epoch 00298: val_loss did not improve from 0.04622\n",
      "24/24 [==============================] - 0s 3ms/step - loss: 0.0427 - val_loss: 0.0463\n",
      "Epoch 299/300\n",
      " 1/24 [>.............................] - ETA: 0s - loss: 0.0415\n",
      "Epoch 00299: val_loss did not improve from 0.04622\n",
      "24/24 [==============================] - 0s 3ms/step - loss: 0.0427 - val_loss: 0.0463\n",
      "Epoch 300/300\n",
      " 1/24 [>.............................] - ETA: 0s - loss: 0.0418\n",
      "Epoch 00300: val_loss did not improve from 0.04622\n",
      "24/24 [==============================] - 0s 2ms/step - loss: 0.0428 - val_loss: 0.0463\n"
     ]
    }
   ],
   "source": [
    "history = ae.fit(X_train, X_train, epochs=300, verbose=1, batch_size=32, validation_data=(X_test, X_test), callbacks = [checkpoint], shuffle= True)"
   ]
  },
  {
   "cell_type": "code",
   "execution_count": 54,
   "metadata": {},
   "outputs": [
    {
     "data": {
      "text/html": [
       "        <script type=\"text/javascript\">\n",
       "        window.PlotlyConfig = {MathJaxConfig: 'local'};\n",
       "        if (window.MathJax) {MathJax.Hub.Config({SVG: {font: \"STIX-Web\"}});}\n",
       "        if (typeof require !== 'undefined') {\n",
       "        require.undef(\"plotly\");\n",
       "        requirejs.config({\n",
       "            paths: {\n",
       "                'plotly': ['https://cdn.plot.ly/plotly-latest.min']\n",
       "            }\n",
       "        });\n",
       "        require(['plotly'], function(Plotly) {\n",
       "            window._Plotly = Plotly;\n",
       "        });\n",
       "        }\n",
       "        </script>\n",
       "        "
      ]
     },
     "metadata": {},
     "output_type": "display_data"
    },
    {
     "data": {
      "application/vnd.plotly.v1+json": {
       "config": {
        "linkText": "Export to plot.ly",
        "plotlyServerURL": "https://plot.ly",
        "showLink": false
       },
       "data": [
        {
         "line": {
          "color": "blue",
          "width": 2
         },
         "mode": "lines",
         "name": "loss",
         "type": "scatter",
         "y": [
          0.23106154799461365,
          0.21375957131385803,
          0.19713182747364044,
          0.17977666854858398,
          0.16130177676677704,
          0.14211240410804749,
          0.12372677028179169,
          0.10707171261310577,
          0.09337858855724335,
          0.0824677050113678,
          0.07453550398349762,
          0.06841584295034409,
          0.06413035094738007,
          0.06066606938838959,
          0.05841752514243126,
          0.056668031960725784,
          0.05518876388669014,
          0.054207295179367065,
          0.053501490503549576,
          0.052919548004865646,
          0.05236713960766792,
          0.05188605934381485,
          0.05151832103729248,
          0.05132051929831505,
          0.0510341078042984,
          0.0509028397500515,
          0.050677523016929626,
          0.05048265680670738,
          0.05038730800151825,
          0.050255198031663895,
          0.050103843212127686,
          0.049959078431129456,
          0.04995628818869591,
          0.04980265721678734,
          0.049731627106666565,
          0.04958346486091614,
          0.0495208241045475,
          0.049352988600730896,
          0.04933582991361618,
          0.04916229844093323,
          0.049177758395671844,
          0.049102697521448135,
          0.049040537327528,
          0.04893168434500694,
          0.048818185925483704,
          0.048772960901260376,
          0.04864424467086792,
          0.04860249534249306,
          0.04861340671777725,
          0.048528172075748444,
          0.04846733808517456,
          0.04836883768439293,
          0.048306748270988464,
          0.0482618510723114,
          0.04819934442639351,
          0.048154011368751526,
          0.04816165566444397,
          0.048014119267463684,
          0.0479881577193737,
          0.0479758195579052,
          0.04787272959947586,
          0.047833435237407684,
          0.047744229435920715,
          0.047723859548568726,
          0.047692086547613144,
          0.047627534717321396,
          0.047553651034832,
          0.047533340752124786,
          0.04749997332692146,
          0.04742070287466049,
          0.047368310391902924,
          0.04728664457798004,
          0.04727865755558014,
          0.04729445278644562,
          0.047170571982860565,
          0.04717254266142845,
          0.04711608216166496,
          0.04707722365856171,
          0.04703717678785324,
          0.04701333865523338,
          0.04690249264240265,
          0.0469367690384388,
          0.046868760138750076,
          0.04677652567625046,
          0.04682324454188347,
          0.04673066362738609,
          0.0467047281563282,
          0.046731650829315186,
          0.04656074568629265,
          0.046542830765247345,
          0.04651800915598869,
          0.04650116339325905,
          0.046420540660619736,
          0.04641634598374367,
          0.04643763601779938,
          0.04634594917297363,
          0.04638158529996872,
          0.04633152857422829,
          0.046273309737443924,
          0.046205975115299225,
          0.04610194265842438,
          0.04616386070847511,
          0.04609137773513794,
          0.046076953411102295,
          0.04611283540725708,
          0.04596984386444092,
          0.045954592525959015,
          0.04595164209604263,
          0.04586314782500267,
          0.045809224247932434,
          0.04580812528729439,
          0.04569271579384804,
          0.045701175928115845,
          0.04569404944777489,
          0.0456756129860878,
          0.04563896730542183,
          0.04559691995382309,
          0.04549909383058548,
          0.04544411972165108,
          0.045503780245780945,
          0.045438025146722794,
          0.045388113707304,
          0.04530759155750275,
          0.04537086933851242,
          0.045293305069208145,
          0.04526130110025406,
          0.045178260654211044,
          0.045153144747018814,
          0.04506487771868706,
          0.045148011296987534,
          0.04510797560214996,
          0.0450621135532856,
          0.044922396540641785,
          0.04496462643146515,
          0.04496864974498749,
          0.04490261897444725,
          0.044904351234436035,
          0.04492602497339249,
          0.04478703439235687,
          0.04473914951086044,
          0.04483655467629433,
          0.044676803052425385,
          0.04472532495856285,
          0.04462769627571106,
          0.04467220604419708,
          0.04454106464982033,
          0.04469013214111328,
          0.04463887959718704,
          0.04451654478907585,
          0.04455065354704857,
          0.04454636946320534,
          0.04451519250869751,
          0.044451359659433365,
          0.04447314888238907,
          0.044408168643713,
          0.04445962607860565,
          0.04438241571187973,
          0.04432208091020584,
          0.04436034336686134,
          0.044273436069488525,
          0.044304072856903076,
          0.044176019728183746,
          0.04411913827061653,
          0.044261470437049866,
          0.04421249404549599,
          0.04410345107316971,
          0.04403500258922577,
          0.04409407451748848,
          0.044217549264431,
          0.04402310773730278,
          0.044079963117837906,
          0.04401698708534241,
          0.044039782136678696,
          0.044030603021383286,
          0.04385548084974289,
          0.044019877910614014,
          0.04404805600643158,
          0.043905824422836304,
          0.043959841132164,
          0.04388606920838356,
          0.043734580278396606,
          0.043686434626579285,
          0.04379214718937874,
          0.04373602196574211,
          0.043726421892642975,
          0.04379633814096451,
          0.04373115301132202,
          0.04370051249861717,
          0.04382883012294769,
          0.043798964470624924,
          0.04374178498983383,
          0.04370182007551193,
          0.04360037297010422,
          0.04371308535337448,
          0.04368853569030762,
          0.04377075284719467,
          0.043489813804626465,
          0.043470460921525955,
          0.043520260602235794,
          0.04353393241763115,
          0.04348437860608101,
          0.04356434941291809,
          0.04348886013031006,
          0.04344737529754639,
          0.04348910227417946,
          0.043464452028274536,
          0.043540868908166885,
          0.04342126101255417,
          0.043518371880054474,
          0.04349585250020027,
          0.04328857734799385,
          0.04347553849220276,
          0.04327484965324402,
          0.04330044984817505,
          0.043359044939279556,
          0.043342944234609604,
          0.04350990429520607,
          0.04333745315670967,
          0.043273113667964935,
          0.04348202794790268,
          0.0432191863656044,
          0.04316302016377449,
          0.043284595012664795,
          0.04320479929447174,
          0.04339628666639328,
          0.0431554913520813,
          0.043439097702503204,
          0.043294671922922134,
          0.043233148753643036,
          0.04317706823348999,
          0.04316139966249466,
          0.04310447350144386,
          0.04321443662047386,
          0.04293318837881088,
          0.04314539581537247,
          0.04304153472185135,
          0.04302609711885452,
          0.04300391301512718,
          0.04307354614138603,
          0.04312499612569809,
          0.043060898780822754,
          0.04315942898392677,
          0.043232277035713196,
          0.04294358566403389,
          0.043122548609972,
          0.04311849921941757,
          0.04304887726902962,
          0.04298350587487221,
          0.04304786026477814,
          0.04301529750227928,
          0.04297763109207153,
          0.04302321374416351,
          0.042956698685884476,
          0.04312966763973236,
          0.04293571040034294,
          0.042990755289793015,
          0.0429970845580101,
          0.04300657659769058,
          0.043002206832170486,
          0.04288807883858681,
          0.04296451807022095,
          0.04303882271051407,
          0.04294627904891968,
          0.042761124670505524,
          0.042818889021873474,
          0.042798999696969986,
          0.042805153876543045,
          0.04288335144519806,
          0.04298853129148483,
          0.04281620681285858,
          0.04280199110507965,
          0.04270608723163605,
          0.04296621307730675,
          0.04276813194155693,
          0.0427926667034626,
          0.04286084324121475,
          0.043006181716918945,
          0.0428026020526886,
          0.04282163456082344,
          0.04277943819761276,
          0.042858753353357315,
          0.04282749071717262,
          0.04288124665617943,
          0.04276970028877258,
          0.042905293405056,
          0.04277559742331505,
          0.042731497436761856,
          0.04299183562397957,
          0.04274111986160278,
          0.042846791446208954,
          0.04261167719960213,
          0.042826857417821884,
          0.04266361892223358,
          0.04262077063322067,
          0.04277149960398674,
          0.0426115058362484,
          0.042895711958408356,
          0.04273054748773575,
          0.04268685728311539,
          0.04275961592793465
         ]
        },
        {
         "line": {
          "color": "red",
          "width": 2
         },
         "mode": "lines",
         "name": "val_loss",
         "type": "scatter",
         "y": [
          0.22244267165660858,
          0.2156394124031067,
          0.20790015161037445,
          0.19787603616714478,
          0.18471388518810272,
          0.16834861040115356,
          0.14956174790859222,
          0.13026146590709686,
          0.11305356025695801,
          0.09899105131626129,
          0.08742576837539673,
          0.07824436575174332,
          0.07175471633672714,
          0.06680647283792496,
          0.06321325898170471,
          0.060956921428442,
          0.05876094475388527,
          0.057437870651483536,
          0.05606739595532417,
          0.05519989877939224,
          0.054436095058918,
          0.05400795862078667,
          0.05349654331803322,
          0.053004298359155655,
          0.05252240225672722,
          0.05228045582771301,
          0.052085064351558685,
          0.05182642117142677,
          0.051554542034864426,
          0.051352255046367645,
          0.05120829865336418,
          0.05109863355755806,
          0.0509602427482605,
          0.050707120448350906,
          0.050660956650972366,
          0.050556279718875885,
          0.050423990935087204,
          0.05034210532903671,
          0.05020324885845184,
          0.0500975102186203,
          0.050004564225673676,
          0.04998631030321121,
          0.04983412101864815,
          0.04977910965681076,
          0.049787506461143494,
          0.04970121011137962,
          0.04967290908098221,
          0.049638062715530396,
          0.049552902579307556,
          0.049489475786685944,
          0.049417365342378616,
          0.04938911274075508,
          0.049346838146448135,
          0.04930494725704193,
          0.049317628145217896,
          0.04923694208264351,
          0.04915216565132141,
          0.04911422356963158,
          0.04916143789887428,
          0.04904680326581001,
          0.049023501574993134,
          0.04899980500340462,
          0.049002375453710556,
          0.04893927276134491,
          0.04891391471028328,
          0.048901770263910294,
          0.04884057864546776,
          0.048759207129478455,
          0.048729781061410904,
          0.04871271550655365,
          0.048627711832523346,
          0.048604123294353485,
          0.048580352216959,
          0.04852677509188652,
          0.0485529787838459,
          0.048545848578214645,
          0.04850585013628006,
          0.04842900484800339,
          0.04840278998017311,
          0.04834619536995888,
          0.04831261932849884,
          0.04827696830034256,
          0.04830067232251167,
          0.04827728122472763,
          0.04820713773369789,
          0.04817231371998787,
          0.04818485304713249,
          0.04813102260231972,
          0.04809466749429703,
          0.048079367727041245,
          0.04805339500308037,
          0.04803207889199257,
          0.04804564267396927,
          0.04800283908843994,
          0.04794446378946304,
          0.047867558896541595,
          0.0479021780192852,
          0.047898031771183014,
          0.04785485193133354,
          0.04781782627105713,
          0.047834351658821106,
          0.04777348414063454,
          0.04773300886154175,
          0.04770227521657944,
          0.04767654091119766,
          0.04767504334449768,
          0.047660887241363525,
          0.04764982685446739,
          0.047625839710235596,
          0.04759899526834488,
          0.047573696821928024,
          0.047553688287734985,
          0.04747868701815605,
          0.047515105456113815,
          0.04748883843421936,
          0.047455042600631714,
          0.04742053523659706,
          0.04740394651889801,
          0.0473618321120739,
          0.04737221077084541,
          0.047397829592227936,
          0.047375790774822235,
          0.04736608266830444,
          0.04731852561235428,
          0.04730024188756943,
          0.04727219417691231,
          0.047302089631557465,
          0.04723476618528366,
          0.04721318185329437,
          0.04719868302345276,
          0.04718407243490219,
          0.047161512076854706,
          0.04713594913482666,
          0.04710699990391731,
          0.04713081568479538,
          0.04706871137022972,
          0.047064971178770065,
          0.047036897391080856,
          0.047036826610565186,
          0.047024987637996674,
          0.04702534154057503,
          0.04697903245687485,
          0.046975091099739075,
          0.0469665564596653,
          0.04694874584674835,
          0.04694205895066261,
          0.046935778111219406,
          0.04689326509833336,
          0.04692234471440315,
          0.0468829944729805,
          0.04688706621527672,
          0.0468539334833622,
          0.046856850385665894,
          0.04685930907726288,
          0.04685370624065399,
          0.04683332145214081,
          0.04678570106625557,
          0.046780746430158615,
          0.04680273309350014,
          0.04678086191415787,
          0.04679138958454132,
          0.046750932931900024,
          0.04673082008957863,
          0.04668968915939331,
          0.04669276624917984,
          0.04668189957737923,
          0.04667114093899727,
          0.04669911041855812,
          0.04670552909374237,
          0.04668954759836197,
          0.046667929738759995,
          0.04670121893286705,
          0.04661746695637703,
          0.04659288749098778,
          0.04659653827548027,
          0.04660555347800255,
          0.046631380915641785,
          0.04655974358320236,
          0.04658633843064308,
          0.046536002308130264,
          0.04652757942676544,
          0.04650874808430672,
          0.046481262892484665,
          0.04651348292827606,
          0.046473074704408646,
          0.046519096940755844,
          0.04652522876858711,
          0.0464886799454689,
          0.046511534601449966,
          0.04653099924325943,
          0.04650657996535301,
          0.04650244116783142,
          0.04648825153708458,
          0.046493276953697205,
          0.046484269201755524,
          0.04643834009766579,
          0.04645869508385658,
          0.04644422233104706,
          0.046436551958322525,
          0.04641856998205185,
          0.046442512422800064,
          0.04640386626124382,
          0.04637850075960159,
          0.04640646278858185,
          0.046335652470588684,
          0.04635859280824661,
          0.046419572085142136,
          0.046366672962903976,
          0.04636196792125702,
          0.04638389125466347,
          0.04636145755648613,
          0.046353768557310104,
          0.04643766209483147,
          0.04638227820396423,
          0.04640192165970802,
          0.04635325446724892,
          0.04637729749083519,
          0.04637415334582329,
          0.04634729400277138,
          0.046344462782144547,
          0.046363286674022675,
          0.046363912522792816,
          0.04640042781829834,
          0.04638301581144333,
          0.0463443286716938,
          0.04634583741426468,
          0.04633449763059616,
          0.04635009169578552,
          0.04635082185268402,
          0.04636030271649361,
          0.04636935517191887,
          0.046368557959795,
          0.04637552797794342,
          0.0463445708155632,
          0.046366672962903976,
          0.046384941786527634,
          0.046362169086933136,
          0.04634721577167511,
          0.04634054750204086,
          0.04634888470172882,
          0.04631475359201431,
          0.046376682817935944,
          0.046318043023347855,
          0.04630893096327782,
          0.04634028673171997,
          0.04634954035282135,
          0.04632864147424698,
          0.04633432254195213,
          0.046321138739585876,
          0.04636338725686073,
          0.046385541558265686,
          0.04636818915605545,
          0.04636654630303383,
          0.04636642336845398,
          0.04633079096674919,
          0.04639749228954315,
          0.04632435739040375,
          0.0463450588285923,
          0.046319685876369476,
          0.04633399099111557,
          0.04630527272820473,
          0.046350352466106415,
          0.0463486984372139,
          0.0463603250682354,
          0.046369656920433044,
          0.04641946032643318,
          0.04638092964887619,
          0.046380043029785156,
          0.046304989606142044,
          0.046337127685546875,
          0.04627586901187897,
          0.046270571649074554,
          0.04622288793325424,
          0.04628564417362213,
          0.046317387372255325,
          0.046318139880895615,
          0.04631751403212547,
          0.04625360667705536,
          0.04628054425120354,
          0.04628477990627289,
          0.04629634693264961,
          0.04627522453665733,
          0.046297866851091385,
          0.04626740887761116,
          0.046274151653051376,
          0.0463113933801651,
          0.04628652334213257,
          0.046303823590278625,
          0.046313442289829254,
          0.04630790650844574,
          0.046327706426382065,
          0.04632352292537689,
          0.04627205431461334,
          0.04630902782082558,
          0.04628888890147209,
          0.046367134898900986,
          0.04631715640425682,
          0.04633081704378128,
          0.04633674398064613,
          0.04630926251411438
         ]
        }
       ],
       "layout": {
        "template": {
         "data": {
          "bar": [
           {
            "error_x": {
             "color": "#2a3f5f"
            },
            "error_y": {
             "color": "#2a3f5f"
            },
            "marker": {
             "line": {
              "color": "#E5ECF6",
              "width": 0.5
             }
            },
            "type": "bar"
           }
          ],
          "barpolar": [
           {
            "marker": {
             "line": {
              "color": "#E5ECF6",
              "width": 0.5
             }
            },
            "type": "barpolar"
           }
          ],
          "carpet": [
           {
            "aaxis": {
             "endlinecolor": "#2a3f5f",
             "gridcolor": "white",
             "linecolor": "white",
             "minorgridcolor": "white",
             "startlinecolor": "#2a3f5f"
            },
            "baxis": {
             "endlinecolor": "#2a3f5f",
             "gridcolor": "white",
             "linecolor": "white",
             "minorgridcolor": "white",
             "startlinecolor": "#2a3f5f"
            },
            "type": "carpet"
           }
          ],
          "choropleth": [
           {
            "colorbar": {
             "outlinewidth": 0,
             "ticks": ""
            },
            "type": "choropleth"
           }
          ],
          "contour": [
           {
            "colorbar": {
             "outlinewidth": 0,
             "ticks": ""
            },
            "colorscale": [
             [
              0,
              "#0d0887"
             ],
             [
              0.1111111111111111,
              "#46039f"
             ],
             [
              0.2222222222222222,
              "#7201a8"
             ],
             [
              0.3333333333333333,
              "#9c179e"
             ],
             [
              0.4444444444444444,
              "#bd3786"
             ],
             [
              0.5555555555555556,
              "#d8576b"
             ],
             [
              0.6666666666666666,
              "#ed7953"
             ],
             [
              0.7777777777777778,
              "#fb9f3a"
             ],
             [
              0.8888888888888888,
              "#fdca26"
             ],
             [
              1,
              "#f0f921"
             ]
            ],
            "type": "contour"
           }
          ],
          "contourcarpet": [
           {
            "colorbar": {
             "outlinewidth": 0,
             "ticks": ""
            },
            "type": "contourcarpet"
           }
          ],
          "heatmap": [
           {
            "colorbar": {
             "outlinewidth": 0,
             "ticks": ""
            },
            "colorscale": [
             [
              0,
              "#0d0887"
             ],
             [
              0.1111111111111111,
              "#46039f"
             ],
             [
              0.2222222222222222,
              "#7201a8"
             ],
             [
              0.3333333333333333,
              "#9c179e"
             ],
             [
              0.4444444444444444,
              "#bd3786"
             ],
             [
              0.5555555555555556,
              "#d8576b"
             ],
             [
              0.6666666666666666,
              "#ed7953"
             ],
             [
              0.7777777777777778,
              "#fb9f3a"
             ],
             [
              0.8888888888888888,
              "#fdca26"
             ],
             [
              1,
              "#f0f921"
             ]
            ],
            "type": "heatmap"
           }
          ],
          "heatmapgl": [
           {
            "colorbar": {
             "outlinewidth": 0,
             "ticks": ""
            },
            "colorscale": [
             [
              0,
              "#0d0887"
             ],
             [
              0.1111111111111111,
              "#46039f"
             ],
             [
              0.2222222222222222,
              "#7201a8"
             ],
             [
              0.3333333333333333,
              "#9c179e"
             ],
             [
              0.4444444444444444,
              "#bd3786"
             ],
             [
              0.5555555555555556,
              "#d8576b"
             ],
             [
              0.6666666666666666,
              "#ed7953"
             ],
             [
              0.7777777777777778,
              "#fb9f3a"
             ],
             [
              0.8888888888888888,
              "#fdca26"
             ],
             [
              1,
              "#f0f921"
             ]
            ],
            "type": "heatmapgl"
           }
          ],
          "histogram": [
           {
            "marker": {
             "colorbar": {
              "outlinewidth": 0,
              "ticks": ""
             }
            },
            "type": "histogram"
           }
          ],
          "histogram2d": [
           {
            "colorbar": {
             "outlinewidth": 0,
             "ticks": ""
            },
            "colorscale": [
             [
              0,
              "#0d0887"
             ],
             [
              0.1111111111111111,
              "#46039f"
             ],
             [
              0.2222222222222222,
              "#7201a8"
             ],
             [
              0.3333333333333333,
              "#9c179e"
             ],
             [
              0.4444444444444444,
              "#bd3786"
             ],
             [
              0.5555555555555556,
              "#d8576b"
             ],
             [
              0.6666666666666666,
              "#ed7953"
             ],
             [
              0.7777777777777778,
              "#fb9f3a"
             ],
             [
              0.8888888888888888,
              "#fdca26"
             ],
             [
              1,
              "#f0f921"
             ]
            ],
            "type": "histogram2d"
           }
          ],
          "histogram2dcontour": [
           {
            "colorbar": {
             "outlinewidth": 0,
             "ticks": ""
            },
            "colorscale": [
             [
              0,
              "#0d0887"
             ],
             [
              0.1111111111111111,
              "#46039f"
             ],
             [
              0.2222222222222222,
              "#7201a8"
             ],
             [
              0.3333333333333333,
              "#9c179e"
             ],
             [
              0.4444444444444444,
              "#bd3786"
             ],
             [
              0.5555555555555556,
              "#d8576b"
             ],
             [
              0.6666666666666666,
              "#ed7953"
             ],
             [
              0.7777777777777778,
              "#fb9f3a"
             ],
             [
              0.8888888888888888,
              "#fdca26"
             ],
             [
              1,
              "#f0f921"
             ]
            ],
            "type": "histogram2dcontour"
           }
          ],
          "mesh3d": [
           {
            "colorbar": {
             "outlinewidth": 0,
             "ticks": ""
            },
            "type": "mesh3d"
           }
          ],
          "parcoords": [
           {
            "line": {
             "colorbar": {
              "outlinewidth": 0,
              "ticks": ""
             }
            },
            "type": "parcoords"
           }
          ],
          "pie": [
           {
            "automargin": true,
            "type": "pie"
           }
          ],
          "scatter": [
           {
            "marker": {
             "colorbar": {
              "outlinewidth": 0,
              "ticks": ""
             }
            },
            "type": "scatter"
           }
          ],
          "scatter3d": [
           {
            "line": {
             "colorbar": {
              "outlinewidth": 0,
              "ticks": ""
             }
            },
            "marker": {
             "colorbar": {
              "outlinewidth": 0,
              "ticks": ""
             }
            },
            "type": "scatter3d"
           }
          ],
          "scattercarpet": [
           {
            "marker": {
             "colorbar": {
              "outlinewidth": 0,
              "ticks": ""
             }
            },
            "type": "scattercarpet"
           }
          ],
          "scattergeo": [
           {
            "marker": {
             "colorbar": {
              "outlinewidth": 0,
              "ticks": ""
             }
            },
            "type": "scattergeo"
           }
          ],
          "scattergl": [
           {
            "marker": {
             "colorbar": {
              "outlinewidth": 0,
              "ticks": ""
             }
            },
            "type": "scattergl"
           }
          ],
          "scattermapbox": [
           {
            "marker": {
             "colorbar": {
              "outlinewidth": 0,
              "ticks": ""
             }
            },
            "type": "scattermapbox"
           }
          ],
          "scatterpolar": [
           {
            "marker": {
             "colorbar": {
              "outlinewidth": 0,
              "ticks": ""
             }
            },
            "type": "scatterpolar"
           }
          ],
          "scatterpolargl": [
           {
            "marker": {
             "colorbar": {
              "outlinewidth": 0,
              "ticks": ""
             }
            },
            "type": "scatterpolargl"
           }
          ],
          "scatterternary": [
           {
            "marker": {
             "colorbar": {
              "outlinewidth": 0,
              "ticks": ""
             }
            },
            "type": "scatterternary"
           }
          ],
          "surface": [
           {
            "colorbar": {
             "outlinewidth": 0,
             "ticks": ""
            },
            "colorscale": [
             [
              0,
              "#0d0887"
             ],
             [
              0.1111111111111111,
              "#46039f"
             ],
             [
              0.2222222222222222,
              "#7201a8"
             ],
             [
              0.3333333333333333,
              "#9c179e"
             ],
             [
              0.4444444444444444,
              "#bd3786"
             ],
             [
              0.5555555555555556,
              "#d8576b"
             ],
             [
              0.6666666666666666,
              "#ed7953"
             ],
             [
              0.7777777777777778,
              "#fb9f3a"
             ],
             [
              0.8888888888888888,
              "#fdca26"
             ],
             [
              1,
              "#f0f921"
             ]
            ],
            "type": "surface"
           }
          ],
          "table": [
           {
            "cells": {
             "fill": {
              "color": "#EBF0F8"
             },
             "line": {
              "color": "white"
             }
            },
            "header": {
             "fill": {
              "color": "#C8D4E3"
             },
             "line": {
              "color": "white"
             }
            },
            "type": "table"
           }
          ]
         },
         "layout": {
          "annotationdefaults": {
           "arrowcolor": "#2a3f5f",
           "arrowhead": 0,
           "arrowwidth": 1
          },
          "coloraxis": {
           "colorbar": {
            "outlinewidth": 0,
            "ticks": ""
           }
          },
          "colorscale": {
           "diverging": [
            [
             0,
             "#8e0152"
            ],
            [
             0.1,
             "#c51b7d"
            ],
            [
             0.2,
             "#de77ae"
            ],
            [
             0.3,
             "#f1b6da"
            ],
            [
             0.4,
             "#fde0ef"
            ],
            [
             0.5,
             "#f7f7f7"
            ],
            [
             0.6,
             "#e6f5d0"
            ],
            [
             0.7,
             "#b8e186"
            ],
            [
             0.8,
             "#7fbc41"
            ],
            [
             0.9,
             "#4d9221"
            ],
            [
             1,
             "#276419"
            ]
           ],
           "sequential": [
            [
             0,
             "#0d0887"
            ],
            [
             0.1111111111111111,
             "#46039f"
            ],
            [
             0.2222222222222222,
             "#7201a8"
            ],
            [
             0.3333333333333333,
             "#9c179e"
            ],
            [
             0.4444444444444444,
             "#bd3786"
            ],
            [
             0.5555555555555556,
             "#d8576b"
            ],
            [
             0.6666666666666666,
             "#ed7953"
            ],
            [
             0.7777777777777778,
             "#fb9f3a"
            ],
            [
             0.8888888888888888,
             "#fdca26"
            ],
            [
             1,
             "#f0f921"
            ]
           ],
           "sequentialminus": [
            [
             0,
             "#0d0887"
            ],
            [
             0.1111111111111111,
             "#46039f"
            ],
            [
             0.2222222222222222,
             "#7201a8"
            ],
            [
             0.3333333333333333,
             "#9c179e"
            ],
            [
             0.4444444444444444,
             "#bd3786"
            ],
            [
             0.5555555555555556,
             "#d8576b"
            ],
            [
             0.6666666666666666,
             "#ed7953"
            ],
            [
             0.7777777777777778,
             "#fb9f3a"
            ],
            [
             0.8888888888888888,
             "#fdca26"
            ],
            [
             1,
             "#f0f921"
            ]
           ]
          },
          "colorway": [
           "#636efa",
           "#EF553B",
           "#00cc96",
           "#ab63fa",
           "#FFA15A",
           "#19d3f3",
           "#FF6692",
           "#B6E880",
           "#FF97FF",
           "#FECB52"
          ],
          "font": {
           "color": "#2a3f5f"
          },
          "geo": {
           "bgcolor": "white",
           "lakecolor": "white",
           "landcolor": "#E5ECF6",
           "showlakes": true,
           "showland": true,
           "subunitcolor": "white"
          },
          "hoverlabel": {
           "align": "left"
          },
          "hovermode": "closest",
          "mapbox": {
           "style": "light"
          },
          "paper_bgcolor": "white",
          "plot_bgcolor": "#E5ECF6",
          "polar": {
           "angularaxis": {
            "gridcolor": "white",
            "linecolor": "white",
            "ticks": ""
           },
           "bgcolor": "#E5ECF6",
           "radialaxis": {
            "gridcolor": "white",
            "linecolor": "white",
            "ticks": ""
           }
          },
          "scene": {
           "xaxis": {
            "backgroundcolor": "#E5ECF6",
            "gridcolor": "white",
            "gridwidth": 2,
            "linecolor": "white",
            "showbackground": true,
            "ticks": "",
            "zerolinecolor": "white"
           },
           "yaxis": {
            "backgroundcolor": "#E5ECF6",
            "gridcolor": "white",
            "gridwidth": 2,
            "linecolor": "white",
            "showbackground": true,
            "ticks": "",
            "zerolinecolor": "white"
           },
           "zaxis": {
            "backgroundcolor": "#E5ECF6",
            "gridcolor": "white",
            "gridwidth": 2,
            "linecolor": "white",
            "showbackground": true,
            "ticks": "",
            "zerolinecolor": "white"
           }
          },
          "shapedefaults": {
           "line": {
            "color": "#2a3f5f"
           }
          },
          "ternary": {
           "aaxis": {
            "gridcolor": "white",
            "linecolor": "white",
            "ticks": ""
           },
           "baxis": {
            "gridcolor": "white",
            "linecolor": "white",
            "ticks": ""
           },
           "bgcolor": "#E5ECF6",
           "caxis": {
            "gridcolor": "white",
            "linecolor": "white",
            "ticks": ""
           }
          },
          "title": {
           "x": 0.05
          },
          "xaxis": {
           "automargin": true,
           "gridcolor": "white",
           "linecolor": "white",
           "ticks": "",
           "title": {
            "standoff": 15
           },
           "zerolinecolor": "white",
           "zerolinewidth": 2
          },
          "yaxis": {
           "automargin": true,
           "gridcolor": "white",
           "linecolor": "white",
           "ticks": "",
           "title": {
            "standoff": 15
           },
           "zerolinecolor": "white",
           "zerolinewidth": 2
          }
         }
        },
        "title": {
         "text": "Loss"
        },
        "xaxis": {
         "title": {
          "text": "epochs"
         }
        },
        "yaxis": {
         "title": {
          "text": ""
         }
        }
       }
      },
      "text/html": [
       "<div>                            <div id=\"d19b5890-1eb8-4da9-a171-c846198412c0\" class=\"plotly-graph-div\" style=\"height:525px; width:100%;\"></div>            <script type=\"text/javascript\">                require([\"plotly\"], function(Plotly) {                    window.PLOTLYENV=window.PLOTLYENV || {};                                    if (document.getElementById(\"d19b5890-1eb8-4da9-a171-c846198412c0\")) {                    Plotly.newPlot(                        \"d19b5890-1eb8-4da9-a171-c846198412c0\",                        [{\"line\": {\"color\": \"blue\", \"width\": 2}, \"mode\": \"lines\", \"name\": \"loss\", \"type\": \"scatter\", \"y\": [0.23106154799461365, 0.21375957131385803, 0.19713182747364044, 0.17977666854858398, 0.16130177676677704, 0.14211240410804749, 0.12372677028179169, 0.10707171261310577, 0.09337858855724335, 0.0824677050113678, 0.07453550398349762, 0.06841584295034409, 0.06413035094738007, 0.06066606938838959, 0.05841752514243126, 0.056668031960725784, 0.05518876388669014, 0.054207295179367065, 0.053501490503549576, 0.052919548004865646, 0.05236713960766792, 0.05188605934381485, 0.05151832103729248, 0.05132051929831505, 0.0510341078042984, 0.0509028397500515, 0.050677523016929626, 0.05048265680670738, 0.05038730800151825, 0.050255198031663895, 0.050103843212127686, 0.049959078431129456, 0.04995628818869591, 0.04980265721678734, 0.049731627106666565, 0.04958346486091614, 0.0495208241045475, 0.049352988600730896, 0.04933582991361618, 0.04916229844093323, 0.049177758395671844, 0.049102697521448135, 0.049040537327528, 0.04893168434500694, 0.048818185925483704, 0.048772960901260376, 0.04864424467086792, 0.04860249534249306, 0.04861340671777725, 0.048528172075748444, 0.04846733808517456, 0.04836883768439293, 0.048306748270988464, 0.0482618510723114, 0.04819934442639351, 0.048154011368751526, 0.04816165566444397, 0.048014119267463684, 0.0479881577193737, 0.0479758195579052, 0.04787272959947586, 0.047833435237407684, 0.047744229435920715, 0.047723859548568726, 0.047692086547613144, 0.047627534717321396, 0.047553651034832, 0.047533340752124786, 0.04749997332692146, 0.04742070287466049, 0.047368310391902924, 0.04728664457798004, 0.04727865755558014, 0.04729445278644562, 0.047170571982860565, 0.04717254266142845, 0.04711608216166496, 0.04707722365856171, 0.04703717678785324, 0.04701333865523338, 0.04690249264240265, 0.0469367690384388, 0.046868760138750076, 0.04677652567625046, 0.04682324454188347, 0.04673066362738609, 0.0467047281563282, 0.046731650829315186, 0.04656074568629265, 0.046542830765247345, 0.04651800915598869, 0.04650116339325905, 0.046420540660619736, 0.04641634598374367, 0.04643763601779938, 0.04634594917297363, 0.04638158529996872, 0.04633152857422829, 0.046273309737443924, 0.046205975115299225, 0.04610194265842438, 0.04616386070847511, 0.04609137773513794, 0.046076953411102295, 0.04611283540725708, 0.04596984386444092, 0.045954592525959015, 0.04595164209604263, 0.04586314782500267, 0.045809224247932434, 0.04580812528729439, 0.04569271579384804, 0.045701175928115845, 0.04569404944777489, 0.0456756129860878, 0.04563896730542183, 0.04559691995382309, 0.04549909383058548, 0.04544411972165108, 0.045503780245780945, 0.045438025146722794, 0.045388113707304, 0.04530759155750275, 0.04537086933851242, 0.045293305069208145, 0.04526130110025406, 0.045178260654211044, 0.045153144747018814, 0.04506487771868706, 0.045148011296987534, 0.04510797560214996, 0.0450621135532856, 0.044922396540641785, 0.04496462643146515, 0.04496864974498749, 0.04490261897444725, 0.044904351234436035, 0.04492602497339249, 0.04478703439235687, 0.04473914951086044, 0.04483655467629433, 0.044676803052425385, 0.04472532495856285, 0.04462769627571106, 0.04467220604419708, 0.04454106464982033, 0.04469013214111328, 0.04463887959718704, 0.04451654478907585, 0.04455065354704857, 0.04454636946320534, 0.04451519250869751, 0.044451359659433365, 0.04447314888238907, 0.044408168643713, 0.04445962607860565, 0.04438241571187973, 0.04432208091020584, 0.04436034336686134, 0.044273436069488525, 0.044304072856903076, 0.044176019728183746, 0.04411913827061653, 0.044261470437049866, 0.04421249404549599, 0.04410345107316971, 0.04403500258922577, 0.04409407451748848, 0.044217549264431, 0.04402310773730278, 0.044079963117837906, 0.04401698708534241, 0.044039782136678696, 0.044030603021383286, 0.04385548084974289, 0.044019877910614014, 0.04404805600643158, 0.043905824422836304, 0.043959841132164, 0.04388606920838356, 0.043734580278396606, 0.043686434626579285, 0.04379214718937874, 0.04373602196574211, 0.043726421892642975, 0.04379633814096451, 0.04373115301132202, 0.04370051249861717, 0.04382883012294769, 0.043798964470624924, 0.04374178498983383, 0.04370182007551193, 0.04360037297010422, 0.04371308535337448, 0.04368853569030762, 0.04377075284719467, 0.043489813804626465, 0.043470460921525955, 0.043520260602235794, 0.04353393241763115, 0.04348437860608101, 0.04356434941291809, 0.04348886013031006, 0.04344737529754639, 0.04348910227417946, 0.043464452028274536, 0.043540868908166885, 0.04342126101255417, 0.043518371880054474, 0.04349585250020027, 0.04328857734799385, 0.04347553849220276, 0.04327484965324402, 0.04330044984817505, 0.043359044939279556, 0.043342944234609604, 0.04350990429520607, 0.04333745315670967, 0.043273113667964935, 0.04348202794790268, 0.0432191863656044, 0.04316302016377449, 0.043284595012664795, 0.04320479929447174, 0.04339628666639328, 0.0431554913520813, 0.043439097702503204, 0.043294671922922134, 0.043233148753643036, 0.04317706823348999, 0.04316139966249466, 0.04310447350144386, 0.04321443662047386, 0.04293318837881088, 0.04314539581537247, 0.04304153472185135, 0.04302609711885452, 0.04300391301512718, 0.04307354614138603, 0.04312499612569809, 0.043060898780822754, 0.04315942898392677, 0.043232277035713196, 0.04294358566403389, 0.043122548609972, 0.04311849921941757, 0.04304887726902962, 0.04298350587487221, 0.04304786026477814, 0.04301529750227928, 0.04297763109207153, 0.04302321374416351, 0.042956698685884476, 0.04312966763973236, 0.04293571040034294, 0.042990755289793015, 0.0429970845580101, 0.04300657659769058, 0.043002206832170486, 0.04288807883858681, 0.04296451807022095, 0.04303882271051407, 0.04294627904891968, 0.042761124670505524, 0.042818889021873474, 0.042798999696969986, 0.042805153876543045, 0.04288335144519806, 0.04298853129148483, 0.04281620681285858, 0.04280199110507965, 0.04270608723163605, 0.04296621307730675, 0.04276813194155693, 0.0427926667034626, 0.04286084324121475, 0.043006181716918945, 0.0428026020526886, 0.04282163456082344, 0.04277943819761276, 0.042858753353357315, 0.04282749071717262, 0.04288124665617943, 0.04276970028877258, 0.042905293405056, 0.04277559742331505, 0.042731497436761856, 0.04299183562397957, 0.04274111986160278, 0.042846791446208954, 0.04261167719960213, 0.042826857417821884, 0.04266361892223358, 0.04262077063322067, 0.04277149960398674, 0.0426115058362484, 0.042895711958408356, 0.04273054748773575, 0.04268685728311539, 0.04275961592793465]}, {\"line\": {\"color\": \"red\", \"width\": 2}, \"mode\": \"lines\", \"name\": \"val_loss\", \"type\": \"scatter\", \"y\": [0.22244267165660858, 0.2156394124031067, 0.20790015161037445, 0.19787603616714478, 0.18471388518810272, 0.16834861040115356, 0.14956174790859222, 0.13026146590709686, 0.11305356025695801, 0.09899105131626129, 0.08742576837539673, 0.07824436575174332, 0.07175471633672714, 0.06680647283792496, 0.06321325898170471, 0.060956921428442, 0.05876094475388527, 0.057437870651483536, 0.05606739595532417, 0.05519989877939224, 0.054436095058918, 0.05400795862078667, 0.05349654331803322, 0.053004298359155655, 0.05252240225672722, 0.05228045582771301, 0.052085064351558685, 0.05182642117142677, 0.051554542034864426, 0.051352255046367645, 0.05120829865336418, 0.05109863355755806, 0.0509602427482605, 0.050707120448350906, 0.050660956650972366, 0.050556279718875885, 0.050423990935087204, 0.05034210532903671, 0.05020324885845184, 0.0500975102186203, 0.050004564225673676, 0.04998631030321121, 0.04983412101864815, 0.04977910965681076, 0.049787506461143494, 0.04970121011137962, 0.04967290908098221, 0.049638062715530396, 0.049552902579307556, 0.049489475786685944, 0.049417365342378616, 0.04938911274075508, 0.049346838146448135, 0.04930494725704193, 0.049317628145217896, 0.04923694208264351, 0.04915216565132141, 0.04911422356963158, 0.04916143789887428, 0.04904680326581001, 0.049023501574993134, 0.04899980500340462, 0.049002375453710556, 0.04893927276134491, 0.04891391471028328, 0.048901770263910294, 0.04884057864546776, 0.048759207129478455, 0.048729781061410904, 0.04871271550655365, 0.048627711832523346, 0.048604123294353485, 0.048580352216959, 0.04852677509188652, 0.0485529787838459, 0.048545848578214645, 0.04850585013628006, 0.04842900484800339, 0.04840278998017311, 0.04834619536995888, 0.04831261932849884, 0.04827696830034256, 0.04830067232251167, 0.04827728122472763, 0.04820713773369789, 0.04817231371998787, 0.04818485304713249, 0.04813102260231972, 0.04809466749429703, 0.048079367727041245, 0.04805339500308037, 0.04803207889199257, 0.04804564267396927, 0.04800283908843994, 0.04794446378946304, 0.047867558896541595, 0.0479021780192852, 0.047898031771183014, 0.04785485193133354, 0.04781782627105713, 0.047834351658821106, 0.04777348414063454, 0.04773300886154175, 0.04770227521657944, 0.04767654091119766, 0.04767504334449768, 0.047660887241363525, 0.04764982685446739, 0.047625839710235596, 0.04759899526834488, 0.047573696821928024, 0.047553688287734985, 0.04747868701815605, 0.047515105456113815, 0.04748883843421936, 0.047455042600631714, 0.04742053523659706, 0.04740394651889801, 0.0473618321120739, 0.04737221077084541, 0.047397829592227936, 0.047375790774822235, 0.04736608266830444, 0.04731852561235428, 0.04730024188756943, 0.04727219417691231, 0.047302089631557465, 0.04723476618528366, 0.04721318185329437, 0.04719868302345276, 0.04718407243490219, 0.047161512076854706, 0.04713594913482666, 0.04710699990391731, 0.04713081568479538, 0.04706871137022972, 0.047064971178770065, 0.047036897391080856, 0.047036826610565186, 0.047024987637996674, 0.04702534154057503, 0.04697903245687485, 0.046975091099739075, 0.0469665564596653, 0.04694874584674835, 0.04694205895066261, 0.046935778111219406, 0.04689326509833336, 0.04692234471440315, 0.0468829944729805, 0.04688706621527672, 0.0468539334833622, 0.046856850385665894, 0.04685930907726288, 0.04685370624065399, 0.04683332145214081, 0.04678570106625557, 0.046780746430158615, 0.04680273309350014, 0.04678086191415787, 0.04679138958454132, 0.046750932931900024, 0.04673082008957863, 0.04668968915939331, 0.04669276624917984, 0.04668189957737923, 0.04667114093899727, 0.04669911041855812, 0.04670552909374237, 0.04668954759836197, 0.046667929738759995, 0.04670121893286705, 0.04661746695637703, 0.04659288749098778, 0.04659653827548027, 0.04660555347800255, 0.046631380915641785, 0.04655974358320236, 0.04658633843064308, 0.046536002308130264, 0.04652757942676544, 0.04650874808430672, 0.046481262892484665, 0.04651348292827606, 0.046473074704408646, 0.046519096940755844, 0.04652522876858711, 0.0464886799454689, 0.046511534601449966, 0.04653099924325943, 0.04650657996535301, 0.04650244116783142, 0.04648825153708458, 0.046493276953697205, 0.046484269201755524, 0.04643834009766579, 0.04645869508385658, 0.04644422233104706, 0.046436551958322525, 0.04641856998205185, 0.046442512422800064, 0.04640386626124382, 0.04637850075960159, 0.04640646278858185, 0.046335652470588684, 0.04635859280824661, 0.046419572085142136, 0.046366672962903976, 0.04636196792125702, 0.04638389125466347, 0.04636145755648613, 0.046353768557310104, 0.04643766209483147, 0.04638227820396423, 0.04640192165970802, 0.04635325446724892, 0.04637729749083519, 0.04637415334582329, 0.04634729400277138, 0.046344462782144547, 0.046363286674022675, 0.046363912522792816, 0.04640042781829834, 0.04638301581144333, 0.0463443286716938, 0.04634583741426468, 0.04633449763059616, 0.04635009169578552, 0.04635082185268402, 0.04636030271649361, 0.04636935517191887, 0.046368557959795, 0.04637552797794342, 0.0463445708155632, 0.046366672962903976, 0.046384941786527634, 0.046362169086933136, 0.04634721577167511, 0.04634054750204086, 0.04634888470172882, 0.04631475359201431, 0.046376682817935944, 0.046318043023347855, 0.04630893096327782, 0.04634028673171997, 0.04634954035282135, 0.04632864147424698, 0.04633432254195213, 0.046321138739585876, 0.04636338725686073, 0.046385541558265686, 0.04636818915605545, 0.04636654630303383, 0.04636642336845398, 0.04633079096674919, 0.04639749228954315, 0.04632435739040375, 0.0463450588285923, 0.046319685876369476, 0.04633399099111557, 0.04630527272820473, 0.046350352466106415, 0.0463486984372139, 0.0463603250682354, 0.046369656920433044, 0.04641946032643318, 0.04638092964887619, 0.046380043029785156, 0.046304989606142044, 0.046337127685546875, 0.04627586901187897, 0.046270571649074554, 0.04622288793325424, 0.04628564417362213, 0.046317387372255325, 0.046318139880895615, 0.04631751403212547, 0.04625360667705536, 0.04628054425120354, 0.04628477990627289, 0.04629634693264961, 0.04627522453665733, 0.046297866851091385, 0.04626740887761116, 0.046274151653051376, 0.0463113933801651, 0.04628652334213257, 0.046303823590278625, 0.046313442289829254, 0.04630790650844574, 0.046327706426382065, 0.04632352292537689, 0.04627205431461334, 0.04630902782082558, 0.04628888890147209, 0.046367134898900986, 0.04631715640425682, 0.04633081704378128, 0.04633674398064613, 0.04630926251411438]}],                        {\"template\": {\"data\": {\"bar\": [{\"error_x\": {\"color\": \"#2a3f5f\"}, \"error_y\": {\"color\": \"#2a3f5f\"}, \"marker\": {\"line\": {\"color\": \"#E5ECF6\", \"width\": 0.5}}, \"type\": \"bar\"}], \"barpolar\": [{\"marker\": {\"line\": {\"color\": \"#E5ECF6\", \"width\": 0.5}}, \"type\": \"barpolar\"}], \"carpet\": [{\"aaxis\": {\"endlinecolor\": \"#2a3f5f\", \"gridcolor\": \"white\", \"linecolor\": \"white\", \"minorgridcolor\": \"white\", \"startlinecolor\": \"#2a3f5f\"}, \"baxis\": {\"endlinecolor\": \"#2a3f5f\", \"gridcolor\": \"white\", \"linecolor\": \"white\", \"minorgridcolor\": \"white\", \"startlinecolor\": \"#2a3f5f\"}, \"type\": \"carpet\"}], \"choropleth\": [{\"colorbar\": {\"outlinewidth\": 0, \"ticks\": \"\"}, \"type\": \"choropleth\"}], \"contour\": [{\"colorbar\": {\"outlinewidth\": 0, \"ticks\": \"\"}, \"colorscale\": [[0.0, \"#0d0887\"], [0.1111111111111111, \"#46039f\"], [0.2222222222222222, \"#7201a8\"], [0.3333333333333333, \"#9c179e\"], [0.4444444444444444, \"#bd3786\"], [0.5555555555555556, \"#d8576b\"], [0.6666666666666666, \"#ed7953\"], [0.7777777777777778, \"#fb9f3a\"], [0.8888888888888888, \"#fdca26\"], [1.0, \"#f0f921\"]], \"type\": \"contour\"}], \"contourcarpet\": [{\"colorbar\": {\"outlinewidth\": 0, \"ticks\": \"\"}, \"type\": \"contourcarpet\"}], \"heatmap\": [{\"colorbar\": {\"outlinewidth\": 0, \"ticks\": \"\"}, \"colorscale\": [[0.0, \"#0d0887\"], [0.1111111111111111, \"#46039f\"], [0.2222222222222222, \"#7201a8\"], [0.3333333333333333, \"#9c179e\"], [0.4444444444444444, \"#bd3786\"], [0.5555555555555556, \"#d8576b\"], [0.6666666666666666, \"#ed7953\"], [0.7777777777777778, \"#fb9f3a\"], [0.8888888888888888, \"#fdca26\"], [1.0, \"#f0f921\"]], \"type\": \"heatmap\"}], \"heatmapgl\": [{\"colorbar\": {\"outlinewidth\": 0, \"ticks\": \"\"}, \"colorscale\": [[0.0, \"#0d0887\"], [0.1111111111111111, \"#46039f\"], [0.2222222222222222, \"#7201a8\"], [0.3333333333333333, \"#9c179e\"], [0.4444444444444444, \"#bd3786\"], [0.5555555555555556, \"#d8576b\"], [0.6666666666666666, \"#ed7953\"], [0.7777777777777778, \"#fb9f3a\"], [0.8888888888888888, \"#fdca26\"], [1.0, \"#f0f921\"]], \"type\": \"heatmapgl\"}], \"histogram\": [{\"marker\": {\"colorbar\": {\"outlinewidth\": 0, \"ticks\": \"\"}}, \"type\": \"histogram\"}], \"histogram2d\": [{\"colorbar\": {\"outlinewidth\": 0, \"ticks\": \"\"}, \"colorscale\": [[0.0, \"#0d0887\"], [0.1111111111111111, \"#46039f\"], [0.2222222222222222, \"#7201a8\"], [0.3333333333333333, \"#9c179e\"], [0.4444444444444444, \"#bd3786\"], [0.5555555555555556, \"#d8576b\"], [0.6666666666666666, \"#ed7953\"], [0.7777777777777778, \"#fb9f3a\"], [0.8888888888888888, \"#fdca26\"], [1.0, \"#f0f921\"]], \"type\": \"histogram2d\"}], \"histogram2dcontour\": [{\"colorbar\": {\"outlinewidth\": 0, \"ticks\": \"\"}, \"colorscale\": [[0.0, \"#0d0887\"], [0.1111111111111111, \"#46039f\"], [0.2222222222222222, \"#7201a8\"], [0.3333333333333333, \"#9c179e\"], [0.4444444444444444, \"#bd3786\"], [0.5555555555555556, \"#d8576b\"], [0.6666666666666666, \"#ed7953\"], [0.7777777777777778, \"#fb9f3a\"], [0.8888888888888888, \"#fdca26\"], [1.0, \"#f0f921\"]], \"type\": \"histogram2dcontour\"}], \"mesh3d\": [{\"colorbar\": {\"outlinewidth\": 0, \"ticks\": \"\"}, \"type\": \"mesh3d\"}], \"parcoords\": [{\"line\": {\"colorbar\": {\"outlinewidth\": 0, \"ticks\": \"\"}}, \"type\": \"parcoords\"}], \"pie\": [{\"automargin\": true, \"type\": \"pie\"}], \"scatter\": [{\"marker\": {\"colorbar\": {\"outlinewidth\": 0, \"ticks\": \"\"}}, \"type\": \"scatter\"}], \"scatter3d\": [{\"line\": {\"colorbar\": {\"outlinewidth\": 0, \"ticks\": \"\"}}, \"marker\": {\"colorbar\": {\"outlinewidth\": 0, \"ticks\": \"\"}}, \"type\": \"scatter3d\"}], \"scattercarpet\": [{\"marker\": {\"colorbar\": {\"outlinewidth\": 0, \"ticks\": \"\"}}, \"type\": \"scattercarpet\"}], \"scattergeo\": [{\"marker\": {\"colorbar\": {\"outlinewidth\": 0, \"ticks\": \"\"}}, \"type\": \"scattergeo\"}], \"scattergl\": [{\"marker\": {\"colorbar\": {\"outlinewidth\": 0, \"ticks\": \"\"}}, \"type\": \"scattergl\"}], \"scattermapbox\": [{\"marker\": {\"colorbar\": {\"outlinewidth\": 0, \"ticks\": \"\"}}, \"type\": \"scattermapbox\"}], \"scatterpolar\": [{\"marker\": {\"colorbar\": {\"outlinewidth\": 0, \"ticks\": \"\"}}, \"type\": \"scatterpolar\"}], \"scatterpolargl\": [{\"marker\": {\"colorbar\": {\"outlinewidth\": 0, \"ticks\": \"\"}}, \"type\": \"scatterpolargl\"}], \"scatterternary\": [{\"marker\": {\"colorbar\": {\"outlinewidth\": 0, \"ticks\": \"\"}}, \"type\": \"scatterternary\"}], \"surface\": [{\"colorbar\": {\"outlinewidth\": 0, \"ticks\": \"\"}, \"colorscale\": [[0.0, \"#0d0887\"], [0.1111111111111111, \"#46039f\"], [0.2222222222222222, \"#7201a8\"], [0.3333333333333333, \"#9c179e\"], [0.4444444444444444, \"#bd3786\"], [0.5555555555555556, \"#d8576b\"], [0.6666666666666666, \"#ed7953\"], [0.7777777777777778, \"#fb9f3a\"], [0.8888888888888888, \"#fdca26\"], [1.0, \"#f0f921\"]], \"type\": \"surface\"}], \"table\": [{\"cells\": {\"fill\": {\"color\": \"#EBF0F8\"}, \"line\": {\"color\": \"white\"}}, \"header\": {\"fill\": {\"color\": \"#C8D4E3\"}, \"line\": {\"color\": \"white\"}}, \"type\": \"table\"}]}, \"layout\": {\"annotationdefaults\": {\"arrowcolor\": \"#2a3f5f\", \"arrowhead\": 0, \"arrowwidth\": 1}, \"coloraxis\": {\"colorbar\": {\"outlinewidth\": 0, \"ticks\": \"\"}}, \"colorscale\": {\"diverging\": [[0, \"#8e0152\"], [0.1, \"#c51b7d\"], [0.2, \"#de77ae\"], [0.3, \"#f1b6da\"], [0.4, \"#fde0ef\"], [0.5, \"#f7f7f7\"], [0.6, \"#e6f5d0\"], [0.7, \"#b8e186\"], [0.8, \"#7fbc41\"], [0.9, \"#4d9221\"], [1, \"#276419\"]], \"sequential\": [[0.0, \"#0d0887\"], [0.1111111111111111, \"#46039f\"], [0.2222222222222222, \"#7201a8\"], [0.3333333333333333, \"#9c179e\"], [0.4444444444444444, \"#bd3786\"], [0.5555555555555556, \"#d8576b\"], [0.6666666666666666, \"#ed7953\"], [0.7777777777777778, \"#fb9f3a\"], [0.8888888888888888, \"#fdca26\"], [1.0, \"#f0f921\"]], \"sequentialminus\": [[0.0, \"#0d0887\"], [0.1111111111111111, \"#46039f\"], [0.2222222222222222, \"#7201a8\"], [0.3333333333333333, \"#9c179e\"], [0.4444444444444444, \"#bd3786\"], [0.5555555555555556, \"#d8576b\"], [0.6666666666666666, \"#ed7953\"], [0.7777777777777778, \"#fb9f3a\"], [0.8888888888888888, \"#fdca26\"], [1.0, \"#f0f921\"]]}, \"colorway\": [\"#636efa\", \"#EF553B\", \"#00cc96\", \"#ab63fa\", \"#FFA15A\", \"#19d3f3\", \"#FF6692\", \"#B6E880\", \"#FF97FF\", \"#FECB52\"], \"font\": {\"color\": \"#2a3f5f\"}, \"geo\": {\"bgcolor\": \"white\", \"lakecolor\": \"white\", \"landcolor\": \"#E5ECF6\", \"showlakes\": true, \"showland\": true, \"subunitcolor\": \"white\"}, \"hoverlabel\": {\"align\": \"left\"}, \"hovermode\": \"closest\", \"mapbox\": {\"style\": \"light\"}, \"paper_bgcolor\": \"white\", \"plot_bgcolor\": \"#E5ECF6\", \"polar\": {\"angularaxis\": {\"gridcolor\": \"white\", \"linecolor\": \"white\", \"ticks\": \"\"}, \"bgcolor\": \"#E5ECF6\", \"radialaxis\": {\"gridcolor\": \"white\", \"linecolor\": \"white\", \"ticks\": \"\"}}, \"scene\": {\"xaxis\": {\"backgroundcolor\": \"#E5ECF6\", \"gridcolor\": \"white\", \"gridwidth\": 2, \"linecolor\": \"white\", \"showbackground\": true, \"ticks\": \"\", \"zerolinecolor\": \"white\"}, \"yaxis\": {\"backgroundcolor\": \"#E5ECF6\", \"gridcolor\": \"white\", \"gridwidth\": 2, \"linecolor\": \"white\", \"showbackground\": true, \"ticks\": \"\", \"zerolinecolor\": \"white\"}, \"zaxis\": {\"backgroundcolor\": \"#E5ECF6\", \"gridcolor\": \"white\", \"gridwidth\": 2, \"linecolor\": \"white\", \"showbackground\": true, \"ticks\": \"\", \"zerolinecolor\": \"white\"}}, \"shapedefaults\": {\"line\": {\"color\": \"#2a3f5f\"}}, \"ternary\": {\"aaxis\": {\"gridcolor\": \"white\", \"linecolor\": \"white\", \"ticks\": \"\"}, \"baxis\": {\"gridcolor\": \"white\", \"linecolor\": \"white\", \"ticks\": \"\"}, \"bgcolor\": \"#E5ECF6\", \"caxis\": {\"gridcolor\": \"white\", \"linecolor\": \"white\", \"ticks\": \"\"}}, \"title\": {\"x\": 0.05}, \"xaxis\": {\"automargin\": true, \"gridcolor\": \"white\", \"linecolor\": \"white\", \"ticks\": \"\", \"title\": {\"standoff\": 15}, \"zerolinecolor\": \"white\", \"zerolinewidth\": 2}, \"yaxis\": {\"automargin\": true, \"gridcolor\": \"white\", \"linecolor\": \"white\", \"ticks\": \"\", \"title\": {\"standoff\": 15}, \"zerolinecolor\": \"white\", \"zerolinewidth\": 2}}}, \"title\": {\"text\": \"Loss\"}, \"xaxis\": {\"title\": {\"text\": \"epochs\"}}, \"yaxis\": {\"title\": {\"text\": \"\"}}},                        {\"responsive\": true}                    ).then(function(){\n",
       "                            \n",
       "var gd = document.getElementById('d19b5890-1eb8-4da9-a171-c846198412c0');\n",
       "var x = new MutationObserver(function (mutations, observer) {{\n",
       "        var display = window.getComputedStyle(gd).display;\n",
       "        if (!display || display === 'none') {{\n",
       "            console.log([gd, 'removed!']);\n",
       "            Plotly.purge(gd);\n",
       "            observer.disconnect();\n",
       "        }}\n",
       "}});\n",
       "\n",
       "// Listen for the removal of the full notebook cells\n",
       "var notebookContainer = gd.closest('#notebook-container');\n",
       "if (notebookContainer) {{\n",
       "    x.observe(notebookContainer, {childList: true});\n",
       "}}\n",
       "\n",
       "// Listen for the clearing of the current output cell\n",
       "var outputEl = gd.closest('.output');\n",
       "if (outputEl) {{\n",
       "    x.observe(outputEl, {childList: true});\n",
       "}}\n",
       "\n",
       "                        })                };                });            </script>        </div>"
      ]
     },
     "metadata": {},
     "output_type": "display_data"
    }
   ],
   "source": [
    "plotly.offline.init_notebook_mode(connected=True)\n",
    "\n",
    "h1 = go.Scatter(y=history.history['loss'], \n",
    "                    mode=\"lines\", line=dict(\n",
    "                    width=2,\n",
    "                    color='blue'),\n",
    "                    name=\"loss\"\n",
    "                   )\n",
    "h2 = go.Scatter(y=history.history['val_loss'], \n",
    "                    mode=\"lines\", line=dict(\n",
    "                    width=2,\n",
    "                    color='red'),\n",
    "                    name=\"val_loss\"\n",
    "                   )\n",
    "\n",
    "data = [h1,h2]\n",
    "layout1 = go.Layout(title='Loss',\n",
    "                   xaxis=dict(title='epochs'),\n",
    "                   yaxis=dict(title=''))\n",
    "fig1 = go.Figure(data = data, layout=layout1)\n",
    "plotly.offline.iplot(fig1, filename=\"Autoencoder\")"
   ]
  },
  {
   "cell_type": "code",
   "execution_count": 55,
   "metadata": {},
   "outputs": [
    {
     "name": "stdout",
     "output_type": "stream",
     "text": [
      "Model: \"functional_1\"\n",
      "_________________________________________________________________\n",
      "Layer (type)                 Output Shape              Param #   \n",
      "=================================================================\n",
      "input_1 (InputLayer)         [(None, 84)]              0         \n",
      "_________________________________________________________________\n",
      "dense (Dense)                (None, 10)                850       \n",
      "_________________________________________________________________\n",
      "batch_normalization (BatchNo (None, 10)                40        \n",
      "_________________________________________________________________\n",
      "leaky_re_lu (LeakyReLU)      (None, 10)                0         \n",
      "_________________________________________________________________\n",
      "dense_1 (Dense)              (None, 5)                 55        \n",
      "_________________________________________________________________\n",
      "dense_2 (Dense)              (None, 10)                60        \n",
      "_________________________________________________________________\n",
      "batch_normalization_1 (Batch (None, 10)                40        \n",
      "_________________________________________________________________\n",
      "leaky_re_lu_1 (LeakyReLU)    (None, 10)                0         \n",
      "_________________________________________________________________\n",
      "dense_3 (Dense)              (None, 84)                924       \n",
      "=================================================================\n",
      "Total params: 1,969\n",
      "Trainable params: 1,929\n",
      "Non-trainable params: 40\n",
      "_________________________________________________________________\n"
     ]
    }
   ],
   "source": [
    "predict_model = load_model(filename) \n",
    "predict_model.summary()"
   ]
  },
  {
   "cell_type": "code",
   "execution_count": 56,
   "metadata": {},
   "outputs": [
    {
     "name": "stdout",
     "output_type": "stream",
     "text": [
      "[[0. 1. 0. ... 5. 0. 0.]\n",
      " [0. 0. 3. ... 0. 0. 0.]\n",
      " [2. 0. 0. ... 0. 0. 0.]\n",
      " ...\n",
      " [0. 0. 0. ... 0. 0. 0.]\n",
      " [0. 0. 0. ... 0. 0. 0.]\n",
      " [0. 0. 0. ... 0. 0. 0.]]\n"
     ]
    }
   ],
   "source": [
    "print(user_dor_matrix)\n",
    "\n",
    "preds = predict_model(user_dor_matrix)"
   ]
  },
  {
   "cell_type": "code",
   "execution_count": 57,
   "metadata": {},
   "outputs": [
    {
     "data": {
      "text/html": [
       "<div>\n",
       "<style scoped>\n",
       "    .dataframe tbody tr th:only-of-type {\n",
       "        vertical-align: middle;\n",
       "    }\n",
       "\n",
       "    .dataframe tbody tr th {\n",
       "        vertical-align: top;\n",
       "    }\n",
       "\n",
       "    .dataframe thead th {\n",
       "        text-align: right;\n",
       "    }\n",
       "</style>\n",
       "<table border=\"1\" class=\"dataframe\">\n",
       "  <thead>\n",
       "    <tr style=\"text-align: right;\">\n",
       "      <th></th>\n",
       "      <th>0</th>\n",
       "      <th>1</th>\n",
       "      <th>2</th>\n",
       "      <th>3</th>\n",
       "      <th>4</th>\n",
       "      <th>5</th>\n",
       "      <th>6</th>\n",
       "      <th>7</th>\n",
       "      <th>8</th>\n",
       "      <th>9</th>\n",
       "      <th>...</th>\n",
       "      <th>74</th>\n",
       "      <th>75</th>\n",
       "      <th>76</th>\n",
       "      <th>77</th>\n",
       "      <th>78</th>\n",
       "      <th>79</th>\n",
       "      <th>80</th>\n",
       "      <th>81</th>\n",
       "      <th>82</th>\n",
       "      <th>83</th>\n",
       "    </tr>\n",
       "  </thead>\n",
       "  <tbody>\n",
       "    <tr>\n",
       "      <th>0</th>\n",
       "      <td>3.744086e-18</td>\n",
       "      <td>1.160394e-05</td>\n",
       "      <td>0.011568</td>\n",
       "      <td>0.000061</td>\n",
       "      <td>0.000537</td>\n",
       "      <td>0.000436</td>\n",
       "      <td>5.688142e-05</td>\n",
       "      <td>0.001023</td>\n",
       "      <td>3.908634e-11</td>\n",
       "      <td>0.000347</td>\n",
       "      <td>...</td>\n",
       "      <td>0.000038</td>\n",
       "      <td>1.064379e-19</td>\n",
       "      <td>0.000800</td>\n",
       "      <td>0.051507</td>\n",
       "      <td>0.006390</td>\n",
       "      <td>0.033475</td>\n",
       "      <td>0.006183</td>\n",
       "      <td>0.001872</td>\n",
       "      <td>1.836419e-04</td>\n",
       "      <td>6.358583e-08</td>\n",
       "    </tr>\n",
       "    <tr>\n",
       "      <th>1</th>\n",
       "      <td>9.099545e-01</td>\n",
       "      <td>1.606405e-03</td>\n",
       "      <td>0.034956</td>\n",
       "      <td>0.020765</td>\n",
       "      <td>0.015756</td>\n",
       "      <td>0.050307</td>\n",
       "      <td>8.755624e-04</td>\n",
       "      <td>0.061368</td>\n",
       "      <td>3.877076e-06</td>\n",
       "      <td>0.061161</td>\n",
       "      <td>...</td>\n",
       "      <td>0.000160</td>\n",
       "      <td>8.802128e-01</td>\n",
       "      <td>0.018396</td>\n",
       "      <td>0.009652</td>\n",
       "      <td>0.004724</td>\n",
       "      <td>0.015729</td>\n",
       "      <td>0.066605</td>\n",
       "      <td>0.006465</td>\n",
       "      <td>7.655698e-02</td>\n",
       "      <td>1.017313e-05</td>\n",
       "    </tr>\n",
       "    <tr>\n",
       "      <th>2</th>\n",
       "      <td>9.887159e-03</td>\n",
       "      <td>1.797736e-03</td>\n",
       "      <td>0.014229</td>\n",
       "      <td>0.121976</td>\n",
       "      <td>0.093333</td>\n",
       "      <td>0.060242</td>\n",
       "      <td>4.136026e-02</td>\n",
       "      <td>0.088723</td>\n",
       "      <td>1.483696e-07</td>\n",
       "      <td>0.103042</td>\n",
       "      <td>...</td>\n",
       "      <td>0.000008</td>\n",
       "      <td>1.198071e-01</td>\n",
       "      <td>0.145516</td>\n",
       "      <td>0.023071</td>\n",
       "      <td>0.057592</td>\n",
       "      <td>0.044375</td>\n",
       "      <td>0.126765</td>\n",
       "      <td>0.029126</td>\n",
       "      <td>7.754916e-02</td>\n",
       "      <td>5.305335e-05</td>\n",
       "    </tr>\n",
       "    <tr>\n",
       "      <th>3</th>\n",
       "      <td>1.142374e-06</td>\n",
       "      <td>1.378953e-04</td>\n",
       "      <td>0.002847</td>\n",
       "      <td>0.000035</td>\n",
       "      <td>0.000196</td>\n",
       "      <td>0.006262</td>\n",
       "      <td>3.761712e-24</td>\n",
       "      <td>0.000014</td>\n",
       "      <td>1.000000e+00</td>\n",
       "      <td>0.000277</td>\n",
       "      <td>...</td>\n",
       "      <td>0.994249</td>\n",
       "      <td>9.671749e-07</td>\n",
       "      <td>0.000354</td>\n",
       "      <td>0.002376</td>\n",
       "      <td>0.000127</td>\n",
       "      <td>0.000058</td>\n",
       "      <td>0.000001</td>\n",
       "      <td>0.000066</td>\n",
       "      <td>1.319306e-05</td>\n",
       "      <td>7.498395e-01</td>\n",
       "    </tr>\n",
       "    <tr>\n",
       "      <th>4</th>\n",
       "      <td>2.062422e-22</td>\n",
       "      <td>4.307642e-14</td>\n",
       "      <td>0.011866</td>\n",
       "      <td>0.025414</td>\n",
       "      <td>0.000008</td>\n",
       "      <td>0.000799</td>\n",
       "      <td>1.316506e-14</td>\n",
       "      <td>0.000118</td>\n",
       "      <td>6.876323e-10</td>\n",
       "      <td>0.000122</td>\n",
       "      <td>...</td>\n",
       "      <td>0.456699</td>\n",
       "      <td>7.251455e-13</td>\n",
       "      <td>0.019296</td>\n",
       "      <td>0.004724</td>\n",
       "      <td>0.000710</td>\n",
       "      <td>0.000489</td>\n",
       "      <td>0.002067</td>\n",
       "      <td>0.005664</td>\n",
       "      <td>1.411719e-07</td>\n",
       "      <td>7.040125e-11</td>\n",
       "    </tr>\n",
       "  </tbody>\n",
       "</table>\n",
       "<p>5 rows × 84 columns</p>\n",
       "</div>"
      ],
      "text/plain": [
       "             0             1         2         3         4         5   \\\n",
       "0  3.744086e-18  1.160394e-05  0.011568  0.000061  0.000537  0.000436   \n",
       "1  9.099545e-01  1.606405e-03  0.034956  0.020765  0.015756  0.050307   \n",
       "2  9.887159e-03  1.797736e-03  0.014229  0.121976  0.093333  0.060242   \n",
       "3  1.142374e-06  1.378953e-04  0.002847  0.000035  0.000196  0.006262   \n",
       "4  2.062422e-22  4.307642e-14  0.011866  0.025414  0.000008  0.000799   \n",
       "\n",
       "             6         7             8         9   ...        74  \\\n",
       "0  5.688142e-05  0.001023  3.908634e-11  0.000347  ...  0.000038   \n",
       "1  8.755624e-04  0.061368  3.877076e-06  0.061161  ...  0.000160   \n",
       "2  4.136026e-02  0.088723  1.483696e-07  0.103042  ...  0.000008   \n",
       "3  3.761712e-24  0.000014  1.000000e+00  0.000277  ...  0.994249   \n",
       "4  1.316506e-14  0.000118  6.876323e-10  0.000122  ...  0.456699   \n",
       "\n",
       "             75        76        77        78        79        80        81  \\\n",
       "0  1.064379e-19  0.000800  0.051507  0.006390  0.033475  0.006183  0.001872   \n",
       "1  8.802128e-01  0.018396  0.009652  0.004724  0.015729  0.066605  0.006465   \n",
       "2  1.198071e-01  0.145516  0.023071  0.057592  0.044375  0.126765  0.029126   \n",
       "3  9.671749e-07  0.000354  0.002376  0.000127  0.000058  0.000001  0.000066   \n",
       "4  7.251455e-13  0.019296  0.004724  0.000710  0.000489  0.002067  0.005664   \n",
       "\n",
       "             82            83  \n",
       "0  1.836419e-04  6.358583e-08  \n",
       "1  7.655698e-02  1.017313e-05  \n",
       "2  7.754916e-02  5.305335e-05  \n",
       "3  1.319306e-05  7.498395e-01  \n",
       "4  1.411719e-07  7.040125e-11  \n",
       "\n",
       "[5 rows x 84 columns]"
      ]
     },
     "execution_count": 57,
     "metadata": {},
     "output_type": "execute_result"
    }
   ],
   "source": [
    "preds = preds.numpy()\n",
    "\n",
    "pred_data = pd.DataFrame(preds)\n",
    "pred_data.head()"
   ]
  },
  {
   "cell_type": "code",
   "execution_count": 58,
   "metadata": {},
   "outputs": [
    {
     "data": {
      "text/html": [
       "<div>\n",
       "<style scoped>\n",
       "    .dataframe tbody tr th:only-of-type {\n",
       "        vertical-align: middle;\n",
       "    }\n",
       "\n",
       "    .dataframe tbody tr th {\n",
       "        vertical-align: top;\n",
       "    }\n",
       "\n",
       "    .dataframe thead th {\n",
       "        text-align: right;\n",
       "    }\n",
       "</style>\n",
       "<table border=\"1\" class=\"dataframe\">\n",
       "  <thead>\n",
       "    <tr style=\"text-align: right;\">\n",
       "      <th></th>\n",
       "      <th>level_0</th>\n",
       "      <th>level_1</th>\n",
       "      <th>0</th>\n",
       "    </tr>\n",
       "  </thead>\n",
       "  <tbody>\n",
       "    <tr>\n",
       "      <th>0</th>\n",
       "      <td>0</td>\n",
       "      <td>0</td>\n",
       "      <td>3.744086e-18</td>\n",
       "    </tr>\n",
       "    <tr>\n",
       "      <th>1</th>\n",
       "      <td>0</td>\n",
       "      <td>1</td>\n",
       "      <td>1.160394e-05</td>\n",
       "    </tr>\n",
       "    <tr>\n",
       "      <th>2</th>\n",
       "      <td>0</td>\n",
       "      <td>2</td>\n",
       "      <td>1.156756e-02</td>\n",
       "    </tr>\n",
       "    <tr>\n",
       "      <th>3</th>\n",
       "      <td>0</td>\n",
       "      <td>3</td>\n",
       "      <td>6.106846e-05</td>\n",
       "    </tr>\n",
       "    <tr>\n",
       "      <th>4</th>\n",
       "      <td>0</td>\n",
       "      <td>4</td>\n",
       "      <td>5.371869e-04</td>\n",
       "    </tr>\n",
       "  </tbody>\n",
       "</table>\n",
       "</div>"
      ],
      "text/plain": [
       "   level_0  level_1             0\n",
       "0        0        0  3.744086e-18\n",
       "1        0        1  1.160394e-05\n",
       "2        0        2  1.156756e-02\n",
       "3        0        3  6.106846e-05\n",
       "4        0        4  5.371869e-04"
      ]
     },
     "execution_count": 58,
     "metadata": {},
     "output_type": "execute_result"
    }
   ],
   "source": [
    "pred_data = pred_data.stack().reset_index()\n",
    "pred_data.head()"
   ]
  },
  {
   "cell_type": "code",
   "execution_count": 59,
   "metadata": {},
   "outputs": [
    {
     "name": "stdout",
     "output_type": "stream",
     "text": [
      "(79128, 3)\n"
     ]
    },
    {
     "data": {
      "text/html": [
       "<div>\n",
       "<style scoped>\n",
       "    .dataframe tbody tr th:only-of-type {\n",
       "        vertical-align: middle;\n",
       "    }\n",
       "\n",
       "    .dataframe tbody tr th {\n",
       "        vertical-align: top;\n",
       "    }\n",
       "\n",
       "    .dataframe thead th {\n",
       "        text-align: right;\n",
       "    }\n",
       "</style>\n",
       "<table border=\"1\" class=\"dataframe\">\n",
       "  <thead>\n",
       "    <tr style=\"text-align: right;\">\n",
       "      <th></th>\n",
       "      <th>UserID</th>\n",
       "      <th>Dormitory</th>\n",
       "      <th>DorRating</th>\n",
       "    </tr>\n",
       "  </thead>\n",
       "  <tbody>\n",
       "    <tr>\n",
       "      <th>0</th>\n",
       "      <td>0</td>\n",
       "      <td>0</td>\n",
       "      <td>3.744086e-18</td>\n",
       "    </tr>\n",
       "    <tr>\n",
       "      <th>1</th>\n",
       "      <td>0</td>\n",
       "      <td>1</td>\n",
       "      <td>1.160394e-05</td>\n",
       "    </tr>\n",
       "    <tr>\n",
       "      <th>2</th>\n",
       "      <td>0</td>\n",
       "      <td>2</td>\n",
       "      <td>1.156756e-02</td>\n",
       "    </tr>\n",
       "    <tr>\n",
       "      <th>3</th>\n",
       "      <td>0</td>\n",
       "      <td>3</td>\n",
       "      <td>6.106846e-05</td>\n",
       "    </tr>\n",
       "    <tr>\n",
       "      <th>4</th>\n",
       "      <td>0</td>\n",
       "      <td>4</td>\n",
       "      <td>5.371869e-04</td>\n",
       "    </tr>\n",
       "  </tbody>\n",
       "</table>\n",
       "</div>"
      ],
      "text/plain": [
       "   UserID  Dormitory     DorRating\n",
       "0       0          0  3.744086e-18\n",
       "1       0          1  1.160394e-05\n",
       "2       0          2  1.156756e-02\n",
       "3       0          3  6.106846e-05\n",
       "4       0          4  5.371869e-04"
      ]
     },
     "execution_count": 59,
     "metadata": {},
     "output_type": "execute_result"
    }
   ],
   "source": [
    "pred_data.columns = ['UserID', 'Dormitory', 'DorRating']\n",
    "\n",
    "print(pred_data.shape)\n",
    "pred_data.head()"
   ]
  },
  {
   "cell_type": "code",
   "execution_count": 60,
   "metadata": {},
   "outputs": [
    {
     "data": {
      "text/html": [
       "<div>\n",
       "<style scoped>\n",
       "    .dataframe tbody tr th:only-of-type {\n",
       "        vertical-align: middle;\n",
       "    }\n",
       "\n",
       "    .dataframe tbody tr th {\n",
       "        vertical-align: top;\n",
       "    }\n",
       "\n",
       "    .dataframe thead th {\n",
       "        text-align: right;\n",
       "    }\n",
       "</style>\n",
       "<table border=\"1\" class=\"dataframe\">\n",
       "  <thead>\n",
       "    <tr style=\"text-align: right;\">\n",
       "      <th></th>\n",
       "      <th>UserID</th>\n",
       "      <th>Dormitory</th>\n",
       "      <th>DorRating</th>\n",
       "    </tr>\n",
       "  </thead>\n",
       "  <tbody>\n",
       "    <tr>\n",
       "      <th>0</th>\n",
       "      <td>10002</td>\n",
       "      <td>0</td>\n",
       "      <td>3.744086e-18</td>\n",
       "    </tr>\n",
       "    <tr>\n",
       "      <th>1</th>\n",
       "      <td>10002</td>\n",
       "      <td>1</td>\n",
       "      <td>1.160394e-05</td>\n",
       "    </tr>\n",
       "    <tr>\n",
       "      <th>2</th>\n",
       "      <td>10002</td>\n",
       "      <td>2</td>\n",
       "      <td>1.156756e-02</td>\n",
       "    </tr>\n",
       "    <tr>\n",
       "      <th>3</th>\n",
       "      <td>10002</td>\n",
       "      <td>3</td>\n",
       "      <td>6.106846e-05</td>\n",
       "    </tr>\n",
       "    <tr>\n",
       "      <th>4</th>\n",
       "      <td>10002</td>\n",
       "      <td>4</td>\n",
       "      <td>5.371869e-04</td>\n",
       "    </tr>\n",
       "  </tbody>\n",
       "</table>\n",
       "</div>"
      ],
      "text/plain": [
       "   UserID  Dormitory     DorRating\n",
       "0   10002          0  3.744086e-18\n",
       "1   10002          1  1.160394e-05\n",
       "2   10002          2  1.156756e-02\n",
       "3   10002          3  6.106846e-05\n",
       "4   10002          4  5.371869e-04"
      ]
     },
     "execution_count": 60,
     "metadata": {},
     "output_type": "execute_result"
    }
   ],
   "source": [
    "pred_data['UserID'] = pred_data['UserID'].map(lambda value: users[value])\n",
    "\n",
    "pred_data.head()"
   ]
  },
  {
   "cell_type": "code",
   "execution_count": 61,
   "metadata": {},
   "outputs": [
    {
     "data": {
      "text/html": [
       "<div>\n",
       "<style scoped>\n",
       "    .dataframe tbody tr th:only-of-type {\n",
       "        vertical-align: middle;\n",
       "    }\n",
       "\n",
       "    .dataframe tbody tr th {\n",
       "        vertical-align: top;\n",
       "    }\n",
       "\n",
       "    .dataframe thead th {\n",
       "        text-align: right;\n",
       "    }\n",
       "</style>\n",
       "<table border=\"1\" class=\"dataframe\">\n",
       "  <thead>\n",
       "    <tr style=\"text-align: right;\">\n",
       "      <th></th>\n",
       "      <th>UserID</th>\n",
       "      <th>Dormitory</th>\n",
       "      <th>DorRating</th>\n",
       "    </tr>\n",
       "  </thead>\n",
       "  <tbody>\n",
       "    <tr>\n",
       "      <th>0</th>\n",
       "      <td>10002</td>\n",
       "      <td>At Home</td>\n",
       "      <td>3.744086e-18</td>\n",
       "    </tr>\n",
       "    <tr>\n",
       "      <th>1</th>\n",
       "      <td>10002</td>\n",
       "      <td>BPN</td>\n",
       "      <td>1.160394e-05</td>\n",
       "    </tr>\n",
       "    <tr>\n",
       "      <th>2</th>\n",
       "      <td>10002</td>\n",
       "      <td>DHAVA PLACE</td>\n",
       "      <td>1.156756e-02</td>\n",
       "    </tr>\n",
       "    <tr>\n",
       "      <th>3</th>\n",
       "      <td>10002</td>\n",
       "      <td>I place</td>\n",
       "      <td>6.106846e-05</td>\n",
       "    </tr>\n",
       "    <tr>\n",
       "      <th>4</th>\n",
       "      <td>10002</td>\n",
       "      <td>Inroom</td>\n",
       "      <td>5.371869e-04</td>\n",
       "    </tr>\n",
       "  </tbody>\n",
       "</table>\n",
       "</div>"
      ],
      "text/plain": [
       "   UserID     Dormitory     DorRating\n",
       "0   10002       At Home  3.744086e-18\n",
       "1   10002           BPN  1.160394e-05\n",
       "2   10002  DHAVA PLACE   1.156756e-02\n",
       "3   10002       I place  6.106846e-05\n",
       "4   10002        Inroom  5.371869e-04"
      ]
     },
     "execution_count": 61,
     "metadata": {},
     "output_type": "execute_result"
    }
   ],
   "source": [
    "pred_data['Dormitory'] = pred_data['Dormitory'].map(lambda value: dors[value])\n",
    "\n",
    "pred_data.head()"
   ]
  },
  {
   "cell_type": "code",
   "execution_count": 62,
   "metadata": {},
   "outputs": [],
   "source": [
    "pred_data.to_sql(\"pred_data\", connect, if_exists='fail')"
   ]
  },
  {
   "cell_type": "code",
   "execution_count": 67,
   "metadata": {},
   "outputs": [
    {
     "name": "stdout",
     "output_type": "stream",
     "text": [
      " * sqlite:///dor_rec.sqlite3\n",
      "Done.\n"
     ]
    },
    {
     "data": {
      "text/html": [
       "<table>\n",
       "    <tr>\n",
       "        <th>index</th>\n",
       "        <th>UserID</th>\n",
       "        <th>Dormitory</th>\n",
       "        <th>DorRating</th>\n",
       "    </tr>\n",
       "    <tr>\n",
       "        <td>58</td>\n",
       "        <td>10002</td>\n",
       "        <td>ระพีพรรณ</td>\n",
       "        <td>0.9999997615814209</td>\n",
       "    </tr>\n",
       "    <tr>\n",
       "        <td>34</td>\n",
       "        <td>10002</td>\n",
       "        <td>ทิพย์ชยพล</td>\n",
       "        <td>0.999030590057373</td>\n",
       "    </tr>\n",
       "    <tr>\n",
       "        <td>33</td>\n",
       "        <td>10002</td>\n",
       "        <td>ทับเเก้ว </td>\n",
       "        <td>0.6764224171638489</td>\n",
       "    </tr>\n",
       "    <tr>\n",
       "        <td>40</td>\n",
       "        <td>10002</td>\n",
       "        <td>นาราชา เรสซิเดนท์</td>\n",
       "        <td>0.6287815570831299</td>\n",
       "    </tr>\n",
       "    <tr>\n",
       "        <td>19</td>\n",
       "        <td>10002</td>\n",
       "        <td>กินนอน</td>\n",
       "        <td>0.4559347927570343</td>\n",
       "    </tr>\n",
       "    <tr>\n",
       "        <td>54</td>\n",
       "        <td>10002</td>\n",
       "        <td>บ้านไทย</td>\n",
       "        <td>0.273189902305603</td>\n",
       "    </tr>\n",
       "    <tr>\n",
       "        <td>62</td>\n",
       "        <td>10002</td>\n",
       "        <td>วานิลลา</td>\n",
       "        <td>0.2301681637763977</td>\n",
       "    </tr>\n",
       "    <tr>\n",
       "        <td>12</td>\n",
       "        <td>10002</td>\n",
       "        <td>The loft condo</td>\n",
       "        <td>0.14636507630348206</td>\n",
       "    </tr>\n",
       "    <tr>\n",
       "        <td>67</td>\n",
       "        <td>10002</td>\n",
       "        <td>สตรีบ้านอุบลวรรณ</td>\n",
       "        <td>0.12585550546646118</td>\n",
       "    </tr>\n",
       "    <tr>\n",
       "        <td>69</td>\n",
       "        <td>10002</td>\n",
       "        <td>สนามจันทร์ คอร์ส</td>\n",
       "        <td>0.10855311155319214</td>\n",
       "    </tr>\n",
       "</table>"
      ],
      "text/plain": [
       "[(58, 10002, 'ระพีพรรณ', 0.9999997615814209),\n",
       " (34, 10002, 'ทิพย์ชยพล', 0.999030590057373),\n",
       " (33, 10002, 'ทับเเก้ว ', 0.6764224171638489),\n",
       " (40, 10002, 'นาราชา เรสซิเดนท์', 0.6287815570831299),\n",
       " (19, 10002, 'กินนอน', 0.4559347927570343),\n",
       " (54, 10002, 'บ้านไทย', 0.273189902305603),\n",
       " (62, 10002, 'วานิลลา', 0.2301681637763977),\n",
       " (12, 10002, 'The loft condo', 0.14636507630348206),\n",
       " (67, 10002, 'สตรีบ้านอุบลวรรณ', 0.12585550546646118),\n",
       " (69, 10002, 'สนามจันทร์ คอร์ส', 0.10855311155319214)]"
      ]
     },
     "execution_count": 67,
     "metadata": {},
     "output_type": "execute_result"
    }
   ],
   "source": [
    "%%sql\n",
    "SELECT * \n",
    "FROM pred_data \n",
    "WHERE UserID=10002\n",
    "ORDER BY DorRating DESC\n",
    "LIMIT 10"
   ]
  },
  {
   "cell_type": "code",
   "execution_count": 68,
   "metadata": {},
   "outputs": [],
   "source": [
    "iduser2=10002"
   ]
  },
  {
   "cell_type": "code",
   "execution_count": 69,
   "metadata": {},
   "outputs": [
    {
     "name": "stdout",
     "output_type": "stream",
     "text": [
      " * sqlite:///dor_rec.sqlite3\n",
      "Done.\n"
     ]
    },
    {
     "data": {
      "text/html": [
       "<table>\n",
       "    <tr>\n",
       "        <th>index</th>\n",
       "        <th>UserID</th>\n",
       "        <th>Dormitory</th>\n",
       "        <th>DorRating</th>\n",
       "    </tr>\n",
       "    <tr>\n",
       "        <td>58</td>\n",
       "        <td>10002</td>\n",
       "        <td>ระพีพรรณ</td>\n",
       "        <td>0.9999997615814209</td>\n",
       "    </tr>\n",
       "    <tr>\n",
       "        <td>34</td>\n",
       "        <td>10002</td>\n",
       "        <td>ทิพย์ชยพล</td>\n",
       "        <td>0.999030590057373</td>\n",
       "    </tr>\n",
       "    <tr>\n",
       "        <td>33</td>\n",
       "        <td>10002</td>\n",
       "        <td>ทับเเก้ว </td>\n",
       "        <td>0.6764224171638489</td>\n",
       "    </tr>\n",
       "    <tr>\n",
       "        <td>40</td>\n",
       "        <td>10002</td>\n",
       "        <td>นาราชา เรสซิเดนท์</td>\n",
       "        <td>0.6287815570831299</td>\n",
       "    </tr>\n",
       "    <tr>\n",
       "        <td>19</td>\n",
       "        <td>10002</td>\n",
       "        <td>กินนอน</td>\n",
       "        <td>0.4559347927570343</td>\n",
       "    </tr>\n",
       "    <tr>\n",
       "        <td>54</td>\n",
       "        <td>10002</td>\n",
       "        <td>บ้านไทย</td>\n",
       "        <td>0.273189902305603</td>\n",
       "    </tr>\n",
       "    <tr>\n",
       "        <td>62</td>\n",
       "        <td>10002</td>\n",
       "        <td>วานิลลา</td>\n",
       "        <td>0.2301681637763977</td>\n",
       "    </tr>\n",
       "    <tr>\n",
       "        <td>12</td>\n",
       "        <td>10002</td>\n",
       "        <td>The loft condo</td>\n",
       "        <td>0.14636507630348206</td>\n",
       "    </tr>\n",
       "    <tr>\n",
       "        <td>67</td>\n",
       "        <td>10002</td>\n",
       "        <td>สตรีบ้านอุบลวรรณ</td>\n",
       "        <td>0.12585550546646118</td>\n",
       "    </tr>\n",
       "    <tr>\n",
       "        <td>69</td>\n",
       "        <td>10002</td>\n",
       "        <td>สนามจันทร์ คอร์ส</td>\n",
       "        <td>0.10855311155319214</td>\n",
       "    </tr>\n",
       "</table>"
      ],
      "text/plain": [
       "[(58, 10002, 'ระพีพรรณ', 0.9999997615814209),\n",
       " (34, 10002, 'ทิพย์ชยพล', 0.999030590057373),\n",
       " (33, 10002, 'ทับเเก้ว ', 0.6764224171638489),\n",
       " (40, 10002, 'นาราชา เรสซิเดนท์', 0.6287815570831299),\n",
       " (19, 10002, 'กินนอน', 0.4559347927570343),\n",
       " (54, 10002, 'บ้านไทย', 0.273189902305603),\n",
       " (62, 10002, 'วานิลลา', 0.2301681637763977),\n",
       " (12, 10002, 'The loft condo', 0.14636507630348206),\n",
       " (67, 10002, 'สตรีบ้านอุบลวรรณ', 0.12585550546646118),\n",
       " (69, 10002, 'สนามจันทร์ คอร์ส', 0.10855311155319214)]"
      ]
     },
     "execution_count": 69,
     "metadata": {},
     "output_type": "execute_result"
    }
   ],
   "source": [
    "%%sql\n",
    "SELECT * \n",
    "FROM pred_data \n",
    "WHERE UserID == {iduser2}\n",
    "ORDER BY DorRating DESC\n",
    "LIMIT 10"
   ]
  },
  {
   "cell_type": "code",
   "execution_count": null,
   "metadata": {},
   "outputs": [],
   "source": []
  },
  {
   "cell_type": "code",
   "execution_count": null,
   "metadata": {},
   "outputs": [],
   "source": []
  },
  {
   "cell_type": "code",
   "execution_count": 80,
   "metadata": {},
   "outputs": [
    {
     "ename": "SyntaxError",
     "evalue": "invalid syntax (<ipython-input-80-bd8be5e7ef5f>, line 1)",
     "output_type": "error",
     "traceback": [
      "\u001b[1;36m  File \u001b[1;32m\"<ipython-input-80-bd8be5e7ef5f>\"\u001b[1;36m, line \u001b[1;32m1\u001b[0m\n\u001b[1;33m    ipython nbconvert — to script abc.ipynb\u001b[0m\n\u001b[1;37m            ^\u001b[0m\n\u001b[1;31mSyntaxError\u001b[0m\u001b[1;31m:\u001b[0m invalid syntax\n"
     ]
    }
   ],
   "source": [
    "ipython nbconvert — to script abc.ipynb"
   ]
  },
  {
   "cell_type": "code",
   "execution_count": null,
   "metadata": {},
   "outputs": [],
   "source": []
  }
 ],
 "metadata": {
  "kernelspec": {
   "display_name": "Python 3",
   "language": "python",
   "name": "python3"
  },
  "language_info": {
   "codemirror_mode": {
    "name": "ipython",
    "version": 3
   },
   "file_extension": ".py",
   "mimetype": "text/x-python",
   "name": "python",
   "nbconvert_exporter": "python",
   "pygments_lexer": "ipython3",
   "version": "3.8.3"
  }
 },
 "nbformat": 4,
 "nbformat_minor": 4
}
